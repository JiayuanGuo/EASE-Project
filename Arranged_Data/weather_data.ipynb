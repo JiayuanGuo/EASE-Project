{
 "cells": [
  {
   "cell_type": "code",
   "execution_count": 60,
   "metadata": {
    "collapsed": true
   },
   "outputs": [],
   "source": [
    "import pandas as pd\n",
    "import numpy as np\n",
    "import difflib"
   ]
  },
  {
   "cell_type": "code",
   "execution_count": 118,
   "metadata": {
    "collapsed": false
   },
   "outputs": [
    {
     "data": {
      "text/html": [
       "<div>\n",
       "<table border=\"1\" class=\"dataframe\">\n",
       "  <thead>\n",
       "    <tr style=\"text-align: right;\">\n",
       "      <th></th>\n",
       "      <th>WBAN</th>\n",
       "      <th>Location</th>\n",
       "      <th>Latitude</th>\n",
       "      <th>Longitude</th>\n",
       "    </tr>\n",
       "  </thead>\n",
       "  <tbody>\n",
       "    <tr>\n",
       "      <th>0</th>\n",
       "      <td>3011</td>\n",
       "      <td>TELLURIDE</td>\n",
       "      <td>37.954</td>\n",
       "      <td>-107.901</td>\n",
       "    </tr>\n",
       "    <tr>\n",
       "      <th>1</th>\n",
       "      <td>3012</td>\n",
       "      <td>TAOS</td>\n",
       "      <td>36.458</td>\n",
       "      <td>-105.667</td>\n",
       "    </tr>\n",
       "    <tr>\n",
       "      <th>2</th>\n",
       "      <td>3013</td>\n",
       "      <td>LAMAR</td>\n",
       "      <td>38.070</td>\n",
       "      <td>-102.688</td>\n",
       "    </tr>\n",
       "    <tr>\n",
       "      <th>3</th>\n",
       "      <td>3014</td>\n",
       "      <td>TORREON</td>\n",
       "      <td>35.789</td>\n",
       "      <td>-107.248</td>\n",
       "    </tr>\n",
       "    <tr>\n",
       "      <th>4</th>\n",
       "      <td>3016</td>\n",
       "      <td>RIFLE</td>\n",
       "      <td>39.526</td>\n",
       "      <td>-107.726</td>\n",
       "    </tr>\n",
       "  </tbody>\n",
       "</table>\n",
       "</div>"
      ],
      "text/plain": [
       "   WBAN   Location  Latitude  Longitude\n",
       "0  3011  TELLURIDE    37.954   -107.901\n",
       "1  3012       TAOS    36.458   -105.667\n",
       "2  3013      LAMAR    38.070   -102.688\n",
       "3  3014    TORREON    35.789   -107.248\n",
       "4  3016      RIFLE    39.526   -107.726"
      ]
     },
     "execution_count": 118,
     "metadata": {},
     "output_type": "execute_result"
    }
   ],
   "source": [
    "#station data\n",
    "weather_station = pd.read_csv(\"../Original_Data/Final_weather_data/station_list.txt\",delimiter='|')\n",
    "weather_table = weather_station[['WBAN','Name','Latitude','Longitude']]\n",
    "weather_table.columns = ['WBAN','Location','Latitude','Longitude']\n",
    "weather_table.head()"
   ]
  },
  {
   "cell_type": "code",
   "execution_count": 120,
   "metadata": {
    "collapsed": false
   },
   "outputs": [
    {
     "data": {
      "text/html": [
       "<div>\n",
       "<table border=\"1\" class=\"dataframe\">\n",
       "  <thead>\n",
       "    <tr style=\"text-align: right;\">\n",
       "      <th></th>\n",
       "      <th>WBAN</th>\n",
       "      <th>Avg Temp</th>\n",
       "      <th>Total Monthly Precip</th>\n",
       "      <th>Avg Wind Speed</th>\n",
       "    </tr>\n",
       "  </thead>\n",
       "  <tbody>\n",
       "    <tr>\n",
       "      <th>0</th>\n",
       "      <td>3013</td>\n",
       "      <td>74.8</td>\n",
       "      <td>1.58</td>\n",
       "      <td>8.5</td>\n",
       "    </tr>\n",
       "    <tr>\n",
       "      <th>1</th>\n",
       "      <td>3017</td>\n",
       "      <td>73.4</td>\n",
       "      <td>1.01</td>\n",
       "      <td>9.7</td>\n",
       "    </tr>\n",
       "    <tr>\n",
       "      <th>2</th>\n",
       "      <td>3103</td>\n",
       "      <td>68.4</td>\n",
       "      <td>1.79</td>\n",
       "      <td>5.2</td>\n",
       "    </tr>\n",
       "    <tr>\n",
       "      <th>3</th>\n",
       "      <td>3145</td>\n",
       "      <td>96.4</td>\n",
       "      <td>0.12</td>\n",
       "      <td>9.8</td>\n",
       "    </tr>\n",
       "    <tr>\n",
       "      <th>4</th>\n",
       "      <td>3160</td>\n",
       "      <td>88.4</td>\n",
       "      <td>T</td>\n",
       "      <td>9.7</td>\n",
       "    </tr>\n",
       "  </tbody>\n",
       "</table>\n",
       "</div>"
      ],
      "text/plain": [
       "   WBAN  Avg Temp  Total Monthly Precip  Avg Wind Speed\n",
       "0  3013      74.8                  1.58             8.5\n",
       "1  3017      73.4                  1.01             9.7\n",
       "2  3103      68.4                  1.79             5.2\n",
       "3  3145      96.4                  0.12             9.8\n",
       "4  3160      88.4                   T               9.7"
      ]
     },
     "execution_count": 120,
     "metadata": {},
     "output_type": "execute_result"
    }
   ],
   "source": [
    "#try out dataset from 199607\n",
    "dailyavg9607 = pd.read_csv(\"../Original_Data/Final_weather_data/199607dailyavg.txt\",delimiter=',')\n",
    "weather_199607 = dailyavg9607.rename(columns = {'Wban Number':'WBAN'})\n",
    "weather_199607_mod = weather_199607.iloc[:,[0,6,26,-3]].head()\n",
    "weather_199607_mod"
   ]
  },
  {
   "cell_type": "code",
   "execution_count": 121,
   "metadata": {
    "collapsed": false
   },
   "outputs": [
    {
     "data": {
      "text/html": [
       "<div>\n",
       "<table border=\"1\" class=\"dataframe\">\n",
       "  <thead>\n",
       "    <tr style=\"text-align: right;\">\n",
       "      <th></th>\n",
       "      <th>YYMM</th>\n",
       "      <th>WBAN</th>\n",
       "      <th>Location</th>\n",
       "      <th>Latitude</th>\n",
       "      <th>Longitude</th>\n",
       "      <th>Avg Temp</th>\n",
       "      <th>Total Monthly Precip</th>\n",
       "      <th>Avg Wind Speed</th>\n",
       "    </tr>\n",
       "  </thead>\n",
       "  <tbody>\n",
       "    <tr>\n",
       "      <th>0</th>\n",
       "      <td>199607</td>\n",
       "      <td>3011</td>\n",
       "      <td>TELLURIDE</td>\n",
       "      <td>37.954</td>\n",
       "      <td>-107.901</td>\n",
       "      <td>NaN</td>\n",
       "      <td>NaN</td>\n",
       "      <td>NaN</td>\n",
       "    </tr>\n",
       "    <tr>\n",
       "      <th>1</th>\n",
       "      <td>199607</td>\n",
       "      <td>3012</td>\n",
       "      <td>TAOS</td>\n",
       "      <td>36.458</td>\n",
       "      <td>-105.667</td>\n",
       "      <td>NaN</td>\n",
       "      <td>NaN</td>\n",
       "      <td>NaN</td>\n",
       "    </tr>\n",
       "    <tr>\n",
       "      <th>2</th>\n",
       "      <td>199607</td>\n",
       "      <td>3013</td>\n",
       "      <td>LAMAR</td>\n",
       "      <td>38.070</td>\n",
       "      <td>-102.688</td>\n",
       "      <td>74.8</td>\n",
       "      <td>1.58</td>\n",
       "      <td>8.5</td>\n",
       "    </tr>\n",
       "    <tr>\n",
       "      <th>3</th>\n",
       "      <td>199607</td>\n",
       "      <td>3014</td>\n",
       "      <td>TORREON</td>\n",
       "      <td>35.789</td>\n",
       "      <td>-107.248</td>\n",
       "      <td>NaN</td>\n",
       "      <td>NaN</td>\n",
       "      <td>NaN</td>\n",
       "    </tr>\n",
       "    <tr>\n",
       "      <th>4</th>\n",
       "      <td>199607</td>\n",
       "      <td>3016</td>\n",
       "      <td>RIFLE</td>\n",
       "      <td>39.526</td>\n",
       "      <td>-107.726</td>\n",
       "      <td>NaN</td>\n",
       "      <td>NaN</td>\n",
       "      <td>NaN</td>\n",
       "    </tr>\n",
       "  </tbody>\n",
       "</table>\n",
       "</div>"
      ],
      "text/plain": [
       "     YYMM  WBAN   Location  Latitude  Longitude  Avg Temp  \\\n",
       "0  199607  3011  TELLURIDE    37.954   -107.901       NaN   \n",
       "1  199607  3012       TAOS    36.458   -105.667       NaN   \n",
       "2  199607  3013      LAMAR    38.070   -102.688      74.8   \n",
       "3  199607  3014    TORREON    35.789   -107.248       NaN   \n",
       "4  199607  3016      RIFLE    39.526   -107.726       NaN   \n",
       "\n",
       "   Total Monthly Precip  Avg Wind Speed  \n",
       "0                   NaN             NaN  \n",
       "1                   NaN             NaN  \n",
       "2                  1.58             8.5  \n",
       "3                   NaN             NaN  \n",
       "4                   NaN             NaN  "
      ]
     },
     "execution_count": 121,
     "metadata": {},
     "output_type": "execute_result"
    }
   ],
   "source": [
    "#merge dataset\n",
    "Final_weather_table = pd.merge(left=weather_table,right=weather_199607_mod, how='left', left_on='WBAN', right_on='WBAN')\n",
    "Final_weather_table.insert(0, 'YYMM', '199607')\n",
    "Final_weather_table.head()"
   ]
  },
  {
   "cell_type": "code",
   "execution_count": null,
   "metadata": {
    "collapsed": false
   },
   "outputs": [],
   "source": []
  },
  {
   "cell_type": "code",
   "execution_count": null,
   "metadata": {
    "collapsed": false
   },
   "outputs": [],
   "source": []
  },
  {
   "cell_type": "code",
   "execution_count": null,
   "metadata": {
    "collapsed": true
   },
   "outputs": [],
   "source": []
  }
 ],
 "metadata": {
  "anaconda-cloud": {},
  "kernelspec": {
   "display_name": "Python [default]",
   "language": "python",
   "name": "python3"
  },
  "language_info": {
   "codemirror_mode": {
    "name": "ipython",
    "version": 3
   },
   "file_extension": ".py",
   "mimetype": "text/x-python",
   "name": "python",
   "nbconvert_exporter": "python",
   "pygments_lexer": "ipython3",
   "version": "3.5.2"
  }
 },
 "nbformat": 4,
 "nbformat_minor": 2
}
