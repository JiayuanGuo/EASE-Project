{
 "cells": [
  {
   "cell_type": "code",
   "execution_count": 1,
   "metadata": {
    "collapsed": true
   },
   "outputs": [],
   "source": [
    "import pandas as pd\n",
    "import numpy as np"
   ]
  },
  {
   "cell_type": "code",
   "execution_count": 2,
   "metadata": {
    "collapsed": false
   },
   "outputs": [
    {
     "data": {
      "text/html": [
       "<div>\n",
       "<table border=\"1\" class=\"dataframe\">\n",
       "  <thead>\n",
       "    <tr style=\"text-align: right;\">\n",
       "      <th></th>\n",
       "      <th>Unnamed: 0</th>\n",
       "      <th>YYMM</th>\n",
       "      <th>State</th>\n",
       "      <th>WBAN</th>\n",
       "      <th>Latitude</th>\n",
       "      <th>Longitude</th>\n",
       "      <th>AvgTemp</th>\n",
       "      <th>TotalMonthlyPrecip</th>\n",
       "      <th>Avgwindspeed</th>\n",
       "    </tr>\n",
       "  </thead>\n",
       "  <tbody>\n",
       "    <tr>\n",
       "      <th>0</th>\n",
       "      <td>0</td>\n",
       "      <td>199607</td>\n",
       "      <td>AK</td>\n",
       "      <td>25704</td>\n",
       "      <td>51.883</td>\n",
       "      <td>-176.650</td>\n",
       "      <td>51.6</td>\n",
       "      <td>0.22</td>\n",
       "      <td>NaN</td>\n",
       "    </tr>\n",
       "    <tr>\n",
       "      <th>1</th>\n",
       "      <td>1</td>\n",
       "      <td>199607</td>\n",
       "      <td>AL</td>\n",
       "      <td>13894</td>\n",
       "      <td>30.688</td>\n",
       "      <td>-88.246</td>\n",
       "      <td>81.7</td>\n",
       "      <td>4.95</td>\n",
       "      <td>5.6</td>\n",
       "    </tr>\n",
       "    <tr>\n",
       "      <th>2</th>\n",
       "      <td>2</td>\n",
       "      <td>199607</td>\n",
       "      <td>AL</td>\n",
       "      <td>13895</td>\n",
       "      <td>32.301</td>\n",
       "      <td>-86.394</td>\n",
       "      <td>80.8</td>\n",
       "      <td>8.72</td>\n",
       "      <td>4.8</td>\n",
       "    </tr>\n",
       "    <tr>\n",
       "      <th>3</th>\n",
       "      <td>3</td>\n",
       "      <td>199607</td>\n",
       "      <td>AL</td>\n",
       "      <td>3856</td>\n",
       "      <td>34.644</td>\n",
       "      <td>-86.786</td>\n",
       "      <td>78.2</td>\n",
       "      <td>4.7</td>\n",
       "      <td>5.6</td>\n",
       "    </tr>\n",
       "    <tr>\n",
       "      <th>4</th>\n",
       "      <td>4</td>\n",
       "      <td>199607</td>\n",
       "      <td>AR</td>\n",
       "      <td>13964</td>\n",
       "      <td>35.334</td>\n",
       "      <td>-94.365</td>\n",
       "      <td>79.7</td>\n",
       "      <td>7.67</td>\n",
       "      <td>5.3</td>\n",
       "    </tr>\n",
       "  </tbody>\n",
       "</table>\n",
       "</div>"
      ],
      "text/plain": [
       "   Unnamed: 0    YYMM State   WBAN  Latitude  Longitude AvgTemp  \\\n",
       "0           0  199607    AK  25704    51.883   -176.650    51.6   \n",
       "1           1  199607    AL  13894    30.688    -88.246    81.7   \n",
       "2           2  199607    AL  13895    32.301    -86.394    80.8   \n",
       "3           3  199607    AL   3856    34.644    -86.786    78.2   \n",
       "4           4  199607    AR  13964    35.334    -94.365    79.7   \n",
       "\n",
       "  TotalMonthlyPrecip Avgwindspeed  \n",
       "0               0.22          NaN  \n",
       "1               4.95          5.6  \n",
       "2               8.72          4.8  \n",
       "3                4.7          5.6  \n",
       "4               7.67          5.3  "
      ]
     },
     "execution_count": 2,
     "metadata": {},
     "output_type": "execute_result"
    }
   ],
   "source": [
    "weather_total = pd.read_csv('final_weather_table.txt',low_memory=False)\n",
    "weather_total.head()"
   ]
  },
  {
   "cell_type": "code",
   "execution_count": 72,
   "metadata": {
    "collapsed": false
   },
   "outputs": [],
   "source": [
    "windspeed = weather_total.iloc[:,[1,2,3,-1]]\n",
    "precip = weather_total.iloc[:,[1,2,3,-2]]\n",
    "temp = weather_total.iloc[:,[1,2,3,-3]]"
   ]
  },
  {
   "cell_type": "code",
   "execution_count": 59,
   "metadata": {
    "collapsed": true
   },
   "outputs": [],
   "source": [
    "statelist = ['AK', 'AL', 'AR', 'AZ', 'CA', 'CO', 'CT', 'DC', 'DE', 'FL', 'GA', 'HI', \n",
    "             'IA', 'ID', 'IL', 'IN', 'KS', 'KY', 'LA', 'MA', 'MD', 'ME', 'MI', 'MN', \n",
    "             'MO', 'MS', 'MT', 'NC', 'ND', 'NE', 'NH', 'NJ', 'NM', 'NV', 'NY', 'OH', \n",
    "             'OK', 'OR', 'PA', 'RI', 'SC', 'SD', 'TN', 'TX', 'UT', 'VA', 'VT', 'WA', 'WI', 'WV', 'WY']"
   ]
  },
  {
   "cell_type": "code",
   "execution_count": 73,
   "metadata": {
    "collapsed": false
   },
   "outputs": [
    {
     "name": "stderr",
     "output_type": "stream",
     "text": [
      "C:\\Users\\Jiayuan\\Miniconda3\\lib\\site-packages\\ipykernel\\__main__.py:2: SettingWithCopyWarning: \n",
      "A value is trying to be set on a copy of a slice from a DataFrame\n",
      "\n",
      "See the caveats in the documentation: http://pandas.pydata.org/pandas-docs/stable/indexing.html#indexing-view-versus-copy\n",
      "  from ipykernel import kernelapp as app\n",
      "C:\\Users\\Jiayuan\\Miniconda3\\lib\\site-packages\\ipykernel\\__main__.py:3: SettingWithCopyWarning: \n",
      "A value is trying to be set on a copy of a slice from a DataFrame\n",
      "\n",
      "See the caveats in the documentation: http://pandas.pydata.org/pandas-docs/stable/indexing.html#indexing-view-versus-copy\n",
      "  app.launch_new_instance()\n"
     ]
    },
    {
     "data": {
      "text/html": [
       "<div>\n",
       "<table border=\"1\" class=\"dataframe\">\n",
       "  <thead>\n",
       "    <tr style=\"text-align: right;\">\n",
       "      <th></th>\n",
       "      <th>YYMM</th>\n",
       "      <th>State</th>\n",
       "      <th>WBAN</th>\n",
       "      <th>Avgwindspeed</th>\n",
       "    </tr>\n",
       "  </thead>\n",
       "  <tbody>\n",
       "    <tr>\n",
       "      <th>1</th>\n",
       "      <td>199607</td>\n",
       "      <td>AL</td>\n",
       "      <td>13894</td>\n",
       "      <td>5.6</td>\n",
       "    </tr>\n",
       "    <tr>\n",
       "      <th>2</th>\n",
       "      <td>199607</td>\n",
       "      <td>AL</td>\n",
       "      <td>13895</td>\n",
       "      <td>4.8</td>\n",
       "    </tr>\n",
       "    <tr>\n",
       "      <th>3</th>\n",
       "      <td>199607</td>\n",
       "      <td>AL</td>\n",
       "      <td>3856</td>\n",
       "      <td>5.6</td>\n",
       "    </tr>\n",
       "    <tr>\n",
       "      <th>4</th>\n",
       "      <td>199607</td>\n",
       "      <td>AR</td>\n",
       "      <td>13964</td>\n",
       "      <td>5.3</td>\n",
       "    </tr>\n",
       "    <tr>\n",
       "      <th>5</th>\n",
       "      <td>199607</td>\n",
       "      <td>AZ</td>\n",
       "      <td>93167</td>\n",
       "      <td>10.7</td>\n",
       "    </tr>\n",
       "    <tr>\n",
       "      <th>6</th>\n",
       "      <td>199607</td>\n",
       "      <td>AZ</td>\n",
       "      <td>3103</td>\n",
       "      <td>5.2</td>\n",
       "    </tr>\n",
       "    <tr>\n",
       "      <th>7</th>\n",
       "      <td>199607</td>\n",
       "      <td>AZ</td>\n",
       "      <td>3145</td>\n",
       "      <td>9.8</td>\n",
       "    </tr>\n",
       "    <tr>\n",
       "      <th>9</th>\n",
       "      <td>199607</td>\n",
       "      <td>AZ</td>\n",
       "      <td>23194</td>\n",
       "      <td>8.1</td>\n",
       "    </tr>\n",
       "    <tr>\n",
       "      <th>10</th>\n",
       "      <td>199607</td>\n",
       "      <td>AZ</td>\n",
       "      <td>23160</td>\n",
       "      <td>7.6</td>\n",
       "    </tr>\n",
       "    <tr>\n",
       "      <th>11</th>\n",
       "      <td>199607</td>\n",
       "      <td>AZ</td>\n",
       "      <td>23183</td>\n",
       "      <td>6.7</td>\n",
       "    </tr>\n",
       "  </tbody>\n",
       "</table>\n",
       "</div>"
      ],
      "text/plain": [
       "      YYMM State   WBAN Avgwindspeed\n",
       "1   199607    AL  13894          5.6\n",
       "2   199607    AL  13895          4.8\n",
       "3   199607    AL   3856          5.6\n",
       "4   199607    AR  13964          5.3\n",
       "5   199607    AZ  93167         10.7\n",
       "6   199607    AZ   3103          5.2\n",
       "7   199607    AZ   3145          9.8\n",
       "9   199607    AZ  23194          8.1\n",
       "10  199607    AZ  23160          7.6\n",
       "11  199607    AZ  23183          6.7"
      ]
     },
     "execution_count": 73,
     "metadata": {},
     "output_type": "execute_result"
    }
   ],
   "source": [
    "#WindSpeed\n",
    "windspeed.replace('M',np.nan,inplace=True)\n",
    "windspeed.dropna(inplace=True)\n",
    "windspeed.head(10)"
   ]
  },
  {
   "cell_type": "code",
   "execution_count": 66,
   "metadata": {
    "collapsed": false
   },
   "outputs": [
    {
     "data": {
      "text/html": [
       "<div>\n",
       "<table border=\"1\" class=\"dataframe\">\n",
       "  <thead>\n",
       "    <tr style=\"text-align: right;\">\n",
       "      <th></th>\n",
       "      <th>YYMM</th>\n",
       "      <th>State</th>\n",
       "      <th>WBAN</th>\n",
       "      <th>Avgwindspeed</th>\n",
       "    </tr>\n",
       "  </thead>\n",
       "  <tbody>\n",
       "    <tr>\n",
       "      <th>0</th>\n",
       "      <td>199607</td>\n",
       "      <td>AZ</td>\n",
       "      <td>93167</td>\n",
       "      <td>10.7</td>\n",
       "    </tr>\n",
       "    <tr>\n",
       "      <th>1</th>\n",
       "      <td>199607</td>\n",
       "      <td>AZ</td>\n",
       "      <td>3103</td>\n",
       "      <td>5.2</td>\n",
       "    </tr>\n",
       "    <tr>\n",
       "      <th>2</th>\n",
       "      <td>199607</td>\n",
       "      <td>AZ</td>\n",
       "      <td>3145</td>\n",
       "      <td>9.8</td>\n",
       "    </tr>\n",
       "    <tr>\n",
       "      <th>3</th>\n",
       "      <td>199607</td>\n",
       "      <td>AZ</td>\n",
       "      <td>23194</td>\n",
       "      <td>8.1</td>\n",
       "    </tr>\n",
       "    <tr>\n",
       "      <th>4</th>\n",
       "      <td>199607</td>\n",
       "      <td>AZ</td>\n",
       "      <td>23160</td>\n",
       "      <td>7.6</td>\n",
       "    </tr>\n",
       "  </tbody>\n",
       "</table>\n",
       "</div>"
      ],
      "text/plain": [
       "     YYMM State   WBAN Avgwindspeed\n",
       "0  199607    AZ  93167         10.7\n",
       "1  199607    AZ   3103          5.2\n",
       "2  199607    AZ   3145          9.8\n",
       "3  199607    AZ  23194          8.1\n",
       "4  199607    AZ  23160          7.6"
      ]
     },
     "execution_count": 66,
     "metadata": {},
     "output_type": "execute_result"
    }
   ],
   "source": [
    "#extract one state and reset index\n",
    "AZ = windspeed[windspeed['State'].isin(['AZ'])]\n",
    "AZ.reset_index(inplace=True)\n",
    "AZ = AZ.iloc[:,1:]\n",
    "AZ.head()"
   ]
  },
  {
   "cell_type": "code",
   "execution_count": 67,
   "metadata": {
    "collapsed": false
   },
   "outputs": [],
   "source": [
    "AZ.YYMM = AZ.YYMM.astype(str)#convert items in AZ.YYMM from int to str"
   ]
  },
  {
   "cell_type": "code",
   "execution_count": 71,
   "metadata": {
    "collapsed": false
   },
   "outputs": [
    {
     "name": "stderr",
     "output_type": "stream",
     "text": [
      "C:\\Users\\Jiayuan\\Miniconda3\\lib\\site-packages\\ipykernel\\__main__.py:2: SettingWithCopyWarning: \n",
      "A value is trying to be set on a copy of a slice from a DataFrame.\n",
      "Try using .loc[row_indexer,col_indexer] = value instead\n",
      "\n",
      "See the caveats in the documentation: http://pandas.pydata.org/pandas-docs/stable/indexing.html#indexing-view-versus-copy\n",
      "  from ipykernel import kernelapp as app\n"
     ]
    }
   ],
   "source": [
    "AZ_1996 = AZ[AZ['YYMM'].str.contains(\"1996\")]#call all the data in 1996 for AZ\n",
    "AZ_1996['Avgwindspeed'] = AZ_1996['Avgwindspeed'].astype(float)#convert items in AZ.wind from str to float\n",
    "avg_AZ_1996 = sum(list(AZ_1996['Avgwindspeed']))/len(list(AZ_1996['Avgwindspeed']))"
   ]
  },
  {
   "cell_type": "code",
   "execution_count": null,
   "metadata": {
    "collapsed": true
   },
   "outputs": [],
   "source": []
  },
  {
   "cell_type": "code",
   "execution_count": null,
   "metadata": {
    "collapsed": true
   },
   "outputs": [],
   "source": []
  }
 ],
 "metadata": {
  "anaconda-cloud": {},
  "kernelspec": {
   "display_name": "Python [conda root]",
   "language": "python",
   "name": "conda-root-py"
  },
  "language_info": {
   "codemirror_mode": {
    "name": "ipython",
    "version": 3
   },
   "file_extension": ".py",
   "mimetype": "text/x-python",
   "name": "python",
   "nbconvert_exporter": "python",
   "pygments_lexer": "ipython3",
   "version": "3.5.2"
  }
 },
 "nbformat": 4,
 "nbformat_minor": 2
}
