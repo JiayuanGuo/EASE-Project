{
 "cells": [
  {
   "cell_type": "code",
   "execution_count": 2,
   "metadata": {
    "collapsed": true
   },
   "outputs": [],
   "source": [
    "import numpy as np\n",
    "import matplotlib.pyplot as plt\n",
    "import pandas as pd \n",
    "import sklearn\n",
    "from sklearn import linear_model\n",
    "from sklearn.linear_model import LogisticRegression\n",
    "%matplotlib inline"
   ]
  },
  {
   "cell_type": "code",
   "execution_count": 3,
   "metadata": {
    "collapsed": false
   },
   "outputs": [
    {
     "data": {
      "text/html": [
       "<div>\n",
       "<table border=\"1\" class=\"dataframe\">\n",
       "  <thead>\n",
       "    <tr style=\"text-align: right;\">\n",
       "      <th></th>\n",
       "      <th>Resource_type</th>\n",
       "      <th>Year</th>\n",
       "      <th>Cost</th>\n",
       "      <th>Tax</th>\n",
       "      <th>Sale</th>\n",
       "      <th>Amount_saved</th>\n",
       "    </tr>\n",
       "  </thead>\n",
       "  <tbody>\n",
       "    <tr>\n",
       "      <th>0</th>\n",
       "      <td>NaN</td>\n",
       "      <td>NaN</td>\n",
       "      <td>NaN</td>\n",
       "      <td>NaN</td>\n",
       "      <td>NaN</td>\n",
       "      <td>NaN</td>\n",
       "    </tr>\n",
       "    <tr>\n",
       "      <th>1</th>\n",
       "      <td>NaN</td>\n",
       "      <td>NaN</td>\n",
       "      <td>NaN</td>\n",
       "      <td>NaN</td>\n",
       "      <td>NaN</td>\n",
       "      <td>NaN</td>\n",
       "    </tr>\n",
       "    <tr>\n",
       "      <th>2</th>\n",
       "      <td>NaN</td>\n",
       "      <td>NaN</td>\n",
       "      <td>NaN</td>\n",
       "      <td>NaN</td>\n",
       "      <td>NaN</td>\n",
       "      <td>NaN</td>\n",
       "    </tr>\n",
       "    <tr>\n",
       "      <th>3</th>\n",
       "      <td>NaN</td>\n",
       "      <td>NaN</td>\n",
       "      <td>NaN</td>\n",
       "      <td>NaN</td>\n",
       "      <td>NaN</td>\n",
       "      <td>NaN</td>\n",
       "    </tr>\n",
       "  </tbody>\n",
       "</table>\n",
       "</div>"
      ],
      "text/plain": [
       "  Resource_type Year Cost  Tax Sale Amount_saved\n",
       "0           NaN  NaN  NaN  NaN  NaN          NaN\n",
       "1           NaN  NaN  NaN  NaN  NaN          NaN\n",
       "2           NaN  NaN  NaN  NaN  NaN          NaN\n",
       "3           NaN  NaN  NaN  NaN  NaN          NaN"
      ]
     },
     "execution_count": 3,
     "metadata": {},
     "output_type": "execute_result"
    }
   ],
   "source": [
    "#resource_type = pd.DataFrame()\n",
    "#cost = pd.DataFrame()\n",
    "#tax = pd.DataFrame()\n",
    "#sale = pd.DataFrame()\n",
    "#amount_saved = pd.DataFrame()\n",
    "#table_list = [resource_type,cost,tax,sale,amount_saved]\n",
    "#result = pd.concat(table_list, axis =1)\n",
    "#result.columns = ['Resource_type','Cost','Tax','Sale','Amount_saved']\n",
    "data = pd.DataFrame(index=range(0,4),columns=['Resource_type','Year','Cost','Tax','Sale','Amount_saved'])\n",
    "data"
   ]
  },
  {
   "cell_type": "code",
   "execution_count": null,
   "metadata": {
    "collapsed": true
   },
   "outputs": [],
   "source": [
    "# Define the parameters x and y\n",
    "input_X = data.iloc[:,1]\n",
    "#input_x = list(np.arange(1996,2015))\n",
    "output_y = data.iloc[:, -1]\n",
    "\n",
    "# calculate cumulative revenue \n",
    "for i in len(input_x):\n",
    "    revenue = []\n",
    "    y = output_y.iloc[:(i+1)].sum()\n",
    "    revenue.append(y)\n",
    "print (revenue)\n",
    "\n",
    "# Create logistic regression object\n",
    "logistic = linear_model.LogisticRegression()\n",
    "\n",
    "# Train the model using the default set\n",
    "logistic.fit(input_x.reshape(-1,1), y)\n",
    "print('B0, B1: ',logistic.intercept_, logistic.coef_[0])\n",
    "\n",
    "# make a plot for logistic regression\n",
    "plt.figure(figsize=(4,4))\n",
    "plt.scatter(input_x,y,color='goldenrod',lw='1',label='actual')\n",
    "plt.plot(x_arange,logistic.predict_proba(x_arange.reshape(-1,1))[:,1],ls='-',label='fit')\n",
    "plt.legend(loc='upper left')\n",
    "plt.xlabel('Year')\n",
    "plt.ylabel('Total Amount Saved')\n",
    "plt.title('Logistic Regression')\n",
    "plt.show()"
   ]
  },
  {
   "cell_type": "code",
   "execution_count": null,
   "metadata": {
    "collapsed": true
   },
   "outputs": [],
   "source": []
  }
 ],
 "metadata": {
  "anaconda-cloud": {},
  "kernelspec": {
   "display_name": "Python [default]",
   "language": "python",
   "name": "python3"
  },
  "language_info": {
   "codemirror_mode": {
    "name": "ipython",
    "version": 3
   },
   "file_extension": ".py",
   "mimetype": "text/x-python",
   "name": "python",
   "nbconvert_exporter": "python",
   "pygments_lexer": "ipython3",
   "version": "3.5.2"
  }
 },
 "nbformat": 4,
 "nbformat_minor": 2
}
