{
 "cells": [
  {
   "cell_type": "code",
   "execution_count": 1,
   "metadata": {
    "collapsed": false
   },
   "outputs": [],
   "source": [
    "import pandas as pd\n",
    "import itertools as it\n",
    "import numpy as np"
   ]
  },
  {
   "cell_type": "code",
   "execution_count": 2,
   "metadata": {
    "collapsed": false
   },
   "outputs": [],
   "source": [
    "data = pd.read_csv('../Original_Data/annual_generation_source_state.csv')"
   ]
  },
  {
   "cell_type": "code",
   "execution_count": 3,
   "metadata": {
    "collapsed": false
   },
   "outputs": [],
   "source": [
    "data = data.drop(['Unnamed: 4','Unnamed: 5','Unnamed: 6','Unnamed: 7','Unnamed: 8','Unnamed: 9'],axis = 1)"
   ]
  },
  {
   "cell_type": "code",
   "execution_count": 4,
   "metadata": {
    "collapsed": false,
    "scrolled": true
   },
   "outputs": [],
   "source": [
    "data = data[data.STATE != '  ']\n",
    "data = data[data.STATE != 'US-TOTAL']\n",
    "data = data[data.STATE != 'US-Total']\n",
    "data = data.set_index(np.arange(data.shape[0]))"
   ]
  },
  {
   "cell_type": "code",
   "execution_count": 5,
   "metadata": {
    "collapsed": false
   },
   "outputs": [
    {
     "data": {
      "text/html": [
       "<div>\n",
       "<table border=\"1\" class=\"dataframe\">\n",
       "  <thead>\n",
       "    <tr style=\"text-align: right;\">\n",
       "      <th></th>\n",
       "      <th>YEAR</th>\n",
       "      <th>STATE</th>\n",
       "      <th>ENERGY SOURCE</th>\n",
       "      <th>GENERATION (Megawatthours)</th>\n",
       "    </tr>\n",
       "  </thead>\n",
       "  <tbody>\n",
       "    <tr>\n",
       "      <th>0</th>\n",
       "      <td>1990</td>\n",
       "      <td>AK</td>\n",
       "      <td>Total</td>\n",
       "      <td>5,599,506</td>\n",
       "    </tr>\n",
       "    <tr>\n",
       "      <th>1</th>\n",
       "      <td>1990</td>\n",
       "      <td>AK</td>\n",
       "      <td>Coal</td>\n",
       "      <td>510,573</td>\n",
       "    </tr>\n",
       "    <tr>\n",
       "      <th>2</th>\n",
       "      <td>1990</td>\n",
       "      <td>AK</td>\n",
       "      <td>Hydroelectric Conventional</td>\n",
       "      <td>974,521</td>\n",
       "    </tr>\n",
       "    <tr>\n",
       "      <th>3</th>\n",
       "      <td>1990</td>\n",
       "      <td>AK</td>\n",
       "      <td>Natural Gas</td>\n",
       "      <td>3,466,261</td>\n",
       "    </tr>\n",
       "    <tr>\n",
       "      <th>4</th>\n",
       "      <td>1990</td>\n",
       "      <td>AK</td>\n",
       "      <td>Petroleum</td>\n",
       "      <td>497,116</td>\n",
       "    </tr>\n",
       "  </tbody>\n",
       "</table>\n",
       "</div>"
      ],
      "text/plain": [
       "   YEAR STATE               ENERGY SOURCE GENERATION (Megawatthours)\n",
       "0  1990    AK                       Total                  5,599,506\n",
       "1  1990    AK                        Coal                    510,573\n",
       "2  1990    AK  Hydroelectric Conventional                    974,521\n",
       "3  1990    AK                 Natural Gas                  3,466,261\n",
       "4  1990    AK                   Petroleum                    497,116"
      ]
     },
     "execution_count": 5,
     "metadata": {},
     "output_type": "execute_result"
    }
   ],
   "source": [
    "data.head()"
   ]
  },
  {
   "cell_type": "code",
   "execution_count": 6,
   "metadata": {
    "collapsed": false
   },
   "outputs": [
    {
     "name": "stdout",
     "output_type": "stream",
     "text": [
      "[1990, 1991, 1992, 1993, 1994, 1995, 1996, 1997, 1998, 1999, 2000, 2001, 2002, 2003, 2004, 2005, 2006, 2007, 2008, 2009, 2010, 2011, 2012, 2013, 2014, 2015] [1384, 1410, 1440, 1458, 1481, 1502, 1511, 1527, 1544, 1547, 1590, 1645, 1707, 1712, 1728, 1730, 1743, 1756, 1803, 1819, 1861, 1877, 1915, 1946, 1984, 1976]\n"
     ]
    }
   ],
   "source": [
    "yearlist = []\n",
    "yearcount = []\n",
    "for key, group in it.groupby(data.YEAR):\n",
    "    yearlist.append(key)\n",
    "    yearcount.append(len(list(group)))\n",
    "print(yearlist,yearcount)"
   ]
  },
  {
   "cell_type": "code",
   "execution_count": 7,
   "metadata": {
    "collapsed": false
   },
   "outputs": [
    {
     "name": "stdout",
     "output_type": "stream",
     "text": [
      "['AK', 'AL', 'AR', 'AZ', 'CA', 'CO', 'CT', 'DC', 'DE', 'FL', 'GA', 'HI', 'IA', 'ID', 'IL', 'IN', 'KS', 'KY', 'LA', 'MA', 'MD', 'ME', 'MI', 'MN', 'MO', 'MS', 'MT', 'NC', 'ND', 'NE', 'NH', 'NJ', 'NM', 'NV', 'NY', 'OH', 'OK', 'OR', 'PA', 'RI', 'SC', 'SD', 'TN', 'TX', 'UT', 'VA', 'VT', 'WA', 'WI', 'WV', 'WY']\n"
     ]
    }
   ],
   "source": [
    "statelist = []\n",
    "for key, group in it.groupby(sorted(data.STATE)):\n",
    "    statelist.append(key)\n",
    "print(statelist)"
   ]
  },
  {
   "cell_type": "code",
   "execution_count": 8,
   "metadata": {
    "collapsed": false
   },
   "outputs": [
    {
     "name": "stdout",
     "output_type": "stream",
     "text": [
      "['Coal', 'Geothermal', 'Hydroelectric Conventional', 'Natural Gas', 'Nuclear', 'Other', 'Other Biomass', 'Other Gases', 'Petroleum', 'Pumped Storage', 'Solar Thermal and Photovoltaic', 'Total', 'Wind', 'Wood and Wood Derived Fuels']\n"
     ]
    }
   ],
   "source": [
    "esourcelist = []\n",
    "for key, group in it.groupby(sorted(data['ENERGY SOURCE'])):\n",
    "    esourcelist.append(key)\n",
    "print(esourcelist)"
   ]
  },
  {
   "cell_type": "code",
   "execution_count": 9,
   "metadata": {
    "collapsed": false
   },
   "outputs": [],
   "source": [
    "arrangedata = pd.DataFrame(index = np.arange(len(yearlist)*len(statelist)),columns = (['Year','State'] + esourcelist))\n",
    "year = []\n",
    "for i in yearlist:\n",
    "    year += list(np.full(len(statelist),i,dtype = int))\n",
    "arrangedata.Year = year\n",
    "state = []\n",
    "for i in range(len(yearlist)):\n",
    "    state += statelist\n",
    "arrangedata.State = state"
   ]
  },
  {
   "cell_type": "code",
   "execution_count": 10,
   "metadata": {
    "collapsed": false
   },
   "outputs": [
    {
     "data": {
      "text/html": [
       "<div>\n",
       "<table border=\"1\" class=\"dataframe\">\n",
       "  <thead>\n",
       "    <tr style=\"text-align: right;\">\n",
       "      <th></th>\n",
       "      <th>Year</th>\n",
       "      <th>State</th>\n",
       "      <th>Coal</th>\n",
       "      <th>Geothermal</th>\n",
       "      <th>Hydroelectric Conventional</th>\n",
       "      <th>Natural Gas</th>\n",
       "      <th>Nuclear</th>\n",
       "      <th>Other</th>\n",
       "      <th>Other Biomass</th>\n",
       "      <th>Other Gases</th>\n",
       "      <th>Petroleum</th>\n",
       "      <th>Pumped Storage</th>\n",
       "      <th>Solar Thermal and Photovoltaic</th>\n",
       "      <th>Total</th>\n",
       "      <th>Wind</th>\n",
       "      <th>Wood and Wood Derived Fuels</th>\n",
       "    </tr>\n",
       "  </thead>\n",
       "  <tbody>\n",
       "    <tr>\n",
       "      <th>0</th>\n",
       "      <td>1990</td>\n",
       "      <td>AK</td>\n",
       "      <td>NaN</td>\n",
       "      <td>NaN</td>\n",
       "      <td>NaN</td>\n",
       "      <td>NaN</td>\n",
       "      <td>NaN</td>\n",
       "      <td>NaN</td>\n",
       "      <td>NaN</td>\n",
       "      <td>NaN</td>\n",
       "      <td>NaN</td>\n",
       "      <td>NaN</td>\n",
       "      <td>NaN</td>\n",
       "      <td>NaN</td>\n",
       "      <td>NaN</td>\n",
       "      <td>NaN</td>\n",
       "    </tr>\n",
       "    <tr>\n",
       "      <th>1</th>\n",
       "      <td>1990</td>\n",
       "      <td>AL</td>\n",
       "      <td>NaN</td>\n",
       "      <td>NaN</td>\n",
       "      <td>NaN</td>\n",
       "      <td>NaN</td>\n",
       "      <td>NaN</td>\n",
       "      <td>NaN</td>\n",
       "      <td>NaN</td>\n",
       "      <td>NaN</td>\n",
       "      <td>NaN</td>\n",
       "      <td>NaN</td>\n",
       "      <td>NaN</td>\n",
       "      <td>NaN</td>\n",
       "      <td>NaN</td>\n",
       "      <td>NaN</td>\n",
       "    </tr>\n",
       "    <tr>\n",
       "      <th>2</th>\n",
       "      <td>1990</td>\n",
       "      <td>AR</td>\n",
       "      <td>NaN</td>\n",
       "      <td>NaN</td>\n",
       "      <td>NaN</td>\n",
       "      <td>NaN</td>\n",
       "      <td>NaN</td>\n",
       "      <td>NaN</td>\n",
       "      <td>NaN</td>\n",
       "      <td>NaN</td>\n",
       "      <td>NaN</td>\n",
       "      <td>NaN</td>\n",
       "      <td>NaN</td>\n",
       "      <td>NaN</td>\n",
       "      <td>NaN</td>\n",
       "      <td>NaN</td>\n",
       "    </tr>\n",
       "    <tr>\n",
       "      <th>3</th>\n",
       "      <td>1990</td>\n",
       "      <td>AZ</td>\n",
       "      <td>NaN</td>\n",
       "      <td>NaN</td>\n",
       "      <td>NaN</td>\n",
       "      <td>NaN</td>\n",
       "      <td>NaN</td>\n",
       "      <td>NaN</td>\n",
       "      <td>NaN</td>\n",
       "      <td>NaN</td>\n",
       "      <td>NaN</td>\n",
       "      <td>NaN</td>\n",
       "      <td>NaN</td>\n",
       "      <td>NaN</td>\n",
       "      <td>NaN</td>\n",
       "      <td>NaN</td>\n",
       "    </tr>\n",
       "    <tr>\n",
       "      <th>4</th>\n",
       "      <td>1990</td>\n",
       "      <td>CA</td>\n",
       "      <td>NaN</td>\n",
       "      <td>NaN</td>\n",
       "      <td>NaN</td>\n",
       "      <td>NaN</td>\n",
       "      <td>NaN</td>\n",
       "      <td>NaN</td>\n",
       "      <td>NaN</td>\n",
       "      <td>NaN</td>\n",
       "      <td>NaN</td>\n",
       "      <td>NaN</td>\n",
       "      <td>NaN</td>\n",
       "      <td>NaN</td>\n",
       "      <td>NaN</td>\n",
       "      <td>NaN</td>\n",
       "    </tr>\n",
       "  </tbody>\n",
       "</table>\n",
       "</div>"
      ],
      "text/plain": [
       "   Year State Coal Geothermal Hydroelectric Conventional Natural Gas Nuclear  \\\n",
       "0  1990    AK  NaN        NaN                        NaN         NaN     NaN   \n",
       "1  1990    AL  NaN        NaN                        NaN         NaN     NaN   \n",
       "2  1990    AR  NaN        NaN                        NaN         NaN     NaN   \n",
       "3  1990    AZ  NaN        NaN                        NaN         NaN     NaN   \n",
       "4  1990    CA  NaN        NaN                        NaN         NaN     NaN   \n",
       "\n",
       "  Other Other Biomass Other Gases Petroleum Pumped Storage  \\\n",
       "0   NaN           NaN         NaN       NaN            NaN   \n",
       "1   NaN           NaN         NaN       NaN            NaN   \n",
       "2   NaN           NaN         NaN       NaN            NaN   \n",
       "3   NaN           NaN         NaN       NaN            NaN   \n",
       "4   NaN           NaN         NaN       NaN            NaN   \n",
       "\n",
       "  Solar Thermal and Photovoltaic Total Wind Wood and Wood Derived Fuels  \n",
       "0                            NaN   NaN  NaN                         NaN  \n",
       "1                            NaN   NaN  NaN                         NaN  \n",
       "2                            NaN   NaN  NaN                         NaN  \n",
       "3                            NaN   NaN  NaN                         NaN  \n",
       "4                            NaN   NaN  NaN                         NaN  "
      ]
     },
     "execution_count": 10,
     "metadata": {},
     "output_type": "execute_result"
    }
   ],
   "source": [
    "arrangedata.head()"
   ]
  },
  {
   "cell_type": "code",
   "execution_count": 11,
   "metadata": {
    "collapsed": false
   },
   "outputs": [],
   "source": [
    "def sumby_asource(source):\n",
    "    escountlist = []\n",
    "    for i in range(len(yearlist)):\n",
    "        for j in statelist:\n",
    "            esourcesum = 0\n",
    "            for index, row in data[sum(yearcount[0:i]):sum(yearcount[0:i+1])].iterrows():\n",
    "                if row['STATE'] == j and row['ENERGY SOURCE'] == source:\n",
    "                    esourcesum += int(row['GENERATION (Megawatthours)'].replace(',',''))\n",
    "            escountlist.append(esourcesum)\n",
    "    return escountlist"
   ]
  },
  {
   "cell_type": "code",
   "execution_count": 12,
   "metadata": {
    "collapsed": false
   },
   "outputs": [],
   "source": [
    "for i in esourcelist:\n",
    "    arrangedata[i] = sumby_asource(i)"
   ]
  },
  {
   "cell_type": "code",
   "execution_count": 13,
   "metadata": {
    "collapsed": false
   },
   "outputs": [],
   "source": [
    "arrangedata.to_csv('arranged_esource')"
   ]
  },
  {
   "cell_type": "code",
   "execution_count": null,
   "metadata": {
    "collapsed": false
   },
   "outputs": [],
   "source": []
  },
  {
   "cell_type": "code",
   "execution_count": 14,
   "metadata": {
    "collapsed": false
   },
   "outputs": [
    {
     "data": {
      "text/html": [
       "<div>\n",
       "<table border=\"1\" class=\"dataframe\">\n",
       "  <thead>\n",
       "    <tr style=\"text-align: right;\">\n",
       "      <th></th>\n",
       "      <th>Year</th>\n",
       "      <th>State</th>\n",
       "      <th>Coal</th>\n",
       "      <th>Geothermal</th>\n",
       "      <th>Hydroelectric Conventional</th>\n",
       "      <th>Natural Gas</th>\n",
       "      <th>Nuclear</th>\n",
       "      <th>Other</th>\n",
       "      <th>Other Biomass</th>\n",
       "      <th>Other Gases</th>\n",
       "      <th>Petroleum</th>\n",
       "      <th>Pumped Storage</th>\n",
       "      <th>Solar Thermal and Photovoltaic</th>\n",
       "      <th>Total</th>\n",
       "      <th>Wind</th>\n",
       "      <th>Wood and Wood Derived Fuels</th>\n",
       "    </tr>\n",
       "  </thead>\n",
       "  <tbody>\n",
       "    <tr>\n",
       "      <th>0</th>\n",
       "      <td>1990</td>\n",
       "      <td>AK</td>\n",
       "      <td>1021146</td>\n",
       "      <td>0</td>\n",
       "      <td>1949042</td>\n",
       "      <td>6932522</td>\n",
       "      <td>0</td>\n",
       "      <td>0</td>\n",
       "      <td>0</td>\n",
       "      <td>0</td>\n",
       "      <td>994232</td>\n",
       "      <td>0</td>\n",
       "      <td>0</td>\n",
       "      <td>11199012</td>\n",
       "      <td>0</td>\n",
       "      <td>302070</td>\n",
       "    </tr>\n",
       "    <tr>\n",
       "      <th>1</th>\n",
       "      <td>1990</td>\n",
       "      <td>AL</td>\n",
       "      <td>107316230</td>\n",
       "      <td>0</td>\n",
       "      <td>20733014</td>\n",
       "      <td>2041428</td>\n",
       "      <td>24103764</td>\n",
       "      <td>0</td>\n",
       "      <td>95006</td>\n",
       "      <td>538952</td>\n",
       "      <td>276178</td>\n",
       "      <td>0</td>\n",
       "      <td>0</td>\n",
       "      <td>159304266</td>\n",
       "      <td>0</td>\n",
       "      <td>4199694</td>\n",
       "    </tr>\n",
       "    <tr>\n",
       "      <th>2</th>\n",
       "      <td>1990</td>\n",
       "      <td>AR</td>\n",
       "      <td>38415870</td>\n",
       "      <td>0</td>\n",
       "      <td>7309306</td>\n",
       "      <td>7157146</td>\n",
       "      <td>22564106</td>\n",
       "      <td>0</td>\n",
       "      <td>30778</td>\n",
       "      <td>0</td>\n",
       "      <td>159958</td>\n",
       "      <td>85944</td>\n",
       "      <td>0</td>\n",
       "      <td>78199196</td>\n",
       "      <td>0</td>\n",
       "      <td>2476088</td>\n",
       "    </tr>\n",
       "    <tr>\n",
       "      <th>3</th>\n",
       "      <td>1990</td>\n",
       "      <td>AZ</td>\n",
       "      <td>63831220</td>\n",
       "      <td>0</td>\n",
       "      <td>14835152</td>\n",
       "      <td>4667800</td>\n",
       "      <td>41195378</td>\n",
       "      <td>0</td>\n",
       "      <td>0</td>\n",
       "      <td>0</td>\n",
       "      <td>303734</td>\n",
       "      <td>499534</td>\n",
       "      <td>0</td>\n",
       "      <td>125548594</td>\n",
       "      <td>0</td>\n",
       "      <td>215776</td>\n",
       "    </tr>\n",
       "    <tr>\n",
       "      <th>4</th>\n",
       "      <td>1990</td>\n",
       "      <td>CA</td>\n",
       "      <td>5275354</td>\n",
       "      <td>29042508</td>\n",
       "      <td>47585134</td>\n",
       "      <td>148336616</td>\n",
       "      <td>65385614</td>\n",
       "      <td>0</td>\n",
       "      <td>4235830</td>\n",
       "      <td>4293484</td>\n",
       "      <td>10947704</td>\n",
       "      <td>1972504</td>\n",
       "      <td>733336</td>\n",
       "      <td>331569818</td>\n",
       "      <td>5517762</td>\n",
       "      <td>8243972</td>\n",
       "    </tr>\n",
       "    <tr>\n",
       "      <th>5</th>\n",
       "      <td>1990</td>\n",
       "      <td>CO</td>\n",
       "      <td>59629966</td>\n",
       "      <td>0</td>\n",
       "      <td>2839740</td>\n",
       "      <td>2580184</td>\n",
       "      <td>0</td>\n",
       "      <td>0</td>\n",
       "      <td>57980</td>\n",
       "      <td>0</td>\n",
       "      <td>54780</td>\n",
       "      <td>-66396</td>\n",
       "      <td>0</td>\n",
       "      <td>65096254</td>\n",
       "      <td>0</td>\n",
       "      <td>0</td>\n",
       "    </tr>\n",
       "    <tr>\n",
       "      <th>6</th>\n",
       "      <td>1990</td>\n",
       "      <td>CT</td>\n",
       "      <td>7189290</td>\n",
       "      <td>0</td>\n",
       "      <td>1141238</td>\n",
       "      <td>2502958</td>\n",
       "      <td>39552500</td>\n",
       "      <td>0</td>\n",
       "      <td>2146620</td>\n",
       "      <td>8</td>\n",
       "      <td>17748932</td>\n",
       "      <td>12948</td>\n",
       "      <td>0</td>\n",
       "      <td>70294494</td>\n",
       "      <td>0</td>\n",
       "      <td>0</td>\n",
       "    </tr>\n",
       "    <tr>\n",
       "      <th>7</th>\n",
       "      <td>1990</td>\n",
       "      <td>DC</td>\n",
       "      <td>0</td>\n",
       "      <td>0</td>\n",
       "      <td>0</td>\n",
       "      <td>0</td>\n",
       "      <td>0</td>\n",
       "      <td>0</td>\n",
       "      <td>0</td>\n",
       "      <td>0</td>\n",
       "      <td>722086</td>\n",
       "      <td>0</td>\n",
       "      <td>0</td>\n",
       "      <td>722086</td>\n",
       "      <td>0</td>\n",
       "      <td>0</td>\n",
       "    </tr>\n",
       "    <tr>\n",
       "      <th>8</th>\n",
       "      <td>1990</td>\n",
       "      <td>DE</td>\n",
       "      <td>10226958</td>\n",
       "      <td>0</td>\n",
       "      <td>0</td>\n",
       "      <td>1526038</td>\n",
       "      <td>0</td>\n",
       "      <td>12630</td>\n",
       "      <td>0</td>\n",
       "      <td>329762</td>\n",
       "      <td>3587612</td>\n",
       "      <td>0</td>\n",
       "      <td>0</td>\n",
       "      <td>15683000</td>\n",
       "      <td>0</td>\n",
       "      <td>0</td>\n",
       "    </tr>\n",
       "    <tr>\n",
       "      <th>9</th>\n",
       "      <td>1990</td>\n",
       "      <td>FL</td>\n",
       "      <td>120200514</td>\n",
       "      <td>0</td>\n",
       "      <td>349208</td>\n",
       "      <td>37285366</td>\n",
       "      <td>43559120</td>\n",
       "      <td>2906204</td>\n",
       "      <td>3346156</td>\n",
       "      <td>0</td>\n",
       "      <td>51070276</td>\n",
       "      <td>0</td>\n",
       "      <td>0</td>\n",
       "      <td>263005106</td>\n",
       "      <td>0</td>\n",
       "      <td>4288262</td>\n",
       "    </tr>\n",
       "  </tbody>\n",
       "</table>\n",
       "</div>"
      ],
      "text/plain": [
       "   Year State       Coal  Geothermal  Hydroelectric Conventional  Natural Gas  \\\n",
       "0  1990    AK    1021146           0                     1949042      6932522   \n",
       "1  1990    AL  107316230           0                    20733014      2041428   \n",
       "2  1990    AR   38415870           0                     7309306      7157146   \n",
       "3  1990    AZ   63831220           0                    14835152      4667800   \n",
       "4  1990    CA    5275354    29042508                    47585134    148336616   \n",
       "5  1990    CO   59629966           0                     2839740      2580184   \n",
       "6  1990    CT    7189290           0                     1141238      2502958   \n",
       "7  1990    DC          0           0                           0            0   \n",
       "8  1990    DE   10226958           0                           0      1526038   \n",
       "9  1990    FL  120200514           0                      349208     37285366   \n",
       "\n",
       "    Nuclear    Other  Other Biomass  Other Gases  Petroleum  Pumped Storage  \\\n",
       "0         0        0              0            0     994232               0   \n",
       "1  24103764        0          95006       538952     276178               0   \n",
       "2  22564106        0          30778            0     159958           85944   \n",
       "3  41195378        0              0            0     303734          499534   \n",
       "4  65385614        0        4235830      4293484   10947704         1972504   \n",
       "5         0        0          57980            0      54780          -66396   \n",
       "6  39552500        0        2146620            8   17748932           12948   \n",
       "7         0        0              0            0     722086               0   \n",
       "8         0    12630              0       329762    3587612               0   \n",
       "9  43559120  2906204        3346156            0   51070276               0   \n",
       "\n",
       "   Solar Thermal and Photovoltaic      Total     Wind  \\\n",
       "0                               0   11199012        0   \n",
       "1                               0  159304266        0   \n",
       "2                               0   78199196        0   \n",
       "3                               0  125548594        0   \n",
       "4                          733336  331569818  5517762   \n",
       "5                               0   65096254        0   \n",
       "6                               0   70294494        0   \n",
       "7                               0     722086        0   \n",
       "8                               0   15683000        0   \n",
       "9                               0  263005106        0   \n",
       "\n",
       "   Wood and Wood Derived Fuels  \n",
       "0                       302070  \n",
       "1                      4199694  \n",
       "2                      2476088  \n",
       "3                       215776  \n",
       "4                      8243972  \n",
       "5                            0  \n",
       "6                            0  \n",
       "7                            0  \n",
       "8                            0  \n",
       "9                      4288262  "
      ]
     },
     "execution_count": 14,
     "metadata": {},
     "output_type": "execute_result"
    }
   ],
   "source": [
    "arrangedata.head(10)"
   ]
  },
  {
   "cell_type": "code",
   "execution_count": null,
   "metadata": {
    "collapsed": false
   },
   "outputs": [],
   "source": []
  },
  {
   "cell_type": "code",
   "execution_count": null,
   "metadata": {
    "collapsed": true
   },
   "outputs": [],
   "source": [
    "  "
   ]
  },
  {
   "cell_type": "code",
   "execution_count": null,
   "metadata": {
    "collapsed": false
   },
   "outputs": [],
   "source": []
  },
  {
   "cell_type": "code",
   "execution_count": null,
   "metadata": {
    "collapsed": false
   },
   "outputs": [],
   "source": []
  },
  {
   "cell_type": "code",
   "execution_count": null,
   "metadata": {
    "collapsed": false
   },
   "outputs": [],
   "source": []
  },
  {
   "cell_type": "code",
   "execution_count": null,
   "metadata": {
    "collapsed": false
   },
   "outputs": [],
   "source": []
  },
  {
   "cell_type": "code",
   "execution_count": null,
   "metadata": {
    "collapsed": false
   },
   "outputs": [],
   "source": []
  },
  {
   "cell_type": "code",
   "execution_count": null,
   "metadata": {
    "collapsed": false
   },
   "outputs": [],
   "source": []
  },
  {
   "cell_type": "code",
   "execution_count": null,
   "metadata": {
    "collapsed": false
   },
   "outputs": [],
   "source": []
  },
  {
   "cell_type": "code",
   "execution_count": null,
   "metadata": {
    "collapsed": false
   },
   "outputs": [],
   "source": []
  },
  {
   "cell_type": "code",
   "execution_count": null,
   "metadata": {
    "collapsed": false
   },
   "outputs": [],
   "source": []
  },
  {
   "cell_type": "code",
   "execution_count": null,
   "metadata": {
    "collapsed": false
   },
   "outputs": [],
   "source": []
  },
  {
   "cell_type": "code",
   "execution_count": null,
   "metadata": {
    "collapsed": false
   },
   "outputs": [],
   "source": []
  },
  {
   "cell_type": "code",
   "execution_count": null,
   "metadata": {
    "collapsed": false
   },
   "outputs": [],
   "source": []
  },
  {
   "cell_type": "code",
   "execution_count": null,
   "metadata": {
    "collapsed": false
   },
   "outputs": [],
   "source": []
  },
  {
   "cell_type": "code",
   "execution_count": null,
   "metadata": {
    "collapsed": false
   },
   "outputs": [],
   "source": []
  },
  {
   "cell_type": "code",
   "execution_count": null,
   "metadata": {
    "collapsed": false
   },
   "outputs": [],
   "source": []
  },
  {
   "cell_type": "code",
   "execution_count": null,
   "metadata": {
    "collapsed": false
   },
   "outputs": [],
   "source": []
  },
  {
   "cell_type": "code",
   "execution_count": null,
   "metadata": {
    "collapsed": true
   },
   "outputs": [],
   "source": []
  }
 ],
 "metadata": {
  "anaconda-cloud": {},
  "kernelspec": {
   "display_name": "Python [default]",
   "language": "python",
   "name": "python3"
  },
  "language_info": {
   "codemirror_mode": {
    "name": "ipython",
    "version": 3
   },
   "file_extension": ".py",
   "mimetype": "text/x-python",
   "name": "python",
   "nbconvert_exporter": "python",
   "pygments_lexer": "ipython3",
   "version": "3.5.2"
  }
 },
 "nbformat": 4,
 "nbformat_minor": 2
}
