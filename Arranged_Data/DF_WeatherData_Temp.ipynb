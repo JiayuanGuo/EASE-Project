{
 "cells": [
  {
   "cell_type": "code",
   "execution_count": 1,
   "metadata": {
    "collapsed": true
   },
   "outputs": [],
   "source": [
    "import pandas as pd\n",
    "import numpy as np"
   ]
  },
  {
   "cell_type": "code",
   "execution_count": 2,
   "metadata": {
    "collapsed": false
   },
   "outputs": [
    {
     "data": {
      "text/html": [
       "<div>\n",
       "<table border=\"1\" class=\"dataframe\">\n",
       "  <thead>\n",
       "    <tr style=\"text-align: right;\">\n",
       "      <th></th>\n",
       "      <th>Unnamed: 0</th>\n",
       "      <th>YYMM</th>\n",
       "      <th>State</th>\n",
       "      <th>WBAN</th>\n",
       "      <th>Latitude</th>\n",
       "      <th>Longitude</th>\n",
       "      <th>AvgTemp</th>\n",
       "      <th>TotalMonthlyPrecip</th>\n",
       "      <th>Avgwindspeed</th>\n",
       "    </tr>\n",
       "  </thead>\n",
       "  <tbody>\n",
       "    <tr>\n",
       "      <th>0</th>\n",
       "      <td>0</td>\n",
       "      <td>199607</td>\n",
       "      <td>AK</td>\n",
       "      <td>25704</td>\n",
       "      <td>51.883</td>\n",
       "      <td>-176.650</td>\n",
       "      <td>51.6</td>\n",
       "      <td>0.22</td>\n",
       "      <td>NaN</td>\n",
       "    </tr>\n",
       "    <tr>\n",
       "      <th>1</th>\n",
       "      <td>1</td>\n",
       "      <td>199607</td>\n",
       "      <td>AL</td>\n",
       "      <td>13894</td>\n",
       "      <td>30.688</td>\n",
       "      <td>-88.246</td>\n",
       "      <td>81.7</td>\n",
       "      <td>4.95</td>\n",
       "      <td>5.6</td>\n",
       "    </tr>\n",
       "    <tr>\n",
       "      <th>2</th>\n",
       "      <td>2</td>\n",
       "      <td>199607</td>\n",
       "      <td>AL</td>\n",
       "      <td>13895</td>\n",
       "      <td>32.301</td>\n",
       "      <td>-86.394</td>\n",
       "      <td>80.8</td>\n",
       "      <td>8.72</td>\n",
       "      <td>4.8</td>\n",
       "    </tr>\n",
       "    <tr>\n",
       "      <th>3</th>\n",
       "      <td>3</td>\n",
       "      <td>199607</td>\n",
       "      <td>AL</td>\n",
       "      <td>3856</td>\n",
       "      <td>34.644</td>\n",
       "      <td>-86.786</td>\n",
       "      <td>78.2</td>\n",
       "      <td>4.7</td>\n",
       "      <td>5.6</td>\n",
       "    </tr>\n",
       "    <tr>\n",
       "      <th>4</th>\n",
       "      <td>4</td>\n",
       "      <td>199607</td>\n",
       "      <td>AR</td>\n",
       "      <td>13964</td>\n",
       "      <td>35.334</td>\n",
       "      <td>-94.365</td>\n",
       "      <td>79.7</td>\n",
       "      <td>7.67</td>\n",
       "      <td>5.3</td>\n",
       "    </tr>\n",
       "  </tbody>\n",
       "</table>\n",
       "</div>"
      ],
      "text/plain": [
       "   Unnamed: 0    YYMM State   WBAN  Latitude  Longitude AvgTemp  \\\n",
       "0           0  199607    AK  25704    51.883   -176.650    51.6   \n",
       "1           1  199607    AL  13894    30.688    -88.246    81.7   \n",
       "2           2  199607    AL  13895    32.301    -86.394    80.8   \n",
       "3           3  199607    AL   3856    34.644    -86.786    78.2   \n",
       "4           4  199607    AR  13964    35.334    -94.365    79.7   \n",
       "\n",
       "  TotalMonthlyPrecip Avgwindspeed  \n",
       "0               0.22          NaN  \n",
       "1               4.95          5.6  \n",
       "2               8.72          4.8  \n",
       "3                4.7          5.6  \n",
       "4               7.67          5.3  "
      ]
     },
     "execution_count": 2,
     "metadata": {},
     "output_type": "execute_result"
    }
   ],
   "source": [
    "weather_total = pd.read_csv('final_weather_table.txt',low_memory=False)\n",
    "weather_total.head()"
   ]
  },
  {
   "cell_type": "code",
   "execution_count": 3,
   "metadata": {
    "collapsed": false
   },
   "outputs": [
    {
     "name": "stderr",
     "output_type": "stream",
     "text": [
      "C:\\Users\\Jiayuan\\Miniconda3\\lib\\site-packages\\ipykernel\\__main__.py:2: SettingWithCopyWarning: \n",
      "A value is trying to be set on a copy of a slice from a DataFrame\n",
      "\n",
      "See the caveats in the documentation: http://pandas.pydata.org/pandas-docs/stable/indexing.html#indexing-view-versus-copy\n",
      "  from ipykernel import kernelapp as app\n",
      "C:\\Users\\Jiayuan\\Miniconda3\\lib\\site-packages\\ipykernel\\__main__.py:3: SettingWithCopyWarning: \n",
      "A value is trying to be set on a copy of a slice from a DataFrame\n",
      "\n",
      "See the caveats in the documentation: http://pandas.pydata.org/pandas-docs/stable/indexing.html#indexing-view-versus-copy\n",
      "  app.launch_new_instance()\n"
     ]
    }
   ],
   "source": [
    "temp = weather_total.iloc[:,[1,2,3,-3]]\n",
    "temp.replace('M',np.nan,inplace=True)\n",
    "temp.dropna(inplace=True)"
   ]
  },
  {
   "cell_type": "code",
   "execution_count": 85,
   "metadata": {
    "collapsed": false
   },
   "outputs": [
    {
     "name": "stderr",
     "output_type": "stream",
     "text": [
      "C:\\Users\\Jiayuan\\Miniconda3\\lib\\site-packages\\ipykernel\\__main__.py:2: SettingWithCopyWarning: \n",
      "A value is trying to be set on a copy of a slice from a DataFrame.\n",
      "Try using .loc[row_indexer,col_indexer] = value instead\n",
      "\n",
      "See the caveats in the documentation: http://pandas.pydata.org/pandas-docs/stable/indexing.html#indexing-view-versus-copy\n",
      "  from ipykernel import kernelapp as app\n",
      "C:\\Users\\Jiayuan\\Miniconda3\\lib\\site-packages\\ipykernel\\__main__.py:3: SettingWithCopyWarning: \n",
      "A value is trying to be set on a copy of a slice from a DataFrame.\n",
      "Try using .loc[row_indexer,col_indexer] = value instead\n",
      "\n",
      "See the caveats in the documentation: http://pandas.pydata.org/pandas-docs/stable/indexing.html#indexing-view-versus-copy\n",
      "  app.launch_new_instance()\n"
     ]
    }
   ],
   "source": [
    "#revise the type of columns\n",
    "temp['YYMM'] = temp['YYMM'].astype(str)\n",
    "temp['AvgTemp'] = temp['AvgTemp'].astype(float)"
   ]
  },
  {
   "cell_type": "code",
   "execution_count": 88,
   "metadata": {
    "collapsed": false
   },
   "outputs": [],
   "source": [
    "#run all the year of AZ\n",
    "tempsw = pd.DataFrame()\n",
    "for j in range(1997,2017):\n",
    "    \n",
    "    year = AZ[AZ['YYMM'].str.contains('j')]"
   ]
  },
  {
   "cell_type": "code",
   "execution_count": 75,
   "metadata": {
    "collapsed": false
   },
   "outputs": [
    {
     "name": "stdout",
     "output_type": "stream",
     "text": [
      "      YYMM    AvgTemp\n",
      "0   199701  43.442857\n",
      "1   199702  45.014286\n",
      "2   199703  55.314286\n",
      "3   199704  57.257143\n",
      "4   199705  71.485714\n",
      "5   199706  74.250000\n",
      "6   199707  78.128571\n",
      "7   199708  77.828571\n",
      "8   199709  73.433333\n",
      "9   199710  56.771429\n",
      "10  199711  48.828571\n",
      "11  199712  37.571429\n"
     ]
    }
   ],
   "source": [
    "#1997, AZ\n",
    "#for loop to get month list\n",
    "AZ_1997 = AZ[AZ['YYMM'].str.contains(\"1997\")]\n",
    "YYMM_list = list(AZ_1997['YYMM'])#含有重复月份的list\n",
    "#获得不含重复月份的list \n",
    "month_index = []\n",
    "for i in YYMM_list:\n",
    "    if not i in month_index:\n",
    "        month_index.append(i)\n",
    "\n",
    "# run all the month in 1997 and get the dataframe（named avg_temp） of AZ in 1997\n",
    "avg = []\n",
    "avg_temp = pd.DataFrame()\n",
    "for i in month_index:\n",
    "    month_df = AZ[AZ['YYMM'].isin([i])]\n",
    "    avg.append(sum(list(month_df['AvgTemp']))/len(month_df))\n",
    "    avg_temp['YYMM'] = month_index\n",
    "avg_temp['AvgTemp'] = avg\n",
    "print(avg_temp)"
   ]
  },
  {
   "cell_type": "code",
   "execution_count": 77,
   "metadata": {
    "collapsed": false
   },
   "outputs": [],
   "source": [
    "#Find the tempsummer and tempwinter in a specific year for a state\n",
    "tmax_index = avg_temp['AvgTemp'].idxmax()\n",
    "tempmax_three = 0\n",
    "for i in range(tmax_index-1,tmax_index+2):\n",
    "    tempmax_three += avg_temp.iloc[i,-1]\n",
    "tempsummer = tempmax_three/3\n",
    "\n",
    "tmin_index = avg_temp['AvgTemp'].idxmin()\n",
    "tempmin_three = 0\n",
    "for i in range(tmin_index-1,tmin_index+2):\n",
    "    if i>11:\n",
    "        i = i-12# index jump back to the first month\n",
    "    tempmin_three += avg_temp.iloc[i,-1]\n",
    "tempwinter = tempmin_three/3"
   ]
  },
  {
   "cell_type": "code",
   "execution_count": null,
   "metadata": {
    "collapsed": true
   },
   "outputs": [],
   "source": []
  },
  {
   "cell_type": "code",
   "execution_count": null,
   "metadata": {
    "collapsed": true
   },
   "outputs": [],
   "source": []
  },
  {
   "cell_type": "code",
   "execution_count": null,
   "metadata": {
    "collapsed": true
   },
   "outputs": [],
   "source": [
    "#For loop for all 51 states\n",
    "statelist = ['AK', 'AL', 'AR', 'AZ', 'CA', 'CO', 'CT', 'DC', 'DE', 'FL', 'GA', 'HI', \n",
    "             'IA', 'ID', 'IL', 'IN', 'KS', 'KY', 'LA', 'MA', 'MD', 'ME', 'MI', 'MN', \n",
    "             'MO', 'MS', 'MT', 'NC', 'ND', 'NE', 'NH', 'NJ', 'NM', 'NV', 'NY', 'OH', \n",
    "             'OK', 'OR', 'PA', 'RI', 'SC', 'SD', 'TN', 'TX', 'UT', 'VA', 'VT', 'WA', 'WI', 'WV', 'WY']"
   ]
  },
  {
   "cell_type": "code",
   "execution_count": 81,
   "metadata": {
    "collapsed": false
   },
   "outputs": [],
   "source": [
    "#extract one state and reset index\n",
    "#for AZ in 1996\n",
    "AZ = temp[temp['State'].isin(['AZ'])]\n",
    "AZ_199607 = AZ[AZ['YYMM'].isin(['199607'])]\n",
    "#avg_AZ_199607 = sum(list(AZ_199607['AvgTemp']))/len(list(AZ_199607['AvgTemp']))\n",
    "#sum(list(AZ_199607['AvgTemp']))\n",
    "#avg_AZ_199607\n"
   ]
  }
 ],
 "metadata": {
  "anaconda-cloud": {},
  "kernelspec": {
   "display_name": "Python [conda root]",
   "language": "python",
   "name": "conda-root-py"
  },
  "language_info": {
   "codemirror_mode": {
    "name": "ipython",
    "version": 3
   },
   "file_extension": ".py",
   "mimetype": "text/x-python",
   "name": "python",
   "nbconvert_exporter": "python",
   "pygments_lexer": "ipython3",
   "version": "3.5.2"
  }
 },
 "nbformat": 4,
 "nbformat_minor": 2
}
