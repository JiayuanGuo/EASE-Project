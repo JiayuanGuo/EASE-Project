{
 "cells": [
  {
   "cell_type": "markdown",
   "metadata": {},
   "source": [
    "## 1.Test rf"
   ]
  },
  {
   "cell_type": "code",
   "execution_count": 2,
   "metadata": {
    "collapsed": false
   },
   "outputs": [],
   "source": [
    "import unittest\n",
    "import pandas as pd\n",
    "import numpy as np\n",
    "import ease\n",
    "\n",
    "class TEST_RF(unittest.TestCase):\n",
    "    \n",
    "    def test_rf_inputtrain(self):\n",
    "        train = pd.read_csv('../Arranged_Data/final_weater.csv')[[\n",
    "            'State', 'TotalMonthlyPrecip', 'TempSummer',\n",
    "            'TempWinter', 'Avgwindspeed']]\n",
    "        #test if DC exists\n",
    "        self.assertIn('DC',list(train.State))\n",
    "        #test if there is nan in input data\n",
    "        self.assertEqual(train.isnull().sum().sum(),0)\n",
    "        \n",
    "    def test_rf_inputpara(self):\n",
    "        test = pd.read_csv('../Arranged_Data/test_dataset.csv')\n",
    "        prec = test.iloc[0,1]\n",
    "        ts = test.iloc[0,2]\n",
    "        tw = test.iloc[0,3]\n",
    "        ws = test.iloc[0,4]\n",
    "        #test the type of input data\n",
    "        self.assertIsInstance(prec,(int,float))\n",
    "        self.assertIsInstance(ts,(int,float))\n",
    "        self.assertIsInstance(tw,(int,float))\n",
    "        self.assertIsInstance(ws,(int,float))\n",
    "        #test the limitation of input temperature\n",
    "        self.assertGreater(110, ts)\n",
    "        self.assertGreater(ts, tw)\n",
    "        self.assertGreater(tw,-10)\n",
    "        #test the limitation of input precipitation\n",
    "        self.assertGreater(prec, 0)\n",
    "        #test the limitation of input windspeed\n",
    "        self.assertGreater(ws, 0)\n",
    "    \n",
    "    def test_rf_output(self):\n",
    "        test = pd.read_csv('../Arranged_Data/test_dataset.csv')\n",
    "        prec = test.iloc[0,1]\n",
    "        ts = test.iloc[0,2]\n",
    "        tw = test.iloc[0,3]\n",
    "        ws = test.iloc[0,4]\n",
    "        output = ease.rf(prec, ts, tw, ws)\n",
    "        #test the type of output dataset\n",
    "        self.assertIsInstance(output,dict)\n",
    "        #test the output values\n",
    "        for i in list(output.values()):\n",
    "            self.assertTrue(i <= 1)\n",
    "            self.assertTrue(i > 0)\n",
    "                \n",
    "if __name__ == '__main__':\n",
    "    unittest.main()"
   ]
  },
  {
   "cell_type": "markdown",
   "metadata": {},
   "source": [
    "## 2.Test avg_capacity"
   ]
  },
  {
   "cell_type": "code",
   "execution_count": 1,
   "metadata": {
    "collapsed": false
   },
   "outputs": [],
   "source": [
    "import unittest\n",
    "import pandas as pd\n",
    "import numpy as np\n",
    "import ease\n",
    "\n",
    "class TEST_avg_capacity(unittest.TestCase):\n",
    "    \n",
    "    def test_avg_cap_input(self):\n",
    "        average_plant_capacity = pd.read_csv('../Arranged_Data/average_plant_capacity.csv')\n",
    "        #test if there is nan in input dataframe\n",
    "        self.assertEqual(average_plant_capacity.isnull().sum().sum(),0)\n",
    "    \n",
    "    def test_avg_cap_output(self):\n",
    "        average_plant_capacity = pd.read_csv('../Arranged_Data/average_plant_capacity.csv')\n",
    "        test = pd.read_csv('../Arranged_Data/test_dataset.csv')\n",
    "        prec = test.iloc[0,1]\n",
    "        ts = test.iloc[0,2]\n",
    "        tw = test.iloc[0,3]\n",
    "        ws = test.iloc[0,4]\n",
    "        vote = ease.rf(prec, ts, tw, ws)\n",
    "        output = ease.avg_capacity(vote)\n",
    "        #test the type of output dataset\n",
    "        self.assertIsInstance(output,list)\n",
    "        #test the length of output dataset\n",
    "        self.assertEqual(len(output),6) \n",
    "        \n",
    "if __name__ == '__main__':\n",
    "    unittest.main()"
   ]
  },
  {
   "cell_type": "markdown",
   "metadata": {},
   "source": [
    "## 3.Test possible_type"
   ]
  },
  {
   "cell_type": "code",
   "execution_count": 8,
   "metadata": {
    "collapsed": false
   },
   "outputs": [],
   "source": [
    "import unittest\n",
    "import pandas as pd\n",
    "import numpy as np\n",
    "import ease\n",
    "\n",
    "class TEST_possible_type(unittest.TestCase):\n",
    "\n",
    "    def test_possible_type_input(self):\n",
    "        cap_pop = pd.read_csv('../Arranged_Data/average_plant_capacity.csv')\n",
    "        #test if there is nan in input capacity dataframe\n",
    "        self.assertEqual(cap_pop.isnull().sum().sum(),0)\n",
    "        \n",
    "    def test_possible_type_output(self):\n",
    "        average_plant_capacity = pd.read_csv('../Arranged_Data/average_plant_capacity.csv')\n",
    "        test = pd.read_csv('../Arranged_Data/test_dataset.csv')\n",
    "        prec = test.iloc[0,1]\n",
    "        ts = test.iloc[0,2]\n",
    "        tw = test.iloc[0,3]\n",
    "        ws = test.iloc[0,4]\n",
    "        vote = ease.rf(prec, ts, tw, ws)\n",
    "        avg_cap_list = ease.avg_capacity(vote)\n",
    "        output = ease.possible_type(avg_cap_list)\n",
    "        \n",
    "        #test the type of output dataset\n",
    "        self.assertIsInstance(output,list)\n",
    "        \n",
    "        #calculate how many conventional energy resource have been filtered\n",
    "        type_list = []\n",
    "        for i in range(len(ease.possible_type(avg_cap_list))):\n",
    "            type = ease.possible_type(avg_cap_list)[i][-1]\n",
    "            type_list.append(type)\n",
    "            conventional_ = ['Coal', 'NG', 'Petro']\n",
    "        filtered = []\n",
    "        for i in conventional_:\n",
    "            if i in type_list:\n",
    "                pass\n",
    "            else:\n",
    "                filtered.append(i)\n",
    "                \n",
    "        #test if all the clean resources have been filtered out\n",
    "        self.assertLess(len(filtered),3)\n",
    "\n",
    "if __name__ == '__main__':\n",
    "    unittest.main()"
   ]
  },
  {
   "cell_type": "markdown",
   "metadata": {},
   "source": [
    "## 4.Test rf_fluctuation"
   ]
  },
  {
   "cell_type": "code",
   "execution_count": 7,
   "metadata": {
    "collapsed": true
   },
   "outputs": [],
   "source": [
    "import unittest\n",
    "import pandas as pd\n",
    "import numpy as np\n",
    "import ease\n",
    "\n",
    "class TEST_rf_fluctuation(unittest.TestCase):\n",
    "    \n",
    "    def test_rf_fluctuation_output(self):\n",
    "        test = pd.read_csv('../Arranged_Data/test_dataset.csv')\n",
    "        prec = test.iloc[0,1]\n",
    "        ts = test.iloc[0,2]\n",
    "        tw = test.iloc[0,3]\n",
    "        ws = test.iloc[0,4]\n",
    "        output = ease.rf_fluctuation(prec, ts, tw, ws)\n",
    "        \n",
    "        #test the type of output\n",
    "        self.assertIsInstance(output,list)\n",
    "        #test the length of output\n",
    "        self.assertEqual(len(output),3) \n",
    "        #test fluctuation level\n",
    "        std = output[1]\n",
    "        self.assertLess(std, 0.01)\n",
    "\n",
    "if __name__ == '__main__':\n",
    "    unittest.main()"
   ]
  },
  {
   "cell_type": "markdown",
   "metadata": {},
   "source": [
    "## 5.Test rev_plot"
   ]
  },
  {
   "cell_type": "code",
   "execution_count": 46,
   "metadata": {
    "collapsed": true
   },
   "outputs": [],
   "source": [
    "import unittest\n",
    "import pandas as pd\n",
    "import numpy as np\n",
    "import ease\n",
    "\n",
    "class TEST_rev_plot(unittest.TestCase):\n",
    "    \n",
    "    def test_rev_plot_input(self):\n",
    "        esales = pd.read_csv('../Arranged_Data/Cost/Sale_CO2_tax.csv', skiprows= 1, names = ['Year', 'Sale', 'CO2_tax']) \n",
    "        test = pd.read_csv('../Arranged_Data/test_dataset.csv')\n",
    "        prec = test.iloc[0,1]\n",
    "        ts = test.iloc[0,2]\n",
    "        tw = test.iloc[0,3]\n",
    "        ws = test.iloc[0,4]\n",
    "        capacity = 100000\n",
    "        label = 'Try'\n",
    "        e_type = 'conventional'\n",
    "        # test if there exists nan in input dataframe\n",
    "        self.assertEqual(esales.isnull().sum().sum(),0)\n",
    "        # test type of input capacity \n",
    "        self.assertIsInstance(capacity,(int,float))\n",
    "        # test type of input label\n",
    "        self.assertIsInstance(label,str)\n",
    "        # test if e_type exists\n",
    "        e_type_list = ['conventional','clean','total']\n",
    "        self.assertIn(e_type,e_type_list)\n",
    "        \n",
    "if __name__ == '__main__':\n",
    "    unittest.main()"
   ]
  },
  {
   "cell_type": "markdown",
   "metadata": {},
   "source": [
    "## 6.Test avg_cost"
   ]
  },
  {
   "cell_type": "code",
   "execution_count": null,
   "metadata": {
    "collapsed": true
   },
   "outputs": [],
   "source": [
    "import unittest\n",
    "import pandas as pd\n",
    "import numpy as np\n",
    "import ease\n",
    "\n",
    "class TEST_avg_cost(unittest.TestCase):\n",
    "    \n",
    "    def test_avg_cost_input(self):\n",
    "        cost = pd.read_csv('../Arranged_Data/Cost/df_cost.csv')\n",
    "        #test if there is nan in input dataframe\n",
    "        self.assertEqual(cost.isnull().sum().sum(),0)\n",
    "        \n",
    "    def test_avg_cost_output(self):\n",
    "        cost = pd.read_csv('../Arranged_Data/Cost/df_cost.csv')\n",
    "        test = pd.read_csv('../Arranged_Data/test_dataset.csv')\n",
    "        prec = test.iloc[0,1]\n",
    "        ts = test.iloc[0,2]\n",
    "        tw = test.iloc[0,3]\n",
    "        ws = test.iloc[0,4]\n",
    "        vote = ease.rf(prec, ts, tw, ws)\n",
    "        output = ease.avg_cost(vote)\n",
    "        # test the type of output\n",
    "        self.assertIsInstance(output,dict)\n",
    "        # test the output length\n",
    "        self.assertLessEqual(len(output),6)\n",
    "        \n",
    "if __name__ == '__main__':\n",
    "    unittest.main()"
   ]
  },
  {
   "cell_type": "markdown",
   "metadata": {},
   "source": [
    "## 7.Test clean_or_conventional"
   ]
  },
  {
   "cell_type": "code",
   "execution_count": null,
   "metadata": {
    "collapsed": true
   },
   "outputs": [],
   "source": [
    "import unittest\n",
    "import pandas as pd\n",
    "import numpy as np\n",
    "import ease\n",
    "\n",
    "class TEST_clean_or_conv(unittest.TestCase):\n",
    "    \n",
    "    def test_clean_or_conv(self):\n",
    "        test = pd.read_csv('../Arranged_Data/test_dataset.csv')\n",
    "        prec = test.iloc[22,1]\n",
    "        ts = test.iloc[22,2]\n",
    "        tw = test.iloc[22,3]\n",
    "        ws = test.iloc[22,4]\n",
    "        vote = ease.rf(prec, ts, tw, ws)\n",
    "        avg_capacity = ease.avg_capacity(vote)\n",
    "        possible_type = ease.possible_type(avg_capacity)\n",
    "        conv, clean = ease.clean_or_conv(possible_type)\n",
    "        \n",
    "        # test the type of input\n",
    "        self.assertIsInstance(possible_type,list)\n",
    "        # test the type of output\n",
    "        self.assertIsInstance(conv,list)\n",
    "        self.assertIsInstance(clean,list)\n",
    "        # test the element type inside of clean list\n",
    "        for i in range(len(clean)):\n",
    "            self.assertIsInstance(clean[i][2],str)\n",
    "            \n",
    "if __name__ == '__main__':\n",
    "    unittest.main()"
   ]
  },
  {
   "cell_type": "markdown",
   "metadata": {},
   "source": [
    "## 8.Test sort_and_pick"
   ]
  },
  {
   "cell_type": "code",
   "execution_count": 2,
   "metadata": {
    "collapsed": true
   },
   "outputs": [],
   "source": [
    "import unittest\n",
    "import pandas as pd\n",
    "import numpy as np\n",
    "import ease\n",
    "\n",
    "class TEST_sort_and_pick(unittest.TestCase):\n",
    "    \n",
    "    def test_sort_and_pick_output(self):\n",
    "        \n",
    "        test = pd.read_csv('../Arranged_Data/test_dataset.csv')\n",
    "        prec = test.iloc[3,1]\n",
    "        ts = test.iloc[3,2]\n",
    "        tw = test.iloc[3,3]\n",
    "        ws = test.iloc[3,4]\n",
    "        vote = ease.rf(prec, ts, tw, ws)\n",
    "        avg_cap = ease.avg_capacity(vote)\n",
    "        possible_type = ease.possible_type(avg_cap)\n",
    "        conv, clean = ease.clean_or_conv(possible_type)\n",
    "        output_conv = ease.sort_and_pick(conv)\n",
    "        output_clean = ease.sort_and_pick(clean)\n",
    "        \n",
    "        # test the type of output\n",
    "        self.assertIsInstance(output_conv,list)\n",
    "        self.assertIsInstance(output_clean,list)\n",
    "        # test if output clean energy is in output convetional list\n",
    "        conventional_list = ['Coal','NG','Petro']\n",
    "        self.assertNotIn(output_clean[-1],conventional_list)\n",
    "        #test the length of output\n",
    "        self.assertEqual(len(output_conv),3)\n",
    "        self.assertEqual(len(output_clean),3)\n",
    "            \n",
    "if __name__ == '__main__':\n",
    "    unittest.main()"
   ]
  },
  {
   "cell_type": "markdown",
   "metadata": {},
   "source": [
    "## 9. Test suggest"
   ]
  },
  {
   "cell_type": "code",
   "execution_count": null,
   "metadata": {
    "collapsed": true
   },
   "outputs": [],
   "source": [
    "import unittest\n",
    "import pandas as pd\n",
    "import numpy as np\n",
    "import ease\n",
    "\n",
    "class TEST_suggest(unittest.TestCase):\n",
    "\n",
    "    def test_suggest_output(self):\n",
    "        test = pd.read_csv('../Arranged_Data/test_dataset.csv')\n",
    "        prec = test.iloc[0,1]\n",
    "        ts = test.iloc[0,2]\n",
    "        tw = test.iloc[0,3]\n",
    "        ws = test.iloc[0,4]\n",
    "        capacity = 5000\n",
    "        vote = ease.rf(prec, ts, tw, ws)\n",
    "        avg_cap = ease.avg_capacity(vote)\n",
    "        possible_type_list = ease.possible_type(avg_cap)\n",
    "        conventional, clean = ease.clean_or_conv(possible_type_list)\n",
    "        conventional = ease.sort_and_pick(conventional)\n",
    "        clean = ease.sort_and_pick(clean)\n",
    "        \n",
    "        source_co2 = {'Coal': 2133, 'Petro': 1700, 'NG': 1220}\n",
    "        # test whether conventional type in source dictionary\n",
    "        self.assertIn(conventional[-1],source_co2.keys())\n",
    "        \n",
    "if __name__ == '__main__':\n",
    "    unittest.main()"
   ]
  },
  {
   "cell_type": "code",
   "execution_count": null,
   "metadata": {
    "collapsed": true
   },
   "outputs": [],
   "source": [
    "def suggest(prec, ts, tw, ws, capacity):\n",
    "    \n",
    "    import matplotlib.pyplot as plt\n",
    "\n",
    "    source_co2 = {'Coal': 2133, 'Petro': 1700, 'NG': 1220}\n",
    "    state_vote = rf(prec, ts, tw, ws)\n",
    "    cap = avg_capacity(state_vote)\n",
    "    cost = avg_cost(state_vote)\n",
    "    source_list = possible_type(cap)\n",
    "    conventional, clean = clean_or_conv(source_list)\n",
    "    conventional = sort_and_pick(conventional)\n",
    "    clean = sort_and_pick(clean)\n",
    "    if len(clean) == 0:\n",
    "        capacity = min([conventional[1], capacity])\n",
    "\n",
    "        result = plt.figure(figsize=(5, 5))\n",
    "        revenue_conv = rev_plot(cost[conventional[2]], capacity, 'conventional', conventional[2])\n",
    "        revenue_conv.title('Money Save using %s (capacity = %d Mwh)' % (conventional[2], capacity))\n",
    "    else:\n",
    "        if clean[1] >= capacity:\n",
    "            result = plt.figure(figsize=(5, 5))\n",
    "            revenue_clean = rev_plot(cost[clean[2]], capacity, 'clean', clean[2])\n",
    "            revenue_clean.title('Money Save using %s (capacity = %d  Mwh)' % (clean[2], capacity))\n",
    "        else:\n",
    "            result = plt.figure(1, figsize=(12, 5))\n",
    "            plt.subplot(121)\n",
    "            revenue_clean = rev_plot(cost[clean[2]], clean[1], 'clean',\n",
    "                                     '%s (capacity = %d Mwh)' %  (clean[2], int(clean[1])))\n",
    "            revenue_conv = rev_plot(cost[conventional[2]], (capacity - clean[1]), 'conventional',\n",
    "                                    '%s (capacity = %d Mwh)' %  (conventional[2], int(capacity - clean[1])))\n",
    "            revenue_total = rev_plot(cost[clean[2]], clean[1], 'total', 'Total (capacity = %d Mwh)' % capacity,\n",
    "                                     avg_cost_conv=cost[conventional[2]], capacity_conv=(capacity - clean[1]))\n",
    "            revenue_total.title('Money Save using %s Combined with %s' % (clean[2], conventional[2]))\n",
    "            for k in conventional:\n",
    "                if k in source_co2:\n",
    "                    conversion_to_co2 = source_co2[k]\n",
    "#            print('Emitted Co2 using', conventional[2], 'is:',\n",
    "#                  int(capacity - clean[1]) * conversion_to_co2 * 0.000453592, 'metric tons')\n",
    "            co2_year = [2016, 2050]\n",
    "            co2_emission = [capacity * conversion_to_co2 * 0.000453592,\n",
    "                                  (capacity - clean[1]) * conversion_to_co2 * 0.000453592]\n",
    "            plt.subplot(122)\n",
    "            co2_plot = plt.bar(co2_year, co2_emission, width=12, color='#6495ED', edgecolor='k', linewidth=1.5)\n",
    "            plt.xticks(co2_year, ('Pure Conventional', 'Conventional + Clean'))\n",
    "            plt.xlabel('Profiles')\n",
    "            plt.ylabel('CO2 Emission (Metric Tons)')\n",
    "            plt.ylim(co2_emission[1] * 2 / 3)\n",
    "            plt.grid(linestyle='dotted')\n",
    "            plt.title('CO2 Emission Comparison Graph')\n",
    "            autolabel(co2_plot)\n",
    "    return result"
   ]
  }
 ],
 "metadata": {
  "anaconda-cloud": {},
  "kernelspec": {
   "display_name": "Python [conda root]",
   "language": "python",
   "name": "conda-root-py"
  },
  "language_info": {
   "codemirror_mode": {
    "name": "ipython",
    "version": 3
   },
   "file_extension": ".py",
   "mimetype": "text/x-python",
   "name": "python",
   "nbconvert_exporter": "python",
   "pygments_lexer": "ipython3",
   "version": "3.5.2"
  }
 },
 "nbformat": 4,
 "nbformat_minor": 2
}
