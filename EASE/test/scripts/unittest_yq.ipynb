{
 "cells": [
  {
   "cell_type": "code",
   "execution_count": 1,
   "metadata": {
    "collapsed": true
   },
   "outputs": [],
   "source": [
    "import numpy as np\n",
    "import pandas as pd\n",
    "from scipy import stats\n",
    "import matplotlib.pyplot as plt\n",
    "%matplotlib inline\n",
    "import ease\n",
    "import unittest\n",
    "from sklearn.model_selection import train_test_split"
   ]
  },
  {
   "cell_type": "code",
   "execution_count": 4,
   "metadata": {
    "collapsed": false
   },
   "outputs": [
    {
     "name": "stdout",
     "output_type": "stream",
     "text": [
      "    State  TotalMonthlyPrecip  TempSummer  TempWinter  Avgwindspeed\n",
      "420    MD            5.366667   74.300000   39.600000      5.033333\n",
      "133    CT            3.817500   65.512500   24.675000      7.159091\n",
      "865    SD            1.268921   72.546667   10.775000     10.783453\n",
      "812    PA            3.133710   73.628707   27.438410      6.787847\n",
      "1      AK            5.604615   53.386970   27.537821      9.979630\n",
      "     State  TotalMonthlyPrecip  TempSummer  TempWinter  Avgwindspeed\n",
      "759     OK            1.992792   75.050000   43.891575     10.387013\n",
      "170     DE            1.849091   74.050000   40.783333      7.559091\n",
      "1056    WY            0.592151   72.552941   20.929412      9.361000\n",
      "412     MA            3.741227   66.531481   27.383133      7.455963\n",
      "942     UT            0.790973   71.330370   31.849630      7.236364\n"
     ]
    }
   ],
   "source": [
    "df = pd.read_csv('../Arranged_Data/final_weater.csv')[['State', 'TotalMonthlyPrecip', 'TempSummer','TempWinter', 'Avgwindspeed']]\n",
    "df = df[df.State != 'DC']\n",
    "train,test=train_test_split(df,test_size=0.2)\n",
    "print(train.head())\n",
    "print(test.head())"
   ]
  },
  {
   "cell_type": "code",
   "execution_count": 17,
   "metadata": {
    "collapsed": false,
    "scrolled": true
   },
   "outputs": [
    {
     "data": {
      "text/plain": [
       "numpy.float64"
      ]
     },
     "execution_count": 17,
     "metadata": {},
     "output_type": "execute_result"
    }
   ],
   "source": [
    "tw = test.iloc[0,3]\n",
    "type(tw)"
   ]
  },
  {
   "cell_type": "code",
   "execution_count": 6,
   "metadata": {
    "collapsed": true
   },
   "outputs": [],
   "source": [
    "# The function involves four input parameters then returns a result of vote\n",
    "def rf(prec, ts, tw, ws):\n",
    "    \"\"\"\n",
    "    This function is RandomForest classifier to intake user input temperature,\n",
    "    precipitation, and windespeed to classify the possible states the user\n",
    "    will be in, and returns a dictionary with states as the keys and\n",
    "    the frequency or count as the values of each key.\n",
    "       input = user input values, integer or float based.\n",
    "       vote  = dictionary based output that contains the RF classified states,\n",
    "               and each states frequency.\n",
    "    \"\"\"\n",
    "    import pandas as pd\n",
    "    from sklearn.ensemble import RandomForestClassifier\n",
    "    import itertools as it\n",
    "    import warnings\n",
    "    \n",
    "    # read arranged weatehr data, drop elements contained in state DC, and remove warnings\n",
    "    train = pd.read_csv('../Arranged_Data/final_weater.csv')[[\n",
    "            'State', 'TotalMonthlyPrecip', 'TempSummer',\n",
    "            'TempWinter', 'Avgwindspeed']]\n",
    "    train = train[train.State != 'DC']\n",
    "    warnings.filterwarnings('ignore')\n",
    "    \n",
    "    # set precipitation, summer temperature, winter temperature, and windspeed as input parameters\n",
    "    # set total number of trees equal to 500\n",
    "    # creat a list for saving prediction results and a dictonary for vote outcome\n",
    "    input_ = [prec, ts, tw, ws]\n",
    "    tree_num = 100\n",
    "    pred_list = []\n",
    "    vote = {}\n",
    "    rf = RandomForestClassifier(n_estimators = tree_num)\n",
    "    rf.fit(train.iloc[:,1:5], train.State)\n",
    "\n",
    "    for i in range(tree_num):\n",
    "        dt = rf.estimators_[i]\n",
    "        dt.fit(train.iloc[:,1:5], train.State)\n",
    "        pred = dt.predict(input_)\n",
    "        pred_list.append(pred[0])\n",
    "\n",
    "    pred_key = []\n",
    "    pred_key_count = []\n",
    "    for key, group in it.groupby(sorted(pred_list)):\n",
    "        pred_key.append(key)\n",
    "        pred_key_count.append(len(list(group)))\n",
    "    \n",
    "    # the dictionary of vote contains states as keys and weight percent as values\n",
    "    for i in range(len(pred_key)):\n",
    "        vote[pred_key[i]] = pred_key_count[i]/tree_num\n",
    "    return vote"
   ]
  },
  {
   "cell_type": "code",
   "execution_count": 7,
   "metadata": {
    "collapsed": false
   },
   "outputs": [
    {
     "data": {
      "text/plain": [
       "{'OK': 1.0}"
      ]
     },
     "execution_count": 7,
     "metadata": {},
     "output_type": "execute_result"
    }
   ],
   "source": [
    "prec = test.iloc[0,1]\n",
    "ts = test.iloc[0,2]\n",
    "tw = test.iloc[0,3]\n",
    "ws = test.iloc[0,4]\n",
    "rf(prec, ts, tw, ws)"
   ]
  },
  {
   "cell_type": "code",
   "execution_count": 8,
   "metadata": {
    "collapsed": true
   },
   "outputs": [],
   "source": [
    "# The function returns the average capacity of resources by multiple their average plant capacity with vote results\n",
    "def avg_capacity(vote):\n",
    "    \"\"\"\n",
    "    creat a null list\n",
    "    set original resources sum euqal to zero\n",
    "    for state in vote keys\n",
    "        average capacity of resource = average plant capacity of particular resource in specific state * vote results specific state\n",
    "    return average capacity\n",
    "    \"\"\"\n",
    "    average_plant_capacity = pd.read_csv('../Arranged_Data/average_plant_capacity.csv')\n",
    "    avg_cap_list = []\n",
    "    coal_sum = 0\n",
    "    ng_sum = 0\n",
    "    petro_sum = 0\n",
    "    hydro_sum = 0\n",
    "    solar_sum = 0\n",
    "    wind_sum =0\n",
    "    for i in vote.keys():\n",
    "        coal_sum += int(average_plant_capacity.Coal[average_plant_capacity.State == i]) * vote[i]\n",
    "        ng_sum += int(average_plant_capacity.NG[average_plant_capacity.State == i]) * vote[i]\n",
    "        petro_sum += int(average_plant_capacity.Petro[average_plant_capacity.State == i]) * vote[i]\n",
    "        hydro_sum += int(average_plant_capacity.Hydro[average_plant_capacity.State == i]) * vote[i]\n",
    "        solar_sum += int(average_plant_capacity.Solar[average_plant_capacity.State == i]) * vote[i]\n",
    "        wind_sum += int(average_plant_capacity.Wind[average_plant_capacity.State == i]) * vote[i]\n",
    "    return([coal_sum, ng_sum, petro_sum, hydro_sum, solar_sum, wind_sum])"
   ]
  },
  {
   "cell_type": "code",
   "execution_count": 9,
   "metadata": {
    "collapsed": false
   },
   "outputs": [
    {
     "name": "stdout",
     "output_type": "stream",
     "text": [
      "[19748.0, 211310.0, 30.0, 59166.0, 0.0, 35471.0]\n",
      "<class 'list'>\n"
     ]
    }
   ],
   "source": [
    "print(avg_capacity({'ID': 1.0}))\n",
    "print(type(avg_capacity({'ID': 1.0})))"
   ]
  },
  {
   "cell_type": "code",
   "execution_count": 10,
   "metadata": {
    "collapsed": true
   },
   "outputs": [],
   "source": [
    "# write up a function to select possible type of resources\n",
    "def possible_type(avg_cap_list):\n",
    "    \"\"\"\n",
    "    creat a empty list to store results of possible type\n",
    "    for some type in all types\n",
    "        calculat p value and set up confidence level as 95%\n",
    "            if p less than alpha, pass\n",
    "            else, append possible type to empty list\n",
    "    return possible type \n",
    "    \"\"\"\n",
    "    cap_pop = pd.read_csv('../Arranged_Data/average_plant_capacity.csv')\n",
    "    e_type = ['Coal', 'NG', 'Petro', 'Hydro', 'Solar', 'Wind']\n",
    "    possible_type_list = []\n",
    "    for i in range(len(e_type)):\n",
    "        p_value = stats.ttest_1samp(cap_pop[cap_pop[e_type[i]] != 0][e_type[i]], avg_cap_list[i])[1]\n",
    "        alpha = 0.05  # confidence level\n",
    "        if avg_cap_list[i] < cap_pop[cap_pop[e_type[i]] !=0][e_type[i]].mean():\n",
    "            if p_value < alpha:\n",
    "                pass\n",
    "            else:\n",
    "                p_value = -(1 - p_value)\n",
    "                possible_type_list.append([p_value, avg_cap_list[i], e_type[i]])\n",
    "        else:\n",
    "            p_value = (1 - p_value)\n",
    "            possible_type_list.append([p_value, avg_cap_list[i], e_type[i]])\n",
    "    return possible_type_list"
   ]
  },
  {
   "cell_type": "code",
   "execution_count": 27,
   "metadata": {
    "collapsed": false
   },
   "outputs": [
    {
     "data": {
      "text/plain": [
       "[0.9999957284484875, 601160.0700000001, 'NG']"
      ]
     },
     "execution_count": 27,
     "metadata": {},
     "output_type": "execute_result"
    }
   ],
   "source": [
    "a = possible_type([3427272.05, 601160.0700000001, 132529.37000000002, 159063.21, 2253.23, 149414.79999999996])\n",
    "a.sort()\n",
    "a[2]"
   ]
  },
  {
   "cell_type": "code",
   "execution_count": 12,
   "metadata": {
    "collapsed": true
   },
   "outputs": [],
   "source": [
    "def clean_or_conv(possible_type_list):\n",
    "    \"\"\"\n",
    "    initialize a null list to store conventional resource\n",
    "    initialize a null lsit to store clean resource\n",
    "    for some type in all types\n",
    "        if type equals coal, natural gas, or petroleum, append it to conventional lsit\n",
    "        elseif type equals hydro, soalr, or wind, append it to clean list\n",
    "    retun conventional list, clean list\n",
    "    \"\"\"\n",
    "    clean_list = []\n",
    "    conventional_list = []\n",
    "    for i in possible_type_list:\n",
    "        if i[2] == 'Coal' or i[2] == 'NG' or i[2] == 'Petro':\n",
    "            conventional_list.append(i)\n",
    "        elif i[2] == 'Hydro' or i[2] == 'Solar' or i[2] == 'Wind':\n",
    "            clean_list.append(i)\n",
    "    return conventional_list, clean_list"
   ]
  },
  {
   "cell_type": "code",
   "execution_count": 13,
   "metadata": {
    "collapsed": false
   },
   "outputs": [
    {
     "data": {
      "text/plain": [
       "[[-0.9042135788656452, 159063.21, 'Hydro'],\n",
       " [-0.8381135736702865, 149414.79999999996, 'Wind']]"
      ]
     },
     "execution_count": 13,
     "metadata": {},
     "output_type": "execute_result"
    }
   ],
   "source": [
    "conv, clean = clean_or_conv([[0.95810457341493549, 3427272.05, 'Coal'],\n",
    " [-0.8923811497455455, 601160.0700000001, 'NG'],\n",
    " [0.99926594657247059, 132529.37000000002, 'Petro'],\n",
    " [-0.90421357886564524, 159063.21, 'Hydro'],\n",
    " [-0.83811357367028649, 149414.79999999996, 'Wind']])\n",
    "clean"
   ]
  },
  {
   "cell_type": "code",
   "execution_count": 14,
   "metadata": {
    "collapsed": true
   },
   "outputs": [],
   "source": [
    "# The function returns the average cost of resources by multiple their average cost with vote results\n",
    "def avg_cost(vote):\n",
    "    \"\"\"\n",
    "    set original resources cost euqal to zero\n",
    "    for state in vote keys\n",
    "        average cost of resource = average cost of particular resource in specific state * vote results of specific state\n",
    "    creat a dictionary to store average cost for each type of resource\n",
    "    return average cost dictinary\n",
    "    \"\"\"\n",
    "    import pandas as pd\n",
    "    cost = pd.read_csv('../Arranged_Data/Cost/df_cost.csv')\n",
    "    coal_sum = 0\n",
    "    ng_sum = 0\n",
    "    petro_sum = 0\n",
    "    hydro_sum = 0\n",
    "    solar_sum = 0\n",
    "    wind_sum =0\n",
    "    for i in vote.keys():\n",
    "        coal_sum += int(cost.Coal[cost.State == i]) * vote[i]\n",
    "        ng_sum += int(cost.NG[cost.State == i]) * vote[i]\n",
    "        petro_sum += int(cost.Petro[cost.State == i]) * vote[i]\n",
    "        hydro_sum += int(cost.Hydro[cost.State == i]) * vote[i]\n",
    "        solar_sum += int(cost.solar[cost.State == i]) * vote[i]\n",
    "        wind_sum += int(cost.WindCost[cost.State == i]) * vote[i]\n",
    "    avg_cost_dict = {'Coal':coal_sum, 'NG':ng_sum, 'Petro':petro_sum, 'Hydro':hydro_sum, 'Solar':solar_sum, 'Wind':wind_sum}\n",
    "    return avg_cost_dict"
   ]
  },
  {
   "cell_type": "code",
   "execution_count": 15,
   "metadata": {
    "collapsed": false
   },
   "outputs": [
    {
     "data": {
      "text/plain": [
       "6"
      ]
     },
     "execution_count": 15,
     "metadata": {},
     "output_type": "execute_result"
    }
   ],
   "source": [
    "a = avg_cost({'ID': 1.0})\n",
    "len(a.keys())"
   ]
  },
  {
   "cell_type": "code",
   "execution_count": 16,
   "metadata": {
    "collapsed": true
   },
   "outputs": [],
   "source": [
    "def sort_and_pick(source_list):\n",
    "    \"\"\"\"\"\"\n",
    "    source_list.sort()\n",
    "    if len(source_list) == 3:\n",
    "        ref = source_list[2]\n",
    "        if abs(source_list[2][0] - source_list[1][0]) < 0.05 and abs(source_list[1][0] - source_list[0][0]) < 0.05 :\n",
    "            for i in source_list:\n",
    "                if i[1] > ref[1]:\n",
    "                    ref = i\n",
    "        elif abs(source_list[2][0] - source_list[1][0]) < 0.05 and abs(source_list[1][0] - source_list[0][0]) >= 0.05:\n",
    "            if source_list[1][1] > ref[1]:\n",
    "                ref = source_list[1]\n",
    "    elif len(source_list) == 2:\n",
    "        ref = source_list[1]\n",
    "        if abs(source_list[1][0] - source_list[0][0]) < 0.05 :\n",
    "            if source_list[0][1] > ref[1]:\n",
    "                ref = source_list[0]\n",
    "    elif len(source_list) == 1:\n",
    "        ref = source_list[0]\n",
    "    else:\n",
    "        ref = []\n",
    "    return ref"
   ]
  },
  {
   "cell_type": "code",
   "execution_count": 23,
   "metadata": {
    "collapsed": false
   },
   "outputs": [
    {
     "data": {
      "text/plain": [
       "[0.9581045734149355, 3427272.05, 'Coal']"
      ]
     },
     "execution_count": 23,
     "metadata": {},
     "output_type": "execute_result"
    }
   ],
   "source": [
    "sort_and_pick(conv)"
   ]
  },
  {
   "cell_type": "code",
   "execution_count": 57,
   "metadata": {
    "collapsed": false
   },
   "outputs": [
    {
     "name": "stderr",
     "output_type": "stream",
     "text": [
      "E\n",
      "======================================================================\n",
      "ERROR: C:\\Users\\yongquan\\AppData\\Roaming\\jupyter\\runtime\\kernel-bfb1ee37-fc3c-47f0-8529-556c7109766b (unittest.loader._FailedTest)\n",
      "----------------------------------------------------------------------\n",
      "AttributeError: module '__main__' has no attribute 'C:\\Users\\yongquan\\AppData\\Roaming\\jupyter\\runtime\\kernel-bfb1ee37-fc3c-47f0-8529-556c7109766b'\n",
      "\n",
      "----------------------------------------------------------------------\n",
      "Ran 1 test in 0.004s\n",
      "\n",
      "FAILED (errors=1)\n"
     ]
    },
    {
     "ename": "SystemExit",
     "evalue": "True",
     "output_type": "error",
     "traceback": [
      "An exception has occurred, use %tb to see the full traceback.\n",
      "\u001b[0;31mSystemExit\u001b[0m\u001b[0;31m:\u001b[0m True\n"
     ]
    }
   ],
   "source": [
    "class TEST_clean_or_conv(unittest.TestCase):\n",
    "    def test_clean_or_conv(self):\n",
    "        test = pd.read_csv('../Arranged_Data/test_dataset.csv')\n",
    "        prec = test.iloc[0,1]\n",
    "        ts = test.iloc[0,2]\n",
    "        tw = test.iloc[0,3]\n",
    "        ws = test.iloc[0,4]\n",
    "        vote = ease.rf(prec, ts, tw, ws)\n",
    "        avg_capacity = ease.avg_capacity(vote)\n",
    "        possible_type = ease.possible_type(avg_capacity)\n",
    "        conv, clean = ease.clean_or_conv(possible_type)\n",
    "        \n",
    "        # test the type of input\n",
    "        self.assertIsInstance(possible_type,list)\n",
    "        # test the type of output\n",
    "        self.assertIsInstance(conv,list)\n",
    "        # test the element type inside of clean list\n",
    "        self.assertIsInstance(clean[0][2],str)\n",
    "        # test if clean source exist in conventional list.\n",
    "        conv_list = ['Coal','NG','Petro']\n",
    "        clean_list = ['Hydro','Solar','Wind']\n",
    "        self.assertNotIn(conv[0][2], clean_list)\n",
    "        self.assertNotIn(clean[0][2], conv_list)\n",
    "        \n",
    "class TEST_avg_cost(unittest.TestCase):\n",
    "    def test_avg_cost(self):\n",
    "        test = pd.read_csv('../Arranged_Data/test_dataset.csv')\n",
    "        prec = test.iloc[0,1]\n",
    "        ts = test.iloc[0,2]\n",
    "        tw = test.iloc[0,3]\n",
    "        ws = test.iloc[0,4]\n",
    "        vote = ease.rf(prec, ts, tw, ws)\n",
    "        avg_cost = ease.avg_cost(vote)\n",
    "        # test the type of input\n",
    "        self.assertIsInstance(vote,dict)\n",
    "        # test the type of output\n",
    "        self.assertIsInstance(avg_cost,dict)\n",
    "        # test the output length\n",
    "        self.assertEqual(len(avg_cost.keys()),6)\n",
    "\n",
    "class TEST_rev_plot(unittest.TestCase):\n",
    "    def test_rev_plot(self):\n",
    "        esales = pd.read_csv('../Arranged_Data/Cost/Sale_CO2_tax.csv', skiprows= 1, names = ['Year', 'Sale', 'CO2_tax']) \n",
    "        # test if there exist nan in cost dataframe\n",
    "        self.assertEqual(esales.isnull().sum().sum(),0)\n",
    "        # test input\n",
    "        test = pd.read_csv('../Arranged_Data/test_dataset.csv')\n",
    "        prec = test.iloc[0,1]\n",
    "        ts = test.iloc[0,2]\n",
    "        tw = test.iloc[0,3]\n",
    "        ws = test.iloc[0,4]\n",
    "        capacity = 100000\n",
    "        vote = ease.rf(prec, ts, tw, ws)\n",
    "        avg_cost = ease.avg_cost(vote)\n",
    "        e_type = ['Coal', 'NG', 'Petro', 'Hydro', 'Solar', 'Wind']\n",
    "        self.assertIsInstance(avg_cost,dict)\n",
    "        self.assertIsInstance(capacity,int)\n",
    "        self.assertIsInstance(e_type,list)\n",
    "\n",
    "class TEST_sort_and_pick(unittest.TestCase):\n",
    "    def test_sort_and_pick(self):\n",
    "        test = pd.read_csv('../Arranged_Data/test_dataset.csv')\n",
    "        prec = test.iloc[0,1]\n",
    "        ts = test.iloc[0,2]\n",
    "        tw = test.iloc[0,3]\n",
    "        ws = test.iloc[0,4]\n",
    "        vote = ease.rf(prec, ts, tw, ws)\n",
    "        avg_cap = ease.avg_capacity(vote)\n",
    "        source_list = ease.possible_type(avg_cap)\n",
    "        ref = \n",
    "        # test input type\n",
    "        self.assertIsInstance(source_list,list)\n",
    "        # test output type\n",
    "        self.assertIsInstance(ref,list)\n",
    "        # test if output is in input list\n",
    "        assertIn(ref,source_list)\n",
    "        \n",
    "        \n",
    "\n",
    "class TEST_suggest(unittest.TestCase):\n",
    "    def test_suggest(self):\n",
    "        test = pd.read_csv('../Arranged_Data/test_dataset.csv')\n",
    "        prec = test.iloc[0,1]\n",
    "        ts = test.iloc[0,2]\n",
    "        tw = test.iloc[0,3]\n",
    "        ws = test.iloc[0,4]\n",
    "        capacity = 5000\n",
    "        vote = ease.rf(prec, ts, tw, ws)\n",
    "        avg_cap = ease.avg_capacity(vote)\n",
    "        possible_type_list = ease.possible_type(avg_cap)\n",
    "        conventional, clean = ease.clean_or_conv(possible_type_list)\n",
    "        conventional = ease.sort_and_pick(conventional)\n",
    "        clean = ease.sort_and_pick(clean)\n",
    "        \n",
    "        # test the type of input\n",
    "        self.assertIsInstance(prec,np.float64)\n",
    "        self.assertIsInstance(ts,np.float64)\n",
    "        self.assertIsInstance(tw,np.float64)\n",
    "        self.assertIsInstance(ws,np.float64)\n",
    "        self.assertIsInstance(capacity,int)\n",
    "        # test output\n",
    "        if len(clean) == 0:\n",
    "            self.assertEqual(revenue_clean,none)\n",
    "        if clean[1] >= capacity:\n",
    "            self.assertEqual(revenue_conv,none)\n",
    "        \n",
    "        \n",
    "        \n",
    "        \n",
    "        \n",
    "if __name__ == '__main__':\n",
    "    unittest.main()"
   ]
  }
 ],
 "metadata": {
  "anaconda-cloud": {},
  "kernelspec": {
   "display_name": "Python [default]",
   "language": "python",
   "name": "python3"
  },
  "language_info": {
   "codemirror_mode": {
    "name": "ipython",
    "version": 3
   },
   "file_extension": ".py",
   "mimetype": "text/x-python",
   "name": "python",
   "nbconvert_exporter": "python",
   "pygments_lexer": "ipython3",
   "version": "3.5.2"
  }
 },
 "nbformat": 4,
 "nbformat_minor": 2
}
