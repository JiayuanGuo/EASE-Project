{
 "cells": [
  {
   "cell_type": "code",
   "execution_count": 1,
   "metadata": {
    "collapsed": true
   },
   "outputs": [],
   "source": [
    "import numpy as np\n",
    "import pandas as pd\n",
    "from scipy import stats\n",
    "import matplotlib.pyplot as plt\n",
    "%matplotlib inline\n",
    "import ease"
   ]
  },
  {
   "cell_type": "code",
   "execution_count": 2,
   "metadata": {
    "collapsed": true
   },
   "outputs": [],
   "source": [
    "# The function involves four input parameters then returns a result of vote\n",
    "def rf(prec, ts, tw, ws):\n",
    "    \"\"\"\n",
    "    This function is RandomForest classifier to intake user input temperature,\n",
    "    precipitation, and windespeed to classify the possible states the user\n",
    "    will be in, and returns a dictionary with states as the keys and\n",
    "    the frequency or count as the values of each key.\n",
    "       input = user input values, integer or float based.\n",
    "       vote  = dictionary based output that contains the RF classified states,\n",
    "               and each states frequency.\n",
    "    \"\"\"\n",
    "    import pandas as pd\n",
    "    from sklearn.ensemble import RandomForestClassifier\n",
    "    import itertools as it\n",
    "    import warnings\n",
    "    \n",
    "    # read arranged weatehr data, drop elements contained in state DC, and remove warnings\n",
    "    train = pd.read_csv('../Arranged_Data/final_weater.csv')[[\n",
    "            'State', 'TotalMonthlyPrecip', 'TempSummer',\n",
    "            'TempWinter', 'Avgwindspeed']]\n",
    "    train = train[train.State != 'DC']\n",
    "    warnings.filterwarnings('ignore')\n",
    "    \n",
    "    # set precipitation, summer temperature, winter temperature, and windspeed as input parameters\n",
    "    # set total number of trees equal to 500\n",
    "    # creat a list for saving prediction results and a dictonary for vote outcome\n",
    "    input_ = [prec, ts, tw, ws]\n",
    "    tree_num = 5000\n",
    "    pred_list = []\n",
    "    vote = {}\n",
    "    rf = RandomForestClassifier(n_estimators = tree_num)\n",
    "    rf.fit(train.iloc[:,1:5], train.State)\n",
    "\n",
    "    for i in range(tree_num):\n",
    "        dt = rf.estimators_[i]\n",
    "        dt.fit(train.iloc[:,1:5], train.State)\n",
    "        pred = dt.predict(input_)\n",
    "        pred_list.append(pred[0])\n",
    "\n",
    "    pred_key = []\n",
    "    pred_key_count = []\n",
    "    for key, group in it.groupby(sorted(pred_list)):\n",
    "        pred_key.append(key)\n",
    "        pred_key_count.append(len(list(group)))\n",
    "    \n",
    "    # the dictionary of vote contains states as keys and weight percent as values\n",
    "    for i in range(len(pred_key)):\n",
    "        vote[pred_key[i]] = pred_key_count[i]/tree_num\n",
    "    return vote"
   ]
  },
  {
   "cell_type": "code",
   "execution_count": 3,
   "metadata": {
    "collapsed": false
   },
   "outputs": [],
   "source": [
    "# The function returns the average capacity of resources by multiple their average plant capacity with vote results\n",
    "def avg_capacity(vote):\n",
    "    \"\"\"\n",
    "    creat a null list\n",
    "    set original resources sum euqal to zero\n",
    "    for state in vote keys\n",
    "        average capacity of resource = average plant capacity of particular resource in specific state * vote results specific state\n",
    "    return average capacity\n",
    "    \"\"\"\n",
    "    average_plant_capacity = pd.read_csv('../Arranged_Data/average_plant_capacity.csv')\n",
    "    avg_cap_list = []\n",
    "    coal_sum = 0\n",
    "    ng_sum = 0\n",
    "    petro_sum = 0\n",
    "    hydro_sum = 0\n",
    "    solar_sum = 0\n",
    "    wind_sum =0\n",
    "    for i in vote.keys():\n",
    "        coal_sum += int(average_plant_capacity.Coal[average_plant_capacity.State == i]) * vote[i]\n",
    "        ng_sum += int(average_plant_capacity.NG[average_plant_capacity.State == i]) * vote[i]\n",
    "        petro_sum += int(average_plant_capacity.Petro[average_plant_capacity.State == i]) * vote[i]\n",
    "        hydro_sum += int(average_plant_capacity.Hydro[average_plant_capacity.State == i]) * vote[i]\n",
    "        solar_sum += int(average_plant_capacity.Solar[average_plant_capacity.State == i]) * vote[i]\n",
    "        wind_sum += int(average_plant_capacity.Wind[average_plant_capacity.State == i]) * vote[i]\n",
    "    return([coal_sum, ng_sum, petro_sum, hydro_sum, solar_sum, wind_sum])"
   ]
  },
  {
   "cell_type": "code",
   "execution_count": 4,
   "metadata": {
    "collapsed": false
   },
   "outputs": [
    {
     "data": {
      "text/plain": [
       "1439076.4893617022"
      ]
     },
     "execution_count": 4,
     "metadata": {},
     "output_type": "execute_result"
    }
   ],
   "source": [
    "cap_pop = pd.read_csv('../Arranged_Data/average_plant_capacity.csv')\n",
    "cap_pop[cap_pop.Coal != 0].Coal.mean()"
   ]
  },
  {
   "cell_type": "code",
   "execution_count": 5,
   "metadata": {
    "collapsed": false
   },
   "outputs": [],
   "source": [
    "# write up a function to select possible type of resources\n",
    "def possible_type(avg_cap_list):\n",
    "    \"\"\"\n",
    "    creat a empty list to store results of possible type\n",
    "    for some type in all types\n",
    "        calculat p value and set up confidence level as 95%\n",
    "            if p less than alpha, pass\n",
    "            else, append possible type to empty list\n",
    "    return possible type \n",
    "    \"\"\"\n",
    "    cap_pop = pd.read_csv('../Arranged_Data/average_plant_capacity.csv')\n",
    "    e_type = ['Coal', 'NG', 'Petro', 'Hydro', 'Solar', 'Wind']\n",
    "    possible_type_list = []\n",
    "    for i in range(len(e_type)):\n",
    "        p_value = stats.ttest_1samp(cap_pop[cap_pop[e_type[i]] != 0][e_type[i]], avg_cap_list[i])[1]\n",
    "        alpha = 0.05  # confidence level\n",
    "        if avg_cap_list[i] < cap_pop[cap_pop[e_type[i]] !=0][e_type[i]].mean():\n",
    "            if p_value < alpha:\n",
    "                pass\n",
    "            else:\n",
    "                p_value = -(1 - p_value)\n",
    "                possible_type_list.append([p_value, avg_cap_list[i], e_type[i]])\n",
    "        else:\n",
    "            p_value = (1 - p_value)\n",
    "            possible_type_list.append([p_value, avg_cap_list[i], e_type[i]])\n",
    "    return possible_type_list"
   ]
  },
  {
   "cell_type": "code",
   "execution_count": 6,
   "metadata": {
    "collapsed": false
   },
   "outputs": [
    {
     "data": {
      "text/plain": [
       "[[1.0, 3427272.05, 'Coal'],\n",
       " [0.9999957284484875, 601160.0700000001, 'NG'],\n",
       " [0.99999999999991029, 132529.37000000002, 'Petro'],\n",
       " [0.71925414999001624, 159063.21, 'Hydro'],\n",
       " [-0.94810332639059414, 2253.23, 'Solar'],\n",
       " [0.99999976119956313, 149414.79999999996, 'Wind']]"
      ]
     },
     "execution_count": 6,
     "metadata": {},
     "output_type": "execute_result"
    }
   ],
   "source": [
    "possible_type([3427272.05, 601160.0700000001, 132529.37000000002, 159063.21, 2253.23, 149414.79999999996])"
   ]
  },
  {
   "cell_type": "code",
   "execution_count": 10,
   "metadata": {
    "collapsed": false
   },
   "outputs": [
    {
     "data": {
      "text/plain": [
       "([0.4288, 0.4374, 0.421, 0.4296, 0.4192, 0.4382, 0.4228, 0.4326, 0.4276, 0.43],\n",
       " 0.0060763146725626343,\n",
       " ['GA', 'GA', 'GA', 'GA', 'GA', 'GA', 'GA', 'GA', 'GA', 'GA'])"
      ]
     },
     "execution_count": 10,
     "metadata": {},
     "output_type": "execute_result"
    }
   ],
   "source": [
    "# test 5000 DT output fluctuation:\n",
    "def rf_fluctuation(prec, ts, tw, ws):\n",
    "    \"\"\"\n",
    "    creat a null list to store keys have maximun wt%\n",
    "    creat a null list to store maximum wt% of corresponding keys\n",
    "    for i in total run times\n",
    "        select key which has maximum wt% and append key and its value to seperate null list\n",
    "    return max wt%, std, keys\n",
    "    \"\"\"\n",
    "    max_keys = []\n",
    "    max_values =[]\n",
    "    for i in range(10):\n",
    "        i = rf(prec, ts, tw, ws)\n",
    "        max_i_value = max(i.values())\n",
    "        max_key = max(i.keys(), key=(lambda k: i[k]))\n",
    "        max_values.append(max_i_value)\n",
    "        max_keys.append(max_key)\n",
    "    return (max_values, np.std(max_values), max_keys)\n",
    "\n",
    "rf_fluctuation(2, 75, 50, 1.5)"
   ]
  },
  {
   "cell_type": "code",
   "execution_count": 7,
   "metadata": {
    "collapsed": false
   },
   "outputs": [
    {
     "data": {
      "text/plain": [
       "[1863277.6400000001,\n",
       " 331116.6100000001,\n",
       " 70253.18,\n",
       " 93111.37,\n",
       " 769.4399999999999,\n",
       " 77966.15000000001]"
      ]
     },
     "execution_count": 7,
     "metadata": {},
     "output_type": "execute_result"
    }
   ],
   "source": [
    "a = ease.avg_capacity(ease.rf(2, 75, 30, 1.5))\n",
    "a"
   ]
  },
  {
   "cell_type": "code",
   "execution_count": 8,
   "metadata": {
    "collapsed": false
   },
   "outputs": [],
   "source": [
    "b = ease.possible_type(a)"
   ]
  },
  {
   "cell_type": "code",
   "execution_count": 38,
   "metadata": {
    "collapsed": false
   },
   "outputs": [],
   "source": [
    "# plot total money saved in million dollars versus year\n",
    "def rev_plot(avg_cost, capacity, e_type, label, avg_cost_conv = 0, capacity_conv = 0):\n",
    "    \"\"\"\n",
    "    if resource type is conventional, conventional revenue equals (sale - carbon dioxide tax - average cost) * capacity\n",
    "    elseif resource type is clean, clean revenue equals (sale - average cost) * capacity\n",
    "    elseif total revenue equals conventional revenue + clean revenue\n",
    "    return plot\n",
    "    \"\"\"\n",
    "    esales = pd.read_csv('../Arranged_Data/Cost/Sale_CO2_tax.csv', skiprows= 1, names = ['Year', 'Sale', 'CO2_tax'])\n",
    "    if e_type == 'conventional':\n",
    "        revenue = (esales.Sale - esales.CO2_tax - avg_cost) * capacity / 1e6\n",
    "    elif e_type == 'clean':\n",
    "        revenue = (esales.Sale - avg_cost) * capacity / 1e6\n",
    "    elif e_type == 'total':\n",
    "        revenue = ((esales.Sale - avg_cost) * capacity + (esales.Sale - esales.CO2_tax - avg_cost_conv) * capacity_conv) / 1e6\n",
    "    plt.figure(1,figsize = (15, 8))\n",
    "    plt.plot(np.arange(2018, 2051), revenue[3:], label=label)\n",
    "    plt.xlabel('Year')\n",
    "    plt.ylabel('Money Save (million dollars / year)')\n",
    "    plt.legend(shadow = True)\n",
    "    plt.grid(linestyle = 'dotted')\n",
    "    return plt"
   ]
  },
  {
   "cell_type": "code",
   "execution_count": 39,
   "metadata": {
    "collapsed": false
   },
   "outputs": [
    {
     "data": {
      "text/plain": [
       "<module 'matplotlib.pyplot' from '/Users/IvanC/miniconda3/lib/python3.5/site-packages/matplotlib/pyplot.py'>"
      ]
     },
     "execution_count": 39,
     "metadata": {},
     "output_type": "execute_result"
    },
    {
     "data": {
      "image/png": "[encoded data removed]",
      "text/plain": [
       "<matplotlib.figure.Figure at 0x1044bf128>"
      ]
     },
     "metadata": {},
     "output_type": "display_data"
    }
   ],
   "source": [
    "a = rev_plot(30, 500, 'total', 'Try', 10, 3)\n",
    "a"
   ]
  },
  {
   "cell_type": "code",
   "execution_count": 13,
   "metadata": {
    "collapsed": false
   },
   "outputs": [
    {
     "data": {
      "text/plain": [
       "array(['Coal', 'NG', 'Petro', 'Hydro', 'Wind'], \n",
       "      dtype='<U32')"
      ]
     },
     "execution_count": 13,
     "metadata": {},
     "output_type": "execute_result"
    }
   ],
   "source": [
    "np.array(b)[:, 2]"
   ]
  },
  {
   "cell_type": "code",
   "execution_count": 14,
   "metadata": {
    "collapsed": false
   },
   "outputs": [],
   "source": [
    "# The function returns the average cost of resources by multiple their average cost with vote results\n",
    "def avg_cost(vote):\n",
    "    \"\"\"\n",
    "    set original resources cost euqal to zero\n",
    "    for state in vote keys\n",
    "        average cost of resource = average cost of particular resource in specific state * vote results of specific state\n",
    "    creat a dictionary to store average cost for each type of resource\n",
    "    return average cost dictinary\n",
    "    \"\"\"\n",
    "    import pandas as pd\n",
    "    cost = pd.read_csv('../Arranged_Data/Cost/df_cost.csv')\n",
    "    coal_sum = 0\n",
    "    ng_sum = 0\n",
    "    petro_sum = 0\n",
    "    hydro_sum = 0\n",
    "    solar_sum = 0\n",
    "    wind_sum =0\n",
    "    for i in vote.keys():\n",
    "        coal_sum += int(cost.Coal[cost.State == i]) * vote[i]\n",
    "        ng_sum += int(cost.NG[cost.State == i]) * vote[i]\n",
    "        petro_sum += int(cost.Petro[cost.State == i]) * vote[i]\n",
    "        hydro_sum += int(cost.Hydro[cost.State == i]) * vote[i]\n",
    "        solar_sum += int(cost.solar[cost.State == i]) * vote[i]\n",
    "        wind_sum += int(cost.WindCost[cost.State == i]) * vote[i]\n",
    "    avg_cost_dict = {'Coal':coal_sum, 'NG':ng_sum, 'Petro':petro_sum, 'Hydro':hydro_sum, 'Solar':solar_sum, 'Wind':wind_sum}\n",
    "    return avg_cost_dict"
   ]
  },
  {
   "cell_type": "code",
   "execution_count": 15,
   "metadata": {
    "collapsed": false
   },
   "outputs": [
    {
     "data": {
      "text/plain": [
       "{'Coal': 24.990000000000002,\n",
       " 'Hydro': 85.0,\n",
       " 'NG': 52.63999999999999,\n",
       " 'Petro': 164.22,\n",
       " 'Solar': 124.88999999999999,\n",
       " 'Wind': 37.02}"
      ]
     },
     "execution_count": 15,
     "metadata": {},
     "output_type": "execute_result"
    }
   ],
   "source": [
    "avg_cost(ease.rf(2, 75, 30, 1.5))"
   ]
  },
  {
   "cell_type": "code",
   "execution_count": 16,
   "metadata": {
    "collapsed": true
   },
   "outputs": [],
   "source": [
    "# distinguish the type of resource, either belong to conventional or clean\n",
    "def clean_or_conv(possible_type_list):\n",
    "    \"\"\"\n",
    "    initialize a null list to store conventional resource\n",
    "    initialize a null lsit to store clean resource\n",
    "    for some type in all types\n",
    "        if type equals coal, natural gas, or petroleum, append it to conventional lsit\n",
    "        elseif type equals hydro, soalr, or wind, append it to clean list\n",
    "    retun conventional list, clean list\n",
    "    \"\"\"\n",
    "    clean_list = []\n",
    "    conventional_list = []\n",
    "    for i in possible_type_list:\n",
    "        if i[2] == 'Coal' or i[2] == 'NG' or i[2] == 'Petro':\n",
    "            conventional_list.append(i)\n",
    "        elif i[2] == 'Hydro' or i[2] == 'Solar' or i[2] == 'Wind':\n",
    "            clean_list.append(i)\n",
    "    return conventional_list, clean_list"
   ]
  },
  {
   "cell_type": "code",
   "execution_count": 17,
   "metadata": {
    "collapsed": false
   },
   "outputs": [
    {
     "data": {
      "text/plain": [
       "[[-0.9042135788656452, 159063.21, 'Hydro'],\n",
       " [-0.8381135736702865, 149414.79999999996, 'Wind']]"
      ]
     },
     "execution_count": 17,
     "metadata": {},
     "output_type": "execute_result"
    }
   ],
   "source": [
    "conv, clean = clean_or_conv([[0.95810457341493549, 3427272.05, 'Coal'],\n",
    " [-0.8923811497455455, 601160.0700000001, 'NG'],\n",
    " [0.99926594657247059, 132529.37000000002, 'Petro'],\n",
    " [-0.90421357886564524, 159063.21, 'Hydro'],\n",
    " [-0.83811357367028649, 149414.79999999996, 'Wind']])\n",
    "clean"
   ]
  },
  {
   "cell_type": "code",
   "execution_count": 18,
   "metadata": {
    "collapsed": true
   },
   "outputs": [],
   "source": [
    "# pick the type of resource based on its p value\n",
    "def sort_and_pick(source_list):\n",
    "    \"\"\"\"\"\"\n",
    "    source_list.sort()\n",
    "    if len(source_list) == 3:\n",
    "        ref = source_list[2]\n",
    "        if abs(source_list[2][0] - source_list[1][0]) < 0.05 and abs(source_list[1][0] - source_list[0][0]) < 0.05 :\n",
    "            for i in source_list:\n",
    "                if i[1] > ref[1]:\n",
    "                    ref = i\n",
    "        elif abs(source_list[2][0] - source_list[1][0]) < 0.05 and abs(source_list[1][0] - source_list[0][0]) >= 0.05:\n",
    "            if source_list[1][1] > ref[1]:\n",
    "                ref = source_list[1]\n",
    "    elif len(source_list) == 2:\n",
    "        ref = source_list[1]\n",
    "        if abs(source_list[1][0] - source_list[0][0]) < 0.05 :\n",
    "            if source_list[0][1] > ref[1]:\n",
    "                ref = source_list[0]\n",
    "    elif len(source_list) == 1:\n",
    "        ref = source_list[0]\n",
    "    else:\n",
    "        ref = []\n",
    "    return ref"
   ]
  },
  {
   "cell_type": "code",
   "execution_count": 19,
   "metadata": {
    "collapsed": false
   },
   "outputs": [
    {
     "data": {
      "text/plain": [
       "[0.9581045734149355, 3427272.05, 'Coal']"
      ]
     },
     "execution_count": 19,
     "metadata": {},
     "output_type": "execute_result"
    }
   ],
   "source": [
    "sort_and_pick(conv)"
   ]
  },
  {
   "cell_type": "code",
   "execution_count": 40,
   "metadata": {
    "collapsed": false
   },
   "outputs": [],
   "source": [
    "def suggest(prec, ts, tw, ws, capacity):\n",
    "    \"\"\"\n",
    "    if no clean resource, clean revenue equals zero, calculate conventinal capacity and plot revenue from conventioan resource\n",
    "    else electricity generated by clean resource greater or equal than client input capacity, plot revenue from clean resouece\n",
    "        electricity generated by clean resource less than client input capacity, plot conventinal revenue, clean revenue, and total revenue\n",
    "    return clean revenue, conventinal revenue, total revenue\n",
    "    \"\"\"\n",
    "    source_co2 = {'Coal':2133, 'Petro':1700, 'NG':1220}\n",
    "    state_vote = rf(prec, ts, tw, ws)\n",
    "    cap = avg_capacity(state_vote)\n",
    "    cost = avg_cost(state_vote)\n",
    "    source_list = possible_type(cap)\n",
    "    conventional, clean = clean_or_conv(source_list)\n",
    "    conventional = sort_and_pick(conventional)\n",
    "    clean = sort_and_pick(clean)\n",
    "    df = pd.DataFrame()\n",
    "    if len(clean) == 0:\n",
    "        capacity = min([conventional[1], capacity])\n",
    "        revenue_clean = None\n",
    "        revenue_conv = rev_plot(cost[conventional[2]], capacity, 'conventional', conventional[2])\n",
    "        revenue_conv.title('Money Save using ' + conventional[2] + ' (capacity = ' + str(capacity) + ' Mwh)')\n",
    "        revenue_total = None\n",
    "    else:\n",
    "        if clean[1] >= capacity:\n",
    "            revenue_clean = rev_plot(cost[clean[2]], capacity, 'clean', clean[2])\n",
    "            revenue_clean.title('Money Save using ' + clean[2] + ' (capacity = ' + str(capacity) + ' Mwh)')\n",
    "            revenue_conv = None\n",
    "            revenue_total = None\n",
    "        else:\n",
    "            plt.figure(1,figsize = (15, 8))\n",
    "            plt.subplot(121)\n",
    "            revenue_clean = rev_plot(cost[clean[2]], clean[1], 'clean', clean[2] + ' (capacity = ' + str(int(clean[1])) + ' Mwh)')\n",
    "            revenue_conv = rev_plot(cost[conventional[2]], (capacity - clean[1]), 'conventional', conventional[2] + ' (capacity = ' + str(int(capacity - clean[1])) + ' Mwh)')\n",
    "            revenue_total = rev_plot(cost[clean[2]], clean[1], 'total', 'Total (capacity = ' + str(capacity) + ' Mwh)', avg_cost_conv = cost[conventional[2]], capacity_conv = (capacity - clean[1]))\n",
    "            revenue_total.title('Money Save using ' + clean[2] + ' Combined with ' + conventional[2])\n",
    "            for k in conventional:\n",
    "                if k in source_co2:\n",
    "                    conversion_to_co2 = source_co2[k]\n",
    "            print('Emitted Co2 using', conventional[2], 'is:', int(capacity - clean[1]) * conversion_to_co2 * 0.000453592, 'metric tons')\n",
    "            df['Year'] = [2016, 2050]\n",
    "            df['CO2_emission'] = [3587231, capacity - clean[1] * conversion_to_co2 * 0.000453592]\n",
    "            plt.subplot(122)\n",
    "            co2_plot = plt.bar(df.Year, df.CO2_emission, width = 12, color = '#778899')\n",
    "            plt.xticks(df.Year, ('2016', '2050'))\n",
    "            plt.xlabel('Year')\n",
    "            plt.ylabel('CO2 Emission (Metric Tons)')\n",
    "            plt.grid(linestyle = 'dotted')\n",
    "            plt.title('CO2 Emission with ' + conventional[2])\n",
    "    return revenue_clean, revenue_conv, revenue_total, co2_plot"
   ]
  },
  {
   "cell_type": "code",
   "execution_count": 41,
   "metadata": {
    "collapsed": false
   },
   "outputs": [
    {
     "name": "stdout",
     "output_type": "stream",
     "text": [
      "Emitted Co2 using Coal is: 186962.935376376 metric tons\n"
     ]
    },
    {
     "data": {
      "text/plain": [
       "(<module 'matplotlib.pyplot' from '/Users/IvanC/miniconda3/lib/python3.5/site-packages/matplotlib/pyplot.py'>,\n",
       " <module 'matplotlib.pyplot' from '/Users/IvanC/miniconda3/lib/python3.5/site-packages/matplotlib/pyplot.py'>,\n",
       " <module 'matplotlib.pyplot' from '/Users/IvanC/miniconda3/lib/python3.5/site-packages/matplotlib/pyplot.py'>,\n",
       " <Container object of 2 artists>)"
      ]
     },
     "execution_count": 41,
     "metadata": {},
     "output_type": "execute_result"
    },
    {
     "data": {
      "image/png": "[encoded data removed]",
      "text/plain": [
       "<matplotlib.figure.Figure at 0x19d82ac88>"
      ]
     },
     "metadata": {},
     "output_type": "display_data"
    }
   ],
   "source": [
    "suggest(2, 75, 50, 1.5, 200000)"
   ]
  },
  {
   "cell_type": "code",
   "execution_count": null,
   "metadata": {
    "collapsed": false
   },
   "outputs": [],
   "source": [
    ""
   ]
  },
  {
   "cell_type": "code",
   "execution_count": null,
   "metadata": {
    "collapsed": true
   },
   "outputs": [],
   "source": [
    ""
   ]
  }
 ],
 "metadata": {
  "anaconda-cloud": {},
  "kernelspec": {
   "display_name": "Python [default]",
   "language": "python",
   "name": "python3"
  },
  "language_info": {
   "codemirror_mode": {
    "name": "ipython",
    "version": 3.0
   },
   "file_extension": ".py",
   "mimetype": "text/x-python",
   "name": "python",
   "nbconvert_exporter": "python",
   "pygments_lexer": "ipython3",
   "version": "3.5.2"
  }
 },
 "nbformat": 4,
 "nbformat_minor": 0
}