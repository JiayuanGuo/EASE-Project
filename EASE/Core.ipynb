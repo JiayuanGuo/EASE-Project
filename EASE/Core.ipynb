{
 "cells": [
  {
   "cell_type": "code",
<<<<<<< HEAD
   "execution_count": 1,
=======
   "execution_count": 9,
>>>>>>> 8162dbeef56ec61e3ba04cf6091266e265912a03
   "metadata": {
    "collapsed": true
   },
   "outputs": [],
   "source": [
    "import numpy as np\n",
    "import pandas as pd\n",
    "from scipy import stats\n",
    "import matplotlib.pyplot as plt\n",
    "%matplotlib inline\n",
    "import ease"
   ]
  },
  {
   "cell_type": "code",
   "execution_count": 2,
   "metadata": {
    "collapsed": true
   },
   "outputs": [],
   "source": [
    "# The function involves four input parameters then returns a result of vote\n",
    "def rf(prec, ts, tw, ws):\n",
    "    \"\"\"\n",
    "    This function is RandomForest classifier to intake user input temperature,\n",
    "    precipitation, and windespeed to classify the possible states the user\n",
    "    will be in, and returns a dictionary with states as the keys and\n",
    "    the frequency or count as the values of each key.\n",
    "       input = user input values, integer or float based.\n",
    "       vote  = dictionary based output that contains the RF classified states,\n",
    "               and each states frequency.\n",
    "    \"\"\"\n",
    "    import pandas as pd\n",
    "    from sklearn.ensemble import RandomForestClassifier\n",
    "    import itertools as it\n",
    "    import warnings\n",
    "    \n",
    "    # read arranged weatehr data, drop elements contained in state DC, and remove warnings\n",
    "    train = pd.read_csv('../Arranged_Data/final_weater.csv')[[\n",
    "            'State', 'TotalMonthlyPrecip', 'TempSummer',\n",
    "            'TempWinter', 'Avgwindspeed']]\n",
    "    train = train[train.State != 'DC']\n",
    "    warnings.filterwarnings('ignore')\n",
    "    \n",
    "    # set precipitation, summer temperature, winter temperature, and windspeed as input parameters\n",
    "    # set total number of trees equal to 500\n",
    "    # creat a list for saving prediction results and a dictonary for vote outcome\n",
    "    input_ = [prec, ts, tw, ws]\n",
    "    tree_num = 5000\n",
    "    pred_list = []\n",
    "    vote = {}\n",
    "    rf = RandomForestClassifier(n_estimators = tree_num)\n",
    "    rf.fit(train.iloc[:,1:5], train.State)\n",
    "\n",
    "    for i in range(tree_num):\n",
    "        dt = rf.estimators_[i]\n",
    "        dt.fit(train.iloc[:,1:5], train.State)\n",
    "        pred = dt.predict(input_)\n",
    "        pred_list.append(pred[0])\n",
    "\n",
    "    pred_key = []\n",
    "    pred_key_count = []\n",
    "    for key, group in it.groupby(sorted(pred_list)):\n",
    "        pred_key.append(key)\n",
    "        pred_key_count.append(len(list(group)))\n",
    "    \n",
    "    # the dictionary of vote contains states as keys and weight percent as values\n",
    "    for i in range(len(pred_key)):\n",
    "        vote[pred_key[i]] = pred_key_count[i]/tree_num\n",
    "    return vote"
   ]
  },
  {
   "cell_type": "code",
   "execution_count": 3,
   "metadata": {
    "collapsed": false
   },
   "outputs": [],
   "source": [
    "# The function returns the average capacity of resources by multiple their average plant capacity with vote results\n",
    "def avg_capacity(vote):\n",
    "    \"\"\"\n",
    "    creat a null list\n",
    "    set original resources sum euqal to zero\n",
    "    for state in vote keys\n",
    "        average capacity of resource = average plant capacity of particular resource in specific state * vote results specific state\n",
    "    return average capacity\n",
    "    \"\"\"\n",
<<<<<<< HEAD
    "    import pandas as pd\n",
=======
>>>>>>> 8162dbeef56ec61e3ba04cf6091266e265912a03
    "    average_plant_capacity = pd.read_csv('../Arranged_Data/average_plant_capacity.csv')\n",
    "    avg_cap_list = []\n",
    "    coal_sum = 0\n",
    "    ng_sum = 0\n",
    "    petro_sum = 0\n",
    "    hydro_sum = 0\n",
    "    solar_sum = 0\n",
    "    wind_sum =0\n",
    "    for i in vote.keys():\n",
    "        coal_sum += int(average_plant_capacity.Coal[average_plant_capacity.State == i]) * vote[i]\n",
    "        ng_sum += int(average_plant_capacity.NG[average_plant_capacity.State == i]) * vote[i]\n",
    "        petro_sum += int(average_plant_capacity.Petro[average_plant_capacity.State == i]) * vote[i]\n",
    "        hydro_sum += int(average_plant_capacity.Hydro[average_plant_capacity.State == i]) * vote[i]\n",
    "        solar_sum += int(average_plant_capacity.Solar[average_plant_capacity.State == i]) * vote[i]\n",
    "        wind_sum += int(average_plant_capacity.Wind[average_plant_capacity.State == i]) * vote[i]\n",
    "    return([coal_sum, ng_sum, petro_sum, hydro_sum, solar_sum, wind_sum])"
   ]
  },
  {
   "cell_type": "code",
   "execution_count": 4,
   "metadata": {
    "collapsed": false
   },
   "outputs": [
    {
     "data": {
      "text/plain": [
       "1439076.4893617022"
      ]
     },
     "execution_count": 4,
     "metadata": {},
     "output_type": "execute_result"
    }
   ],
   "source": [
    "cap_pop = pd.read_csv('../Arranged_Data/average_plant_capacity.csv')\n",
    "cap_pop[cap_pop.Coal != 0].Coal.mean()"
   ]
  },
  {
   "cell_type": "code",
   "execution_count": 5,
   "metadata": {
    "collapsed": false
   },
   "outputs": [],
   "source": [
    "# write up a function to select possible type of resources\n",
    "def possible_type(avg_cap_list):\n",
    "    \"\"\"\n",
    "    creat a empty list to store results of possible type\n",
    "    for some type in all types\n",
    "        calculat p value and set up confidence level as 95%\n",
    "            if p less than alpha, pass\n",
    "            else, append possible type to empty list\n",
    "    return possible type \n",
    "    \"\"\"\n",
<<<<<<< HEAD
    "    import pandas as pd\n",
    "    from scipy import stats\n",
=======
>>>>>>> 8162dbeef56ec61e3ba04cf6091266e265912a03
    "    cap_pop = pd.read_csv('../Arranged_Data/average_plant_capacity.csv')\n",
    "    e_type = ['Coal', 'NG', 'Petro', 'Hydro', 'Solar', 'Wind']\n",
    "    possible_type_list = []\n",
    "    for i in range(len(e_type)):\n",
    "        p_value = stats.ttest_1samp(cap_pop[cap_pop[e_type[i]] != 0][e_type[i]], avg_cap_list[i])[1]\n",
    "        alpha = 0.05  # confidence level\n",
    "        if avg_cap_list[i] < cap_pop[cap_pop[e_type[i]] !=0][e_type[i]].mean():\n",
    "            if p_value < alpha:\n",
    "                pass\n",
    "            else:\n",
    "                p_value = -(1 - p_value)\n",
    "                possible_type_list.append([p_value, avg_cap_list[i], e_type[i]])\n",
    "        else:\n",
    "            p_value = (1 - p_value)\n",
    "            possible_type_list.append([p_value, avg_cap_list[i], e_type[i]])\n",
    "    return possible_type_list"
   ]
  },
  {
   "cell_type": "code",
   "execution_count": 6,
   "metadata": {
    "collapsed": false
   },
   "outputs": [
    {
     "data": {
      "text/plain": [
       "[[1.0, 3427272.05, 'Coal'],\n",
       " [0.9999957284484875, 601160.0700000001, 'NG'],\n",
       " [0.99999999999991029, 132529.37000000002, 'Petro'],\n",
       " [0.71925414999001624, 159063.21, 'Hydro'],\n",
       " [-0.94810332639059414, 2253.23, 'Solar'],\n",
       " [0.99999976119956313, 149414.79999999996, 'Wind']]"
      ]
     },
     "execution_count": 6,
     "metadata": {},
     "output_type": "execute_result"
    }
   ],
   "source": [
    "possible_type([3427272.05, 601160.0700000001, 132529.37000000002, 159063.21, 2253.23, 149414.79999999996])"
   ]
  },
  {
   "cell_type": "code",
<<<<<<< HEAD
   "execution_count": null,
   "metadata": {
    "collapsed": false
   },
   "outputs": [],
=======
   "execution_count": 10,
   "metadata": {
    "collapsed": false
   },
   "outputs": [
    {
     "data": {
      "text/plain": [
       "([0.4288, 0.4374, 0.421, 0.4296, 0.4192, 0.4382, 0.4228, 0.4326, 0.4276, 0.43],\n",
       " 0.0060763146725626343,\n",
       " ['GA', 'GA', 'GA', 'GA', 'GA', 'GA', 'GA', 'GA', 'GA', 'GA'])"
      ]
     },
     "execution_count": 10,
     "metadata": {},
     "output_type": "execute_result"
    }
   ],
>>>>>>> 8162dbeef56ec61e3ba04cf6091266e265912a03
   "source": [
    "# test 5000 DT output fluctuation:\n",
    "def rf_fluctuation(prec, ts, tw, ws):\n",
    "    \"\"\"\n",
    "    creat a null list to store keys have maximun wt%\n",
    "    creat a null list to store maximum wt% of corresponding keys\n",
    "    for i in total run times\n",
    "        select key which has maximum wt% and append key and its value to seperate null list\n",
    "    return max wt%, std, keys\n",
    "    \"\"\"\n",
    "    max_keys = []\n",
    "    max_values =[]\n",
    "    for i in range(10):\n",
    "        i = rf(prec, ts, tw, ws)\n",
    "        max_i_value = max(i.values())\n",
    "        max_key = max(i.keys(), key=(lambda k: i[k]))\n",
    "        max_values.append(max_i_value)\n",
    "        max_keys.append(max_key)\n",
    "    return (max_values, np.std(max_values), max_keys)\n",
    "\n",
    "rf_fluctuation(2, 75, 50, 1.5)"
   ]
  },
  {
   "cell_type": "code",
<<<<<<< HEAD
   "execution_count": 7,
   "metadata": {
    "collapsed": false
   },
   "outputs": [
    {
     "data": {
      "text/plain": [
       "[1950871.9400000002,\n",
       " 303077.13000000006,\n",
       " 61887.41000000001,\n",
       " 88147.99,\n",
       " 1061.8700000000001,\n",
       " 84177.42]"
      ]
     },
     "execution_count": 7,
     "metadata": {},
     "output_type": "execute_result"
    }
   ],
=======
   "execution_count": null,
   "metadata": {
    "collapsed": false
   },
   "outputs": [],
>>>>>>> 8162dbeef56ec61e3ba04cf6091266e265912a03
   "source": [
    "a = ease.avg_capacity(ease.rf(2, 75, 30, 1.5))\n",
    "a"
   ]
  },
  {
   "cell_type": "code",
   "execution_count": 8,
   "metadata": {
    "collapsed": false
   },
   "outputs": [],
   "source": [
    "b = ease.possible_type(a)"
   ]
  },
  {
   "cell_type": "code",
<<<<<<< HEAD
   "execution_count": 9,
=======
   "execution_count": null,
>>>>>>> 8162dbeef56ec61e3ba04cf6091266e265912a03
   "metadata": {
    "collapsed": false
   },
   "outputs": [],
   "source": [
    "# plot total money saved in million dollars versus year\n",
    "def rev_plot(avg_cost, capacity, e_type, label, avg_cost_conv = 0, capacity_conv = 0):\n",
    "    \"\"\"\n",
    "    if resource type is conventional, conventional revenue equals (sale - carbon dioxide tax - average cost) * capacity\n",
    "    elseif resource type is clean, clean revenue equals (sale - average cost) * capacity\n",
    "    elseif total revenue equals conventional revenue + clean revenue\n",
    "    return plot\n",
    "    \"\"\"\n",
<<<<<<< HEAD
    "    import pandas as pd\n",
    "    import matplotlib.pyplot as plt\n",
    "    \n",
=======
>>>>>>> 8162dbeef56ec61e3ba04cf6091266e265912a03
    "    esales = pd.read_csv('../Arranged_Data/Cost/Sale_CO2_tax.csv', skiprows= 1, names = ['Year', 'Sale', 'CO2_tax'])\n",
    "    if e_type == 'conventional':\n",
    "        revenue = (esales.Sale - esales.CO2_tax - avg_cost) * capacity / 1e6\n",
    "    elif e_type == 'clean':\n",
    "        revenue = (esales.Sale - avg_cost) * capacity / 1e6\n",
    "    elif e_type == 'total':\n",
    "        revenue = ((esales.Sale - avg_cost) * capacity + (esales.Sale - esales.CO2_tax - avg_cost_conv) * capacity_conv) / 1e6\n",
    "    plt.plot(np.arange(2018, 2051), revenue[3:], label=label)\n",
    "    plt.xlabel('Year')\n",
    "    plt.ylabel('Money Save (million dollars / year)')\n",
    "    plt.legend(shadow = True)\n",
    "    plt.grid(linestyle = 'dotted')\n",
    "    return plt"
   ]
  },
  {
   "cell_type": "code",
<<<<<<< HEAD
   "execution_count": 10,
   "metadata": {
    "collapsed": false
   },
   "outputs": [
    {
     "data": {
      "text/plain": [
       "<matplotlib.text.Text at 0x111985438>"
      ]
     },
     "execution_count": 10,
     "metadata": {},
     "output_type": "execute_result"
    },
    {
     "data": {
      "image/png": "iVBORw0KGgoAAAANSUhEUgAAAYwAAAEWCAYAAAB1xKBvAAAABHNCSVQICAgIfAhkiAAAAAlwSFlz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\nYII=\n",
      "text/plain": [
       "<matplotlib.figure.Figure at 0x10ea04470>"
      ]
     },
     "metadata": {},
     "output_type": "display_data"
    }
   ],
=======
   "execution_count": null,
   "metadata": {
    "collapsed": false
   },
   "outputs": [],
>>>>>>> 8162dbeef56ec61e3ba04cf6091266e265912a03
   "source": [
    "a = rev_plot(30, 500, 'total', 'Try', 10, 3)\n",
    "a.title('Try2')"
   ]
  },
  {
   "cell_type": "code",
   "execution_count": 11,
   "metadata": {
    "collapsed": false
   },
   "outputs": [
    {
     "data": {
      "text/plain": [
       "array(['Coal', 'NG', 'Petro', 'Hydro', 'Wind'], \n",
       "      dtype='<U32')"
      ]
     },
     "execution_count": 11,
     "metadata": {},
     "output_type": "execute_result"
    }
   ],
   "source": [
    "np.array(b)[:, 2]"
   ]
  },
  {
   "cell_type": "code",
   "execution_count": 12,
   "metadata": {
    "collapsed": false
   },
   "outputs": [],
   "source": [
    "# The function returns the average cost of resources by multiple their average cost with vote results\n",
    "def avg_cost(vote):\n",
    "    \"\"\"\n",
    "    set original resources cost euqal to zero\n",
    "    for state in vote keys\n",
    "        average cost of resource = average cost of particular resource in specific state * vote results of specific state\n",
    "    creat a dictionary to store average cost for each type of resource\n",
    "    return average cost dictinary\n",
    "    \"\"\"\n",
    "    import pandas as pd\n",
    "    cost = pd.read_csv('../Arranged_Data/Cost/df_cost.csv')\n",
    "    coal_sum = 0\n",
    "    ng_sum = 0\n",
    "    petro_sum = 0\n",
    "    hydro_sum = 0\n",
    "    solar_sum = 0\n",
    "    wind_sum =0\n",
    "    for i in vote.keys():\n",
    "        coal_sum += int(cost.Coal[cost.State == i]) * vote[i]\n",
    "        ng_sum += int(cost.NG[cost.State == i]) * vote[i]\n",
    "        petro_sum += int(cost.Petro[cost.State == i]) * vote[i]\n",
    "        hydro_sum += int(cost.Hydro[cost.State == i]) * vote[i]\n",
    "        solar_sum += int(cost.solar[cost.State == i]) * vote[i]\n",
    "        wind_sum += int(cost.WindCost[cost.State == i]) * vote[i]\n",
    "    avg_cost_dict = {'Coal':coal_sum, 'NG':ng_sum, 'Petro':petro_sum, 'Hydro':hydro_sum, 'Solar':solar_sum, 'Wind':wind_sum}\n",
    "    return avg_cost_dict"
   ]
  },
  {
   "cell_type": "code",
   "execution_count": 13,
   "metadata": {
    "collapsed": false
   },
   "outputs": [
    {
     "data": {
      "text/plain": [
       "{'Coal': 25.380000000000003,\n",
       " 'Hydro': 84.99999999999999,\n",
       " 'NG': 54.18,\n",
       " 'Petro': 166.19000000000003,\n",
       " 'Solar': 123.6,\n",
       " 'Wind': 37.04}"
      ]
     },
     "execution_count": 13,
     "metadata": {},
     "output_type": "execute_result"
    }
   ],
   "source": [
    "avg_cost(ease.rf(2, 75, 30, 1.5))"
   ]
  },
  {
   "cell_type": "code",
   "execution_count": 14,
   "metadata": {
    "collapsed": true
   },
   "outputs": [],
   "source": [
    "# distinguish the type of resource, either belong to conventional or clean\n",
    "def clean_or_conv(possible_type_list):\n",
    "    \"\"\"\n",
    "    initialize a null list to store conventional resource\n",
    "    initialize a null lsit to store clean resource\n",
    "    for some type in all types\n",
    "        if type equals coal, natural gas, or petroleum, append it to conventional lsit\n",
    "        elseif type equals hydro, soalr, or wind, append it to clean list\n",
    "    retun conventional list, clean list\n",
    "    \"\"\"\n",
    "    clean_list = []\n",
    "    conventional_list = []\n",
    "    for i in possible_type_list:\n",
    "        if i[2] == 'Coal' or i[2] == 'NG' or i[2] == 'Petro':\n",
    "            conventional_list.append(i)\n",
    "        elif i[2] == 'Hydro' or i[2] == 'Solar' or i[2] == 'Wind':\n",
    "            clean_list.append(i)\n",
    "    return conventional_list, clean_list"
   ]
  },
  {
   "cell_type": "code",
   "execution_count": 15,
   "metadata": {
    "collapsed": false
   },
   "outputs": [
    {
     "data": {
      "text/plain": [
       "[[0.9581045734149355, 3427272.05, 'Coal'],\n",
       " [-0.8923811497455455, 601160.0700000001, 'NG'],\n",
       " [0.9992659465724706, 132529.37000000002, 'Petro']]"
      ]
     },
     "execution_count": 15,
     "metadata": {},
     "output_type": "execute_result"
    }
   ],
   "source": [
    "conv, clean = clean_or_conv([[0.95810457341493549, 3427272.05, 'Coal'],\n",
    " [-0.8923811497455455, 601160.0700000001, 'NG'],\n",
    " [0.99926594657247059, 132529.37000000002, 'Petro'],\n",
    " [-0.90421357886564524, 159063.21, 'Hydro'],\n",
    " [-0.83811357367028649, 149414.79999999996, 'Wind']])\n",
    "conv"
   ]
  },
  {
   "cell_type": "code",
   "execution_count": 16,
   "metadata": {
    "collapsed": true
   },
   "outputs": [],
   "source": [
    "# pick the type of resource based on its p value\n",
    "def sort_and_pick(source_list):\n",
    "    \"\"\"\"\"\"\n",
    "    source_list.sort()\n",
    "    if len(source_list) == 3:\n",
    "        ref = source_list[2]\n",
    "        if abs(source_list[2][0] - source_list[1][0]) < 0.05 and abs(source_list[1][0] - source_list[0][0]) < 0.05 :\n",
    "            for i in source_list:\n",
    "                if i[1] > ref[1]:\n",
    "                    ref = i\n",
    "        elif abs(source_list[2][0] - source_list[1][0]) < 0.05 and abs(source_list[1][0] - source_list[0][0]) >= 0.05:\n",
    "            if source_list[1][1] > ref[1]:\n",
    "                ref = source_list[1]\n",
    "    elif len(source_list) == 2:\n",
    "        ref = source_list[1]\n",
    "        if abs(source_list[1][0] - source_list[0][0]) < 0.05 :\n",
    "            if source_list[0][1] > ref[1]:\n",
    "                ref = source_list[0]\n",
    "    elif len(source_list) == 1:\n",
    "        ref = source_list[0]\n",
    "    else:\n",
    "        ref = []\n",
    "    return ref"
   ]
  },
  {
   "cell_type": "code",
<<<<<<< HEAD
   "execution_count": 47,
=======
   "execution_count": 83,
   "metadata": {
    "collapsed": false
   },
   "outputs": [
    {
     "data": {
      "text/plain": [
       "[0.9581045734149355, 3427272.05, 'Coal']"
      ]
     },
     "execution_count": 83,
     "metadata": {},
     "output_type": "execute_result"
    }
   ],
   "source": [
    "sort_and_pick(conv)"
   ]
  },
  {
   "cell_type": "code",
   "execution_count": 84,
   "metadata": {
    "collapsed": true
   },
   "outputs": [],
   "source": [
    "# the function to suggest our client which type of resouce is recommended to generate electricity\n",
    "def suggest(prec, ts, tw, ws, capacity):\n",
    "    \"\"\"\n",
    "    if no clean resource, clean revenue equals zero, calculate conventinal capacity and plot revenue from conventioan resource\n",
    "    else electricity generated by clean resource greater or equal than client input capacity, plot revenue from clean resouece\n",
    "        electricity generated by clean resource less than client input capacity, plot conventinal revenue, clean revenue, and total revenue\n",
    "    return clean revenue, conventinal revenue, total revenue\n",
    "    \"\"\"\n",
    "    state_vote = rf(prec, ts, tw, ws)\n",
    "    cap = avg_capacity(state_vote)\n",
    "    cost = avg_cost(state_vote)\n",
    "    source_list = possible_type(cap)\n",
    "    conventional, clean = clean_or_conv(source_list)\n",
    "    conventional = sort_and_pick(conventional)\n",
    "    clean = sort_and_pick(clean)\n",
    "    if len(clean) == 0:\n",
    "        capacity = min([conventional[1], capacity])\n",
    "        revenue_clean = None\n",
    "        revenue_conv = rev_plot(cost[conventional[2]], capacity, 'conventional', conventional[2])\n",
    "        revenue_conv.title('Money Save using ' + conventional[2] + ' (capacity = ' + str(capacity) + ' Mwh)')\n",
    "        revenue_total = None\n",
    "    else:\n",
    "        if clean[1] >= capacity:\n",
    "            revenue_clean = rev_plot(cost[clean[2]], capacity, 'clean', clean[2])\n",
    "            revenue_clean.title('Money Save using ' + clean[2] + ' (capacity = ' + str(capacity) + ' Mwh)')\n",
    "            revenue_conv = None\n",
    "            revenue_total = None\n",
    "        else:\n",
    "            revenue_clean = rev_plot(cost[clean[2]], clean[1], 'clean', clean[2] + ' (capacity = ' + str(int(clean[1])) + ' Mwh)')\n",
    "            revenue_conv = rev_plot(cost[conventional[2]], (capacity - clean[1]), 'conventional', conventional[2] + ' (capacity = ' + str(int(capacity - clean[1])) + ' Mwh)')\n",
    "            revenue_total = rev_plot(cost[clean[2]], clean[1], 'total', 'Total (capacity = ' + str(capacity) + ' Mwh)', avg_cost_conv = cost[conventional[2]], capacity_conv = (capacity - clean[1]))\n",
    "            revenue_total.title('Money Save using ' + clean[2] + ' Combined with ' + conventional[2])\n",
    "    return revenue_clean, revenue_conv, revenue_total"
   ]
  },
  {
   "cell_type": "code",
   "execution_count": 85,
   "metadata": {
    "collapsed": false,
    "scrolled": false
   },
   "outputs": [
    {
     "data": {
      "text/plain": [
       "(<module 'matplotlib.pyplot' from '/Users/IvanC/miniconda3/lib/python3.5/site-packages/matplotlib/pyplot.py'>,\n",
       " <module 'matplotlib.pyplot' from '/Users/IvanC/miniconda3/lib/python3.5/site-packages/matplotlib/pyplot.py'>,\n",
       " <module 'matplotlib.pyplot' from '/Users/IvanC/miniconda3/lib/python3.5/site-packages/matplotlib/pyplot.py'>)"
      ]
     },
     "execution_count": 85,
     "metadata": {},
     "output_type": "execute_result"
    },
    {
     "data": {
      "image/png": "iVBORw0KGgoAAAANSUhEUgAAAYIAAAEWCAYAAABrDZDcAAAABHNCSVQICAgIfAhkiAAAAAlwSFlz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\nYII=\n",
      "text/plain": [
       "<matplotlib.figure.Figure at 0x1120cdcf8>"
      ]
     },
     "metadata": {},
     "output_type": "display_data"
    }
   ],
   "source": [
    "suggest(2, 75, 50, 1.5, 200000)"
   ]
  },
  {
   "cell_type": "code",
   "execution_count": 91,
>>>>>>> 8162dbeef56ec61e3ba04cf6091266e265912a03
   "metadata": {
    "collapsed": false
   },
   "outputs": [],
   "source": [
    "def suggest(prec, ts, tw, ws, capacity):\n",
    "    \"\"\"\n",
    "    if no clean resource, clean revenue equals zero, calculate conventinal capacity and plot revenue from conventioan resource\n",
    "    else electricity generated by clean resource greater or equal than client input capacity, plot revenue from clean resouece\n",
    "        electricity generated by clean resource less than client input capacity, plot conventinal revenue, clean revenue, and total revenue\n",
    "    return clean revenue, conventinal revenue, total revenue\n",
    "    \"\"\"\n",
    "    source_co2 = {'Coal':2133, 'Petro':1700, 'NG':1220}\n",
    "    state_vote = rf(prec, ts, tw, ws)\n",
    "    cap = avg_capacity(state_vote)\n",
    "    cost = avg_cost(state_vote)\n",
    "    source_list = possible_type(cap)\n",
    "    conventional, clean = clean_or_conv(source_list)\n",
    "    conventional = sort_and_pick(conventional)\n",
    "    clean = sort_and_pick(clean)\n",
    "    df = pd.DataFrame()\n",
    "    if len(clean) == 0:\n",
    "        capacity = min([conventional[1], capacity])\n",
    "        revenue_clean = None\n",
    "        revenue_conv = rev_plot(cost[conventional[2]], capacity, 'conventional', conventional[2])\n",
    "        revenue_conv.title('Money Save using ' + conventional[2] + ' (capacity = ' + str(capacity) + ' Mwh)')\n",
    "        revenue_total = None\n",
    "    else:\n",
    "        if clean[1] >= capacity:\n",
    "            revenue_clean = rev_plot(cost[clean[2]], capacity, 'clean', clean[2])\n",
    "            revenue_clean.title('Money Save using ' + clean[2] + ' (capacity = ' + str(capacity) + ' Mwh)')\n",
    "            revenue_conv = None\n",
    "            revenue_total = None\n",
    "        else:\n",
    "            plt.figure(1,figsize=(15,8))\n",
    "            plt.subplot(121)\n",
    "            revenue_clean = rev_plot(cost[clean[2]], clean[1], 'clean', clean[2] + ' (capacity = ' + str(int(clean[1])) + ' Mwh)')\n",
    "            revenue_conv = rev_plot(cost[conventional[2]], (capacity - clean[1]), 'conventional', conventional[2] + ' (capacity = ' + str(int(capacity - clean[1])) + ' Mwh)')\n",
    "            revenue_total = rev_plot(cost[clean[2]], clean[1], 'total', 'Total (capacity = ' + str(capacity) + ' Mwh)', avg_cost_conv = cost[conventional[2]], capacity_conv = (capacity - clean[1]))\n",
    "            revenue_total.title('Money Save using ' + clean[2] + ' Combined with ' + conventional[2])\n",
    "            for k in conventional:\n",
    "                if k in source_co2:\n",
    "                    conversion_to_co2 = source_co2[k]\n",
    "            print('Emitted Co2 using', conventional[2], 'is:', int(capacity - clean[1]) * conversion_to_co2 * 0.000453592, 'metric tons')\n",
    "            plt.subplot(122)\n",
    "            df['Year'] = [2015, 2050]\n",
    "            df['CO2_Emission'] = [2031452, int(capacity - clean[1]) * conversion_to_co2 * 0.000453592]\n",
    "            co2_plot_total = plt.bar(df.Year, df.CO2_Emission, width = 15, color = '#778899')\n",
    "            plt.title('Estimated CO2 emission using' + conventional[2])\n",
    "            plt.xticks(df.Year, ('2015', '2050'))\n",
    "            plt.xlabel('Year')\n",
    "            plt.ylabel('Metric Tons')\n",
    "            plt.legend(shadow = True)\n",
    "            plt.grid(linestyle = 'dotted')\n",
    "    return revenue_clean, revenue_conv, revenue_total, co2_plot_total"
   ]
  },
  {
   "cell_type": "code",
   "execution_count": 49,
   "metadata": {
    "collapsed": false,
    "scrolled": true
   },
   "outputs": [
    {
     "name": "stdout",
     "output_type": "stream",
     "text": [
      "Emitted Co2 using Coal is: 186921.332371728 metric tons\n"
     ]
    },
    {
     "data": {
      "text/plain": [
       "<module 'matplotlib.pyplot' from '/Users/IvanC/miniconda3/lib/python3.5/site-packages/matplotlib/pyplot.py'>"
      ]
     },
     "execution_count": 49,
     "metadata": {},
     "output_type": "execute_result"
    },
    {
     "data": {
      "image/png": "iVBORw0KGgoAAAANSUhEUgAAA3gAAAHwCAYAAAD0Es3SAAAABHNCSVQICAgIfAhkiAAAAAlwSFlz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\n2sT/D6Zj1MdhAe8NAAAAAElFTkSuQmCC\n",
      "text/plain": [
       "<matplotlib.figure.Figure at 0x110776438>"
      ]
     },
     "metadata": {},
     "output_type": "display_data"
    }
   ],
   "source": [
    "suggest(2, 75, 50, 1.5, 200000)[0]"
   ]
  },
  {
   "cell_type": "code",
   "execution_count": null,
   "metadata": {
    "collapsed": true
   },
   "outputs": [],
   "source": []
  }
 ],
 "metadata": {
  "anaconda-cloud": {},
  "kernelspec": {
   "display_name": "Python [default]",
   "language": "python",
   "name": "python3"
  },
  "language_info": {
   "codemirror_mode": {
    "name": "ipython",
    "version": 3
   },
   "file_extension": ".py",
   "mimetype": "text/x-python",
   "name": "python",
   "nbconvert_exporter": "python",
   "pygments_lexer": "ipython3",
   "version": "3.5.2"
  }
 },
 "nbformat": 4,
 "nbformat_minor": 2
}
