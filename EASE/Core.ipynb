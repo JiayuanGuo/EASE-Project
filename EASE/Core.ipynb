{
 "cells": [
  {
   "cell_type": "code",
   "execution_count": 1,
   "metadata": {
    "collapsed": true
   },
   "outputs": [],
   "source": [
    "import numpy as np\n",
    "import pandas as pd\n",
    "import matplotlib.pyplot as plt\n",
    "%matplotlib inline\n",
    "import ease"
   ]
  },
  {
   "cell_type": "code",
   "execution_count": 35,
   "metadata": {
    "collapsed": true
   },
   "outputs": [],
   "source": [
    "def rf(prec, ts, tw, ws):\n",
    "    \"\"\"\n",
    "    This function is RandomForest classifier to intake user input temperature,\n",
    "    precipitation, and windespeed to classify the possible states the user\n",
    "    will be in, and returns a dictionary with states as the keys and\n",
    "    the frequency or count as the values of each key.\n",
    "       input = user input values, integer or float based.\n",
    "       vote  = dictionary based output that contains the RF classified states,\n",
    "               and each states frequency.\n",
    "    \"\"\"\n",
    "    import pandas as pd\n",
    "    from sklearn.ensemble import RandomForestClassifier\n",
    "    import itertools as it\n",
    "    import warnings\n",
    "\n",
    "    train = pd.read_csv('../Arranged_Data/final_weater.csv')[[\n",
    "            'State', 'TotalMonthlyPrecip', 'TempSummer',\n",
    "            'TempWinter', 'Avgwindspeed']]\n",
    "    train = train[train.State != 'DC']\n",
    "\n",
    "    warnings.filterwarnings('ignore')\n",
    "\n",
    "    input_ = [prec, ts, tw, ws]\n",
    "    tree_num = 100\n",
    "    pred_list = []\n",
    "    vote = {}\n",
    "    rf = RandomForestClassifier(n_estimators = tree_num)\n",
    "    rf.fit(train.iloc[:,1:5], train.State)\n",
    "\n",
    "    for i in range(tree_num):\n",
    "        dt = rf.estimators_[i]\n",
    "        dt.fit(train.iloc[:,1:5], train.State)\n",
    "        pred = dt.predict(input_)\n",
    "        pred_list.append(pred[0])\n",
    "\n",
    "    pred_key = []\n",
    "    pred_key_count = []\n",
    "    for key, group in it.groupby(sorted(pred_list)):\n",
    "        pred_key.append(key)\n",
    "        pred_key_count.append(len(list(group)))\n",
    "\n",
    "    for i in range(len(pred_key)):\n",
    "        vote[pred_key[i]] = pred_key_count[i]/tree_num\n",
    "    return vote"
   ]
  },
  {
   "cell_type": "code",
   "execution_count": 2,
   "metadata": {
    "collapsed": false
   },
   "outputs": [],
   "source": [
    "def avg_capacity(vote):\n",
    "    import pandas as pd\n",
    "    average_plant_capacity = pd.read_csv('../Arranged_Data/average_plant_capacity.csv')\n",
    "    avg_cap_list = []\n",
    "    coal_sum = 0\n",
    "    ng_sum = 0\n",
    "    petro_sum = 0\n",
    "    hydro_sum = 0\n",
    "    solar_sum = 0\n",
    "    wind_sum =0\n",
    "    for i in vote.keys():\n",
    "        coal_sum += int(average_plant_capacity.Coal[average_plant_capacity.State == i]) * vote[i]\n",
    "        ng_sum += int(average_plant_capacity.NG[average_plant_capacity.State == i]) * vote[i]\n",
    "        petro_sum += int(average_plant_capacity.Petro[average_plant_capacity.State == i]) * vote[i]\n",
    "        hydro_sum += int(average_plant_capacity.Hydro[average_plant_capacity.State == i]) * vote[i]\n",
    "        solar_sum += int(average_plant_capacity.Solar[average_plant_capacity.State == i]) * vote[i]\n",
    "        wind_sum += int(average_plant_capacity.Wind[average_plant_capacity.State == i]) * vote[i]\n",
    "    return([coal_sum, ng_sum, petro_sum, hydro_sum, solar_sum, wind_sum])"
   ]
  },
  {
   "cell_type": "code",
   "execution_count": 3,
   "metadata": {
    "collapsed": false
   },
   "outputs": [
    {
     "data": {
      "text/plain": [
       "2878153.5744680851"
      ]
     },
     "execution_count": 3,
     "metadata": {},
     "output_type": "execute_result"
    }
   ],
   "source": [
    "cap_pop = pd.read_csv('../Arranged_Data/average_plant_capacity.csv')\n",
    "cap_pop[cap_pop.Coal != 0].Coal.mean()"
   ]
  },
  {
   "cell_type": "code",
   "execution_count": 4,
   "metadata": {
    "collapsed": false
   },
   "outputs": [],
   "source": [
    "def possible_type(avg_cap_list):\n",
    "    import pandas as pd\n",
    "    from scipy import stats\n",
    "    cap_pop = pd.read_csv('../Arranged_Data/average_plant_capacity.csv')\n",
    "    e_type = ['Coal', 'NG', 'Petro', 'Hydro', 'Solar', 'Wind']\n",
    "    possible_type_list = []\n",
    "    for i in range(len(e_type)):\n",
    "        p_value = stats.ttest_1samp(cap_pop[cap_pop[e_type[i]] != 0][e_type[i]], avg_cap_list[i])[1]\n",
    "        alpha = 0.05  #confidence\n",
    "        if avg_cap_list[i] < cap_pop[cap_pop[e_type[i]] !=0][e_type[i]].mean():\n",
    "            if p_value < alpha:\n",
    "                pass\n",
    "            else:\n",
    "                p_value = -(1 - p_value)\n",
    "                possible_type_list.append([p_value, avg_cap_list[i], e_type[i]])\n",
    "        else:\n",
    "            p_value = (1 - p_value)\n",
    "            possible_type_list.append([p_value, avg_cap_list[i], e_type[i]])\n",
    "    return possible_type_list"
   ]
  },
  {
   "cell_type": "code",
   "execution_count": 5,
   "metadata": {
    "collapsed": false
   },
   "outputs": [
    {
     "data": {
      "text/plain": [
       "[[0.95810457341493549, 3427272.05, 'Coal'],\n",
       " [-0.8923811497455455, 601160.0700000001, 'NG'],\n",
       " [0.99926594657247059, 132529.37000000002, 'Petro'],\n",
       " [-0.90421357886564524, 159063.21, 'Hydro'],\n",
       " [-0.83811357367028649, 149414.79999999996, 'Wind']]"
      ]
     },
     "execution_count": 5,
     "metadata": {},
     "output_type": "execute_result"
    }
   ],
   "source": [
    "possible_type([3427272.05, 601160.0700000001, 132529.37000000002, 159063.21, 2253.23, 149414.79999999996])"
   ]
  },
  {
   "cell_type": "code",
   "execution_count": 6,
   "metadata": {
    "collapsed": false
   },
   "outputs": [
    {
     "data": {
      "text/plain": [
       "{'CT': 0.01,\n",
       " 'DE': 0.01,\n",
       " 'GA': 0.05,\n",
       " 'IN': 0.01,\n",
       " 'KY': 0.05,\n",
       " 'MO': 0.08,\n",
       " 'NJ': 0.12,\n",
       " 'OH': 0.02,\n",
       " 'OR': 0.07,\n",
       " 'TN': 0.02,\n",
       " 'VA': 0.03,\n",
       " 'VT': 0.03,\n",
       " 'WV': 0.5}"
      ]
     },
     "execution_count": 6,
     "metadata": {},
     "output_type": "execute_result"
    }
   ],
   "source": [
    "ease.rf(2, 75, 30, 1.5)"
   ]
  },
  {
   "cell_type": "code",
   "execution_count": 37,
   "metadata": {
    "collapsed": false
   },
   "outputs": [
    {
     "data": {
      "text/plain": [
       "[3962716.9300000006,\n",
       " 642994.53,\n",
       " 148764.93000000005,\n",
       " 190559.4,\n",
       " 1649.5000000000002,\n",
       " 160636.51]"
      ]
     },
     "execution_count": 37,
     "metadata": {},
     "output_type": "execute_result"
    }
   ],
   "source": [
    "a = ease.avg_capacity(ease.rf(2, 75, 30, 1.5))\n",
    "a"
   ]
  },
  {
   "cell_type": "code",
   "execution_count": 8,
   "metadata": {
    "collapsed": false
   },
   "outputs": [],
   "source": [
    "b = ease.possible_type(a)"
   ]
  },
  {
   "cell_type": "code",
   "execution_count": 9,
   "metadata": {
    "collapsed": false
   },
   "outputs": [],
   "source": [
    "def rev_plot(avg_cost, capacity, e_type):\n",
    "    import pandas as pd\n",
    "    import matplotlib.pyplot as plt\n",
    "    \n",
    "    esales = pd.read_csv('../Arranged_Data/Cost/Sale_CO2_tax.csv', skiprows= 1, names = ['Year', 'Sale', 'CO2_tax'])\n",
    "    if e_type == 'conventional':\n",
    "        revenue = (esales.Sale - esales.CO2_tax - avg_cost) * capacity * 365 * 24 / 1e6\n",
    "    elif e_type == 'clean':\n",
    "        revenue = (esales.Sale - avg_cost) * capacity * 365 * 24 / 1e6\n",
    "    plt.plot(np.arange(2018, 2051), revenue[3:])\n",
    "    plt.xlabel('Year')\n",
    "    plt.ylabel('Money Save (million dollars / year)')\n",
    "    plt.grid()\n",
    "    return plt"
   ]
  },
  {
   "cell_type": "code",
   "execution_count": 28,
   "metadata": {
    "collapsed": false
   },
   "outputs": [
    {
     "data": {
      "text/plain": [
       "<matplotlib.text.Text at 0x110da0cf8>"
      ]
     },
     "execution_count": 28,
     "metadata": {},
     "output_type": "execute_result"
    },
    {
     "data": {
      "image/png": "[encoded data removed]",
      "text/plain": [
       "<matplotlib.figure.Figure at 0x110e04c18>"
      ]
     },
     "metadata": {},
     "output_type": "display_data"
    }
   ],
   "source": [
    "a = rev_plot(30, 500, 'clean')\n",
    "a.title('Try2')"
   ]
  },
  {
   "cell_type": "code",
   "execution_count": 17,
   "metadata": {
    "collapsed": false
   },
   "outputs": [
    {
     "data": {
      "text/plain": [
       "array(['Coal', 'NG', 'Petro', 'Hydro', 'Wind'], \n",
       "      dtype='<U32')"
      ]
     },
     "execution_count": 17,
     "metadata": {},
     "output_type": "execute_result"
    }
   ],
   "source": [
    "np.array(b)[:, 2]"
   ]
  },
  {
   "cell_type": "code",
   "execution_count": 18,
   "metadata": {
    "collapsed": false
   },
   "outputs": [],
   "source": [
    "def avg_cost(vote):\n",
    "    import pandas as pd\n",
    "    cost = pd.read_csv('../Arranged_Data/Cost/df_cost.csv')\n",
    "    coal_sum = 0\n",
    "    ng_sum = 0\n",
    "    petro_sum = 0\n",
    "    hydro_sum = 0\n",
    "    solar_sum = 0\n",
    "    wind_sum =0\n",
    "    for i in vote.keys():\n",
    "        coal_sum += int(cost.Coal[cost.State == i]) * vote[i]\n",
    "        ng_sum += int(cost.NG[cost.State == i]) * vote[i]\n",
    "        petro_sum += int(cost.Petro[cost.State == i]) * vote[i]\n",
    "        hydro_sum += int(cost.Hydro[cost.State == i]) * vote[i]\n",
    "        solar_sum += int(cost.solar[cost.State == i]) * vote[i]\n",
    "        wind_sum += int(cost.WindCost[cost.State == i]) * vote[i]\n",
    "    avg_cost_dict = {'Coal':coal_sum, 'NG':ng_sum, 'Petro':petro_sum, 'Hydro':hydro_sum, 'Solar':solar_sum, 'Wind':wind_sum}\n",
    "    return avg_cost_dict"
   ]
  },
  {
   "cell_type": "code",
   "execution_count": 19,
   "metadata": {
    "collapsed": false
   },
   "outputs": [
    {
     "data": {
      "text/plain": [
       "{'Coal': 80.3,\n",
       " 'Hydro': 8.0,\n",
       " 'NG': 96.16000000000001,\n",
       " 'Petro': 117.67999999999999,\n",
       " 'Solar': 24.25,\n",
       " 'Wind': 37.03}"
      ]
     },
     "execution_count": 19,
     "metadata": {},
     "output_type": "execute_result"
    }
   ],
   "source": [
    "avg_cost(ease.rf(2, 75, 30, 1.5))"
   ]
  },
  {
   "cell_type": "code",
   "execution_count": 20,
   "metadata": {
    "collapsed": true
   },
   "outputs": [],
   "source": [
    "def clean_or_conv(possible_type_list):\n",
    "    clean_list = []\n",
    "    conventional_list = []\n",
    "    for i in possible_type_list:\n",
    "        if i[2] == 'Coal' or i[2] == 'NG' or i[2] == 'Petro':\n",
    "            conventional_list.append(i)\n",
    "        elif i[2] == 'Hydro' or i[2] == 'Solar' or i[2] == 'Wind':\n",
    "            clean_list.append(i)\n",
    "    return conventional_list, clean_list"
   ]
  },
  {
   "cell_type": "code",
   "execution_count": 21,
   "metadata": {
    "collapsed": false
   },
   "outputs": [
    {
     "data": {
      "text/plain": [
       "[[-0.9042135788656452, 159063.21, 'Hydro'],\n",
       " [-0.8381135736702865, 149414.79999999996, 'Wind']]"
      ]
     },
     "execution_count": 21,
     "metadata": {},
     "output_type": "execute_result"
    }
   ],
   "source": [
    "conv, clean = clean_or_conv([[0.95810457341493549, 3427272.05, 'Coal'],\n",
    " [-0.8923811497455455, 601160.0700000001, 'NG'],\n",
    " [0.99926594657247059, 132529.37000000002, 'Petro'],\n",
    " [-0.90421357886564524, 159063.21, 'Hydro'],\n",
    " [-0.83811357367028649, 149414.79999999996, 'Wind']])\n",
    "clean"
   ]
  },
  {
   "cell_type": "code",
   "execution_count": 43,
   "metadata": {
    "collapsed": true
   },
   "outputs": [],
   "source": [
    "def suggest(prec, ts, tw, ws, capacity):\n",
    "    state_vote = rf(prec, ts, tw, ws)\n",
    "    cap = avg_capacity(state_vote)\n",
    "    cost = avg_cost(state_vote)\n",
    "    source_list = possible_type(cap)\n",
    "    conventional, clean = clean_or_conv(source_list)\n",
    "    conventional.sort()\n",
    "    clean.sort()\n",
    "    if len(clean) == 0:\n",
    "        capacity = min([conventional[-1][1], capacity])\n",
    "        revenue_clean = None\n",
    "        revenue_conv = rev_plot(cost[conventional[-1][2]], capacity, 'conventional')\n",
    "        revenue_conv.title('Money Save using ' + conventional[-1][2] + ' (capacity = ' + str(capacity) + ')')\n",
    "    else:\n",
    "        if clean[-1][1] >= capacity:\n",
    "            revenue_clean = rev_plot(cost[clean[-1][2]], capacity, 'clean')\n",
    "            revenue_clean.title('Money Save using ' + clean[-1][2] + ' (capacity = ' + str(capacity) + ')')\n",
    "            revenue_conv = None\n",
    "        else:\n",
    "            plt.figure(figsize=(15,5))\n",
    "            plt.subplot(121)\n",
    "            revenue_clean = rev_plot(cost[clean[-1][2]], clean[-1][1], 'clean')\n",
    "            revenue_clean.title('Money Save using ' + clean[-1][2] + ' (capacity = ' + str(clean[-1][1]) + ')')\n",
    "            plt.subplot(122)\n",
    "            revenue_conv = rev_plot(cost[conventional[-1][2]], (capacity - clean[-1][1]), 'conventional')\n",
    "            revenue_conv.title('Combined with Money Save using ' + conventional[-1][2] + ' (capacity = ' + str(capacity - clean[-1][1]) + ')')\n",
    "    return revenue_clean, revenue_conv"
   ]
  },
  {
   "cell_type": "code",
   "execution_count": 44,
   "metadata": {
    "collapsed": false
   },
   "outputs": [
    {
     "data": {
      "text/plain": [
       "(<module 'matplotlib.pyplot' from '/Users/taiyupan/miniconda3/lib/python3.5/site-packages/matplotlib/pyplot.py'>,\n",
       " <module 'matplotlib.pyplot' from '/Users/taiyupan/miniconda3/lib/python3.5/site-packages/matplotlib/pyplot.py'>)"
      ]
     },
     "execution_count": 44,
     "metadata": {},
     "output_type": "execute_result"
    },
    {
     "data": {
      "image/png": "[encoded data removed]",
      "text/plain": [
       "<matplotlib.figure.Figure at 0x116cbda90>"
      ]
     },
     "metadata": {},
     "output_type": "display_data"
    }
   ],
   "source": [
    "suggest(2, 75, 30, 1.5, 2000000)"
   ]
  },
  {
   "cell_type": "code",
   "execution_count": null,
   "metadata": {
    "collapsed": true
   },
   "outputs": [],
   "source": []
  }
 ],
 "metadata": {
  "anaconda-cloud": {},
  "kernelspec": {
   "display_name": "Python [default]",
   "language": "python",
   "name": "python3"
  },
  "language_info": {
   "codemirror_mode": {
    "name": "ipython",
    "version": 3
   },
   "file_extension": ".py",
   "mimetype": "text/x-python",
   "name": "python",
   "nbconvert_exporter": "python",
   "pygments_lexer": "ipython3",
   "version": "3.5.2"
  }
 },
 "nbformat": 4,
 "nbformat_minor": 2
}
