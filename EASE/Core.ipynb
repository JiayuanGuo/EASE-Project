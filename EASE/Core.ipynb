{
 "cells": [
  {
   "cell_type": "code",
   "execution_count": 1,
   "metadata": {
    "collapsed": true
   },
   "outputs": [],
   "source": [
    "import numpy as np\n",
    "import pandas as pd\n",
    "import matplotlib.pyplot as plt\n",
    "%matplotlib inline\n",
    "import ease"
   ]
  },
  {
   "cell_type": "code",
   "execution_count": 2,
   "metadata": {
    "collapsed": true
   },
   "outputs": [],
   "source": [
    "def rf(prec, ts, tw, ws):\n",
    "    \"\"\"\n",
    "    This function is RandomForest classifier to intake user input temperature,\n",
    "    precipitation, and windespeed to classify the possible states the user\n",
    "    will be in, and returns a dictionary with states as the keys and\n",
    "    the frequency or count as the values of each key.\n",
    "       input = user input values, integer or float based.\n",
    "       vote  = dictionary based output that contains the RF classified states,\n",
    "               and each states frequency.\n",
    "    \"\"\"\n",
    "    import pandas as pd\n",
    "    from sklearn.ensemble import RandomForestClassifier\n",
    "    import itertools as it\n",
    "    import warnings\n",
    "\n",
    "    train = pd.read_csv('../Arranged_Data/final_weater.csv')[[\n",
    "            'State', 'TotalMonthlyPrecip', 'TempSummer',\n",
    "            'TempWinter', 'Avgwindspeed']]\n",
    "    train = train[train.State != 'DC']\n",
    "\n",
    "    warnings.filterwarnings('ignore')\n",
    "\n",
    "    input_ = [prec, ts, tw, ws]\n",
    "    tree_num = 500\n",
    "    pred_list = []\n",
    "    vote = {}\n",
    "    rf = RandomForestClassifier(n_estimators = tree_num)\n",
    "    rf.fit(train.iloc[:,1:5], train.State)\n",
    "\n",
    "    for i in range(tree_num):\n",
    "        dt = rf.estimators_[i]\n",
    "        dt.fit(train.iloc[:,1:5], train.State)\n",
    "        pred = dt.predict(input_)\n",
    "        pred_list.append(pred[0])\n",
    "\n",
    "    pred_key = []\n",
    "    pred_key_count = []\n",
    "    for key, group in it.groupby(sorted(pred_list)):\n",
    "        pred_key.append(key)\n",
    "        pred_key_count.append(len(list(group)))\n",
    "\n",
    "    for i in range(len(pred_key)):\n",
    "        vote[pred_key[i]] = pred_key_count[i]/tree_num\n",
    "    return vote"
   ]
  },
  {
   "cell_type": "code",
   "execution_count": 3,
   "metadata": {
    "collapsed": false
   },
   "outputs": [],
   "source": [
    "def avg_capacity(vote):\n",
    "    import pandas as pd\n",
    "    average_plant_capacity = pd.read_csv('../Arranged_Data/average_plant_capacity.csv')\n",
    "    avg_cap_list = []\n",
    "    coal_sum = 0\n",
    "    ng_sum = 0\n",
    "    petro_sum = 0\n",
    "    hydro_sum = 0\n",
    "    solar_sum = 0\n",
    "    wind_sum =0\n",
    "    for i in vote.keys():\n",
    "        coal_sum += int(average_plant_capacity.Coal[average_plant_capacity.State == i]) * vote[i]\n",
    "        ng_sum += int(average_plant_capacity.NG[average_plant_capacity.State == i]) * vote[i]\n",
    "        petro_sum += int(average_plant_capacity.Petro[average_plant_capacity.State == i]) * vote[i]\n",
    "        hydro_sum += int(average_plant_capacity.Hydro[average_plant_capacity.State == i]) * vote[i]\n",
    "        solar_sum += int(average_plant_capacity.Solar[average_plant_capacity.State == i]) * vote[i]\n",
    "        wind_sum += int(average_plant_capacity.Wind[average_plant_capacity.State == i]) * vote[i]\n",
    "    return([coal_sum, ng_sum, petro_sum, hydro_sum, solar_sum, wind_sum])"
   ]
  },
  {
   "cell_type": "code",
   "execution_count": 4,
   "metadata": {
    "collapsed": false
   },
   "outputs": [
    {
     "data": {
      "text/plain": [
       "2878153.5744680851"
      ]
     },
     "execution_count": 4,
     "metadata": {},
     "output_type": "execute_result"
    }
   ],
   "source": [
    "cap_pop = pd.read_csv('../Arranged_Data/average_plant_capacity.csv')\n",
    "cap_pop[cap_pop.Coal != 0].Coal.mean()"
   ]
  },
  {
   "cell_type": "code",
   "execution_count": 5,
   "metadata": {
    "collapsed": false
   },
   "outputs": [],
   "source": [
    "def possible_type(avg_cap_list):\n",
    "    import pandas as pd\n",
    "    from scipy import stats\n",
    "    cap_pop = pd.read_csv('../Arranged_Data/average_plant_capacity.csv')\n",
    "    e_type = ['Coal', 'NG', 'Petro', 'Hydro', 'Solar', 'Wind']\n",
    "    possible_type_list = []\n",
    "    for i in range(len(e_type)):\n",
    "        p_value = stats.ttest_1samp(cap_pop[cap_pop[e_type[i]] != 0][e_type[i]], avg_cap_list[i])[1]\n",
    "        alpha = 0.05  #confidence\n",
    "        if avg_cap_list[i] < cap_pop[cap_pop[e_type[i]] !=0][e_type[i]].mean():\n",
    "            if p_value < alpha:\n",
    "                pass\n",
    "            else:\n",
    "                p_value = -(1 - p_value)\n",
    "                possible_type_list.append([p_value, avg_cap_list[i], e_type[i]])\n",
    "        else:\n",
    "            p_value = (1 - p_value)\n",
    "            possible_type_list.append([p_value, avg_cap_list[i], e_type[i]])\n",
    "    return possible_type_list"
   ]
  },
  {
   "cell_type": "code",
   "execution_count": 6,
   "metadata": {
    "collapsed": false
   },
   "outputs": [
    {
     "data": {
      "text/plain": [
       "[[0.95810457341493549, 3427272.05, 'Coal'],\n",
       " [-0.8923811497455455, 601160.0700000001, 'NG'],\n",
       " [0.99926594657247059, 132529.37000000002, 'Petro'],\n",
       " [-0.90421357886564524, 159063.21, 'Hydro'],\n",
       " [-0.83811357367028649, 149414.79999999996, 'Wind']]"
      ]
     },
     "execution_count": 6,
     "metadata": {},
     "output_type": "execute_result"
    }
   ],
   "source": [
    "possible_type([3427272.05, 601160.0700000001, 132529.37000000002, 159063.21, 2253.23, 149414.79999999996])"
   ]
  },
  {
   "cell_type": "code",
   "execution_count": 7,
   "metadata": {
    "collapsed": false
   },
   "outputs": [
    {
     "data": {
      "text/plain": [
       "{'AL': 0.006,\n",
       " 'AR': 0.002,\n",
       " 'CT': 0.004,\n",
       " 'DE': 0.008,\n",
       " 'GA': 0.022,\n",
       " 'IL': 0.008,\n",
       " 'IN': 0.014,\n",
       " 'KY': 0.104,\n",
       " 'MD': 0.014,\n",
       " 'MI': 0.002,\n",
       " 'MO': 0.038,\n",
       " 'NC': 0.006,\n",
       " 'NE': 0.002,\n",
       " 'NH': 0.018,\n",
       " 'NJ': 0.184,\n",
       " 'OH': 0.008,\n",
       " 'OR': 0.028,\n",
       " 'PA': 0.002,\n",
       " 'SC': 0.002,\n",
       " 'TN': 0.014,\n",
       " 'VA': 0.036,\n",
       " 'VT': 0.022,\n",
       " 'WA': 0.006,\n",
       " 'WV': 0.45}"
      ]
     },
     "execution_count": 7,
     "metadata": {},
     "output_type": "execute_result"
    }
   ],
   "source": [
    "rf(2, 75, 30, 1.5)"
   ]
  },
  {
   "cell_type": "code",
   "execution_count": 8,
   "metadata": {
    "collapsed": false
   },
   "outputs": [
    {
     "data": {
      "text/plain": [
       "[3898222.9499999997,\n",
       " 604077.41,\n",
       " 114764.90000000001,\n",
       " 142999.47999999995,\n",
       " 2207.8500000000004,\n",
       " 177432.19000000003]"
      ]
     },
     "execution_count": 8,
     "metadata": {},
     "output_type": "execute_result"
    }
   ],
   "source": [
    "a = ease.avg_capacity(ease.rf(2, 75, 30, 1.5))\n",
    "a"
   ]
  },
  {
   "cell_type": "code",
   "execution_count": 9,
   "metadata": {
    "collapsed": false
   },
   "outputs": [],
   "source": [
    "b = ease.possible_type(a)"
   ]
  },
  {
   "cell_type": "code",
   "execution_count": 44,
   "metadata": {
    "collapsed": false
   },
   "outputs": [],
   "source": [
    "def rev_plot(avg_cost, capacity, e_type, label, avg_cost_conv = 0, capacity_conv = 0):\n",
    "    import pandas as pd\n",
    "    import matplotlib.pyplot as plt\n",
    "    \n",
    "    esales = pd.read_csv('../Arranged_Data/Cost/Sale_CO2_tax.csv', skiprows= 1, names = ['Year', 'Sale', 'CO2_tax'])\n",
    "    if e_type == 'conventional':\n",
    "        revenue = (esales.Sale - esales.CO2_tax - avg_cost) * capacity / 1e6\n",
    "    elif e_type == 'clean':\n",
    "        revenue = (esales.Sale - avg_cost) * capacity / 1e6\n",
    "    elif e_type == 'total':\n",
    "        revenue = ((esales.Sale - avg_cost) * capacity + (esales.Sale - esales.CO2_tax - avg_cost_conv) * capacity_conv) / 1e6\n",
    "    plt.plot(np.arange(2018, 2051), revenue[3:], label=label)\n",
    "    plt.xlabel('Year')\n",
    "    plt.ylabel('Money Save (million dollars / year)')\n",
    "    plt.legend()\n",
    "    plt.grid()\n",
    "    return plt"
   ]
  },
  {
   "cell_type": "code",
   "execution_count": 45,
   "metadata": {
    "collapsed": false
   },
   "outputs": [
    {
     "data": {
      "text/plain": [
       "<matplotlib.text.Text at 0x110f78908>"
      ]
     },
     "execution_count": 45,
     "metadata": {},
     "output_type": "execute_result"
    },
    {
     "data": {
      "image/png": "[encoded data removed]",
      "text/plain": [
       "<matplotlib.figure.Figure at 0x122c2a748>"
      ]
     },
     "metadata": {},
     "output_type": "display_data"
    }
   ],
   "source": [
    "a = rev_plot(30, 500, 'total', 'Try', 10, 3)\n",
    "a.title('Try2')"
   ]
  },
  {
   "cell_type": "code",
   "execution_count": 12,
   "metadata": {
    "collapsed": false
   },
   "outputs": [
    {
     "data": {
      "text/plain": [
       "array(['Coal', 'NG', 'Petro', 'Hydro', 'Wind'], \n",
       "      dtype='<U32')"
      ]
     },
     "execution_count": 12,
     "metadata": {},
     "output_type": "execute_result"
    }
   ],
   "source": [
    "np.array(b)[:, 2]"
   ]
  },
  {
   "cell_type": "code",
   "execution_count": 13,
   "metadata": {
    "collapsed": false
   },
   "outputs": [],
   "source": [
    "def avg_cost(vote):\n",
    "    import pandas as pd\n",
    "    cost = pd.read_csv('../Arranged_Data/Cost/df_cost.csv')\n",
    "    coal_sum = 0\n",
    "    ng_sum = 0\n",
    "    petro_sum = 0\n",
    "    hydro_sum = 0\n",
    "    solar_sum = 0\n",
    "    wind_sum =0\n",
    "    for i in vote.keys():\n",
    "        coal_sum += int(cost.Coal[cost.State == i]) * vote[i]\n",
    "        ng_sum += int(cost.NG[cost.State == i]) * vote[i]\n",
    "        petro_sum += int(cost.Petro[cost.State == i]) * vote[i]\n",
    "        hydro_sum += int(cost.Hydro[cost.State == i]) * vote[i]\n",
    "        solar_sum += int(cost.solar[cost.State == i]) * vote[i]\n",
    "        wind_sum += int(cost.WindCost[cost.State == i]) * vote[i]\n",
    "    avg_cost_dict = {'Coal':coal_sum, 'NG':ng_sum, 'Petro':petro_sum, 'Hydro':hydro_sum, 'Solar':solar_sum, 'Wind':wind_sum}\n",
    "    return avg_cost_dict"
   ]
  },
  {
   "cell_type": "code",
   "execution_count": 14,
   "metadata": {
    "collapsed": false
   },
   "outputs": [
    {
     "data": {
      "text/plain": [
       "{'Coal': 25.179999999999996,\n",
       " 'Hydro': 85.0,\n",
       " 'NG': 49.26,\n",
       " 'Petro': 162.54000000000002,\n",
       " 'Solar': 126.8,\n",
       " 'Wind': 37.02}"
      ]
     },
     "execution_count": 14,
     "metadata": {},
     "output_type": "execute_result"
    }
   ],
   "source": [
    "avg_cost(ease.rf(2, 75, 30, 1.5))"
   ]
  },
  {
   "cell_type": "code",
   "execution_count": 15,
   "metadata": {
    "collapsed": true
   },
   "outputs": [],
   "source": [
    "def clean_or_conv(possible_type_list):\n",
    "    clean_list = []\n",
    "    conventional_list = []\n",
    "    for i in possible_type_list:\n",
    "        if i[2] == 'Coal' or i[2] == 'NG' or i[2] == 'Petro':\n",
    "            conventional_list.append(i)\n",
    "        elif i[2] == 'Hydro' or i[2] == 'Solar' or i[2] == 'Wind':\n",
    "            clean_list.append(i)\n",
    "    return conventional_list, clean_list"
   ]
  },
  {
   "cell_type": "code",
   "execution_count": 16,
   "metadata": {
    "collapsed": false
   },
   "outputs": [
    {
     "data": {
      "text/plain": [
       "[[-0.9042135788656452, 159063.21, 'Hydro'],\n",
       " [-0.8381135736702865, 149414.79999999996, 'Wind']]"
      ]
     },
     "execution_count": 16,
     "metadata": {},
     "output_type": "execute_result"
    }
   ],
   "source": [
    "conv, clean = clean_or_conv([[0.95810457341493549, 3427272.05, 'Coal'],\n",
    " [-0.8923811497455455, 601160.0700000001, 'NG'],\n",
    " [0.99926594657247059, 132529.37000000002, 'Petro'],\n",
    " [-0.90421357886564524, 159063.21, 'Hydro'],\n",
    " [-0.83811357367028649, 149414.79999999996, 'Wind']])\n",
    "clean"
   ]
  },
  {
   "cell_type": "code",
   "execution_count": 23,
   "metadata": {
    "collapsed": true
   },
   "outputs": [],
   "source": [
    "def sort_and_pick(source_list):\n",
    "    source_list.sort()\n",
    "    if len(source_list) == 3:\n",
    "        ref = source_list[2]\n",
    "        if abs(source_list[2][0] - source_list[1][0]) < 0.05 and abs(source_list[1][0] - source_list[0][0]) < 0.05 :\n",
    "            for i in source_list:\n",
    "                if i[1] > ref[1]:\n",
    "                    ref = i\n",
    "        elif abs(source_list[2][0] - source_list[1][0]) < 0.05 and abs(source_list[1][0] - source_list[0][0]) >= 0.05:\n",
    "            if source_list[1][1] > ref[1]:\n",
    "                ref = source_list[1]\n",
    "    elif len(source_list) == 2:\n",
    "        ref = source_list[1]\n",
    "        if abs(source_list[1][0] - source_list[0][0]) < 0.05 :\n",
    "            if source_list[0][1] > ref[1]:\n",
    "                ref = source_list[0]\n",
    "    elif len(source_list) == 1:\n",
    "        ref = source_list[0]\n",
    "    else:\n",
    "        ref = []\n",
    "    return ref"
   ]
  },
  {
   "cell_type": "code",
   "execution_count": 48,
   "metadata": {
    "collapsed": true
   },
   "outputs": [],
   "source": [
    "def suggest(prec, ts, tw, ws, capacity):\n",
    "    state_vote = rf(prec, ts, tw, ws)\n",
    "    cap = avg_capacity(state_vote)\n",
    "    cost = avg_cost(state_vote)\n",
    "    source_list = possible_type(cap)\n",
    "    conventional, clean = clean_or_conv(source_list)\n",
    "    conventional = sort_and_pick(conventional)\n",
    "    clean = sort_and_pick(clean)\n",
    "    if len(clean) == 0:\n",
    "        capacity = min([conventional[1], capacity])\n",
    "        revenue_clean = None\n",
    "        revenue_conv = rev_plot(cost[conventional[2]], capacity, 'conventional', conventional[2])\n",
    "        revenue_conv.title('Money Save using ' + conventional[2] + ' (capacity = ' + str(capacity) + ' Mwh)')\n",
    "    else:\n",
    "        if clean[1] >= capacity:\n",
    "            revenue_clean = rev_plot(cost[clean[2]], capacity, 'clean', clean[2])\n",
    "            revenue_clean.title('Money Save using ' + clean[2] + ' (capacity = ' + str(capacity) + ' Mwh)')\n",
    "            revenue_conv = None\n",
    "        else:\n",
    "            revenue_clean = rev_plot(cost[clean[2]], clean[1], 'clean', clean[2] + ' (capacity = ' + str(int(clean[1])) + ' Mwh)')\n",
    "            revenue_conv = rev_plot(cost[conventional[2]], (capacity - clean[1]), 'conventional', conventional[2] + ' (capacity = ' + str(int(capacity - clean[1])) + ' Mwh)')\n",
    "            rev_plot(cost[clean[2]], clean[1], 'total', 'Total (capacity = ' + str(capacity) + ' Mwh)', avg_cost_conv = cost[conventional[2]], capacity_conv = (capacity - clean[1]))\n",
    "            plt.title('Money Save using ' + clean[2] + ' Combined with ' + conventional[2])\n",
    "    return revenue_clean, revenue_conv"
   ]
  },
  {
   "cell_type": "code",
   "execution_count": 49,
   "metadata": {
    "collapsed": false,
    "scrolled": false
   },
   "outputs": [
    {
     "data": {
      "text/plain": [
       "(<module 'matplotlib.pyplot' from '/Users/taiyupan/miniconda3/lib/python3.5/site-packages/matplotlib/pyplot.py'>,\n",
       " <module 'matplotlib.pyplot' from '/Users/taiyupan/miniconda3/lib/python3.5/site-packages/matplotlib/pyplot.py'>)"
      ]
     },
     "execution_count": 49,
     "metadata": {},
     "output_type": "execute_result"
    },
    {
     "data": {
      "image/png": "[encoded data removed]",
      "text/plain": [
       "<matplotlib.figure.Figure at 0x1105013c8>"
      ]
     },
     "metadata": {},
     "output_type": "display_data"
    }
   ],
   "source": [
    "suggest(2, 75, 30, 1.5, 2000000)"
   ]
  },
  {
   "cell_type": "code",
   "execution_count": null,
   "metadata": {
    "collapsed": true
   },
   "outputs": [],
   "source": []
  }
 ],
 "metadata": {
  "anaconda-cloud": {},
  "kernelspec": {
   "display_name": "Python [default]",
   "language": "python",
   "name": "python3"
  },
  "language_info": {
   "codemirror_mode": {
    "name": "ipython",
    "version": 3
   },
   "file_extension": ".py",
   "mimetype": "text/x-python",
   "name": "python",
   "nbconvert_exporter": "python",
   "pygments_lexer": "ipython3",
   "version": "3.5.2"
  }
 },
 "nbformat": 4,
 "nbformat_minor": 2
}
