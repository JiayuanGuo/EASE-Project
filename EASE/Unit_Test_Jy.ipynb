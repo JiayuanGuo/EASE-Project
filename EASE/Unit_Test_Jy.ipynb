{
 "cells": [
  {
   "cell_type": "markdown",
   "metadata": {},
   "source": [
    "## Test rf"
   ]
  },
  {
   "cell_type": "code",
   "execution_count": 2,
   "metadata": {
    "collapsed": false
   },
   "outputs": [],
   "source": [
    "import unittest\n",
    "import pandas as pd\n",
    "import numpy as np\n",
    "import ease\n",
    "\n",
    "class TEST_RF(unittest.TestCase):\n",
    "    \n",
    "    def test_rf_inputtrain(self):\n",
    "        train = pd.read_csv('../Arranged_Data/final_weater.csv')[[\n",
    "            'State', 'TotalMonthlyPrecip', 'TempSummer',\n",
    "            'TempWinter', 'Avgwindspeed']]\n",
    "        #test if DC exists\n",
    "        self.assertIn('DC',list(train.State))\n",
    "        #test if there is nan in input data\n",
    "        self.assertEqual(train.isnull().sum().sum(),0)\n",
    "        \n",
    "    def test_rf_inputpara(self):\n",
    "        test = pd.read_csv('../Arranged_Data/test_dataset.csv')\n",
    "        prec = test.iloc[0,1]\n",
    "        ts = test.iloc[0,2]\n",
    "        tw = test.iloc[0,3]\n",
    "        ws = test.iloc[0,4]\n",
    "        #test the type of input data\n",
    "        self.assertIsInstance(prec,np.float64)\n",
    "        self.assertIsInstance(ts,np.float64)\n",
    "        self.assertIsInstance(tw,np.float64)\n",
    "        self.assertIsInstance(ws,np.float64)\n",
    "        #test the limitation of input temperature\n",
    "        self.assertGreater(110, ts)\n",
    "        self.assertGreater(ts, tw)\n",
    "        self.assertGreater(tw,-10)\n",
    "        #test the limitation of input precipitation\n",
    "        self.assertGreater(prec, 0)\n",
    "        #test the limitation of input windspeed\n",
    "        self.assertGreater(ws, 0)\n",
    "    \n",
    "    def test_rf_output(self):\n",
    "        test = pd.read_csv('../Arranged_Data/test_dataset.csv')\n",
    "        prec = test.iloc[0,1]\n",
    "        ts = test.iloc[0,2]\n",
    "        tw = test.iloc[0,3]\n",
    "        ws = test.iloc[0,4]\n",
    "        output = ease.rf(prec, ts, tw, ws)\n",
    "        #test the type of output dataset\n",
    "        self.assertIsInstance(output,dict)\n",
    "        #test the output values\n",
    "        for i in list(output.values()):\n",
    "            self.assertTrue(i < 1)\n",
    "            self.assertTrue(i > 0)\n",
    "                \n",
    "if __name__ == '__main__':\n",
    "    unittest.main()"
   ]
  },
  {
   "cell_type": "markdown",
   "metadata": {},
   "source": [
    "## Test avg_capacity"
   ]
  },
  {
   "cell_type": "code",
   "execution_count": 1,
   "metadata": {
    "collapsed": false
   },
   "outputs": [],
   "source": [
    "import unittest\n",
    "import pandas as pd\n",
    "import numpy as np\n",
    "import ease\n",
    "\n",
    "class TEST_avg_capacity(unittest.TestCase):\n",
    "    \n",
    "    def test_avg_cap_input(self):\n",
    "        average_plant_capacity = pd.read_csv('../Arranged_Data/average_plant_capacity.csv')\n",
    "        #test if there is nan in input dataframe\n",
    "        self.assertEqual(average_plant_capacity.isnull().sum().sum(),0)\n",
    "    \n",
    "    def test_avg_cap_output(self):\n",
    "        average_plant_capacity = pd.read_csv('../Arranged_Data/average_plant_capacity.csv')\n",
    "        test = pd.read_csv('../Arranged_Data/test_dataset.csv')\n",
    "        prec = test.iloc[0,1]\n",
    "        ts = test.iloc[0,2]\n",
    "        tw = test.iloc[0,3]\n",
    "        ws = test.iloc[0,4]\n",
    "        vote = ease.rf(prec, ts, tw, ws)\n",
    "        output = ease.avg_capacity(vote)\n",
    "        #test the type of output dataset\n",
    "        self.assertIsInstance(output,list)\n",
    "        #test the length of output dataset\n",
    "        self.assertEqual(len(output),6) \n",
    "if __name__ == '__main__':\n",
    "    unittest.main()"
   ]
  },
  {
   "cell_type": "code",
   "execution_count": 11,
   "metadata": {
    "collapsed": false
   },
   "outputs": [
    {
     "data": {
      "text/plain": [
       "[2551245.8119999995,\n",
       " 286664.9808,\n",
       " 62748.209599999995,\n",
       " 64409.339799999994,\n",
       " 70.3428,\n",
       " 129394.76900000001]"
      ]
     },
     "execution_count": 11,
     "metadata": {},
     "output_type": "execute_result"
    }
   ],
   "source": [
    "vote = ease.rf(3, 69, 35, 5.4)\n",
    "ease.avg_capacity(vote)"
   ]
  },
  {
   "cell_type": "markdown",
   "metadata": {},
   "source": [
    "## Test possible_type"
   ]
  },
  {
   "cell_type": "code",
   "execution_count": 4,
   "metadata": {
    "collapsed": false
   },
   "outputs": [],
   "source": [
    "avg_cap_list = [2505375.75, 287825.37, 62167.29, 56935.33, 89.96000000000001, 126547.58]\n",
    "a = ease.possible_type(avg_cap_list)"
   ]
  },
  {
   "cell_type": "code",
   "execution_count": 7,
   "metadata": {
    "collapsed": false
   },
   "outputs": [
    {
     "data": {
      "text/plain": [
       "'NG'"
      ]
     },
     "execution_count": 7,
     "metadata": {},
     "output_type": "execute_result"
    }
   ],
   "source": [
    "import ease\n",
    "ease.possible_type(avg_cap_list)[1][-1]"
   ]
  },
  {
   "cell_type": "code",
   "execution_count": 4,
   "metadata": {
    "collapsed": true
   },
   "outputs": [],
   "source": [
    "import unittest\n",
    "import pandas as pd\n",
    "import numpy as np\n",
    "import ease\n",
    "\n",
    "class TEST_possible_type(unittest.TestCase):\n",
    "\n",
    "    def test_possible_type_input(self):\n",
    "        cap_pop = pd.read_csv('../Arranged_Data/average_plant_capacity.csv')\n",
    "        #test if there is nan in input capacity dataframe\n",
    "        self.assertEqual(cap_pop.isnull().sum().sum(),0)\n",
    "        \n",
    "    def test_possible_type_output(self):\n",
    "        average_plant_capacity = pd.read_csv('../Arranged_Data/average_plant_capacity.csv')\n",
    "        test = pd.read_csv('../Arranged_Data/test_dataset.csv')\n",
    "        prec = test.iloc[0,1]\n",
    "        ts = test.iloc[0,2]\n",
    "        tw = test.iloc[0,3]\n",
    "        ws = test.iloc[0,4]\n",
    "        vote = ease.rf(prec, ts, tw, ws)\n",
    "        avg_cap_list = ease.avg_capacity(vote)\n",
    "        output = ease.possible_type(avg_cap_list)\n",
    "        \n",
    "        #test the type of output dataset\n",
    "        self.assertIsInstance(output,list)\n",
    "        \n",
    "        #calculate how many clean energy resource have been filtered\n",
    "        type_list = []\n",
    "        for i in range(len(ease.possible_type(avg_cap_list))):\n",
    "            type = ease.possible_type(avg_cap_list)[i][-1]\n",
    "            type_list.append(type)\n",
    "            clean_ = ['Hydro', 'Solar', 'Wind']\n",
    "        filtered = []\n",
    "        for i in clean_:\n",
    "            if i in type_list:\n",
    "                pass\n",
    "            else:\n",
    "                filtered.append(i)\n",
    "                \n",
    "        #test if all the clean resources have been filtered out\n",
    "        self.assertNotEqual(len(filtered),3)\n",
    "\n",
    "if __name__ == '__main__':\n",
    "    unittest.main()"
   ]
  },
  {
   "cell_type": "markdown",
   "metadata": {},
   "source": [
    "## Test rf_fluctuation"
   ]
  },
  {
   "cell_type": "code",
   "execution_count": 7,
   "metadata": {
    "collapsed": true
   },
   "outputs": [],
   "source": [
    "import unittest\n",
    "import pandas as pd\n",
    "import numpy as np\n",
    "import ease\n",
    "\n",
    "class TEST_rf_fluctuation(unittest.TestCase):\n",
    "    \n",
    "    def test_rf_fluctuation_output(self):\n",
    "        test = pd.read_csv('../Arranged_Data/test_dataset.csv')\n",
    "        prec = test.iloc[0,1]\n",
    "        ts = test.iloc[0,2]\n",
    "        tw = test.iloc[0,3]\n",
    "        ws = test.iloc[0,4]\n",
    "        output = ease.rf_fluctuation(prec, ts, tw, ws)\n",
    "        \n",
    "        #test the type of output\n",
    "        self.assertIsInstance(output,list)\n",
    "        #test the length of output\n",
    "        self.assertEqual(len(output),3) \n",
    "        #test fluctuation level\n",
    "        std = output[1]\n",
    "        self.assertLess(std, 0.01)\n",
    "\n",
    "if __name__ == '__main__':\n",
    "    unittest.main()"
   ]
  }
 ],
 "metadata": {
  "anaconda-cloud": {},
  "kernelspec": {
   "display_name": "Python [conda root]",
   "language": "python",
   "name": "conda-root-py"
  },
  "language_info": {
   "codemirror_mode": {
    "name": "ipython",
    "version": 3
   },
   "file_extension": ".py",
   "mimetype": "text/x-python",
   "name": "python",
   "nbconvert_exporter": "python",
   "pygments_lexer": "ipython3",
   "version": "3.5.2"
  }
 },
 "nbformat": 4,
 "nbformat_minor": 2
}
