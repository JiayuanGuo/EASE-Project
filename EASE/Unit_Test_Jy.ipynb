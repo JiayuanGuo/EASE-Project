{
 "cells": [
  {
   "cell_type": "markdown",
   "metadata": {},
   "source": [
    "## 1.Test rf"
   ]
  },
  {
   "cell_type": "code",
   "execution_count": 2,
   "metadata": {
    "collapsed": false
   },
   "outputs": [],
   "source": [
    "import unittest\n",
    "import pandas as pd\n",
    "import numpy as np\n",
    "import ease\n",
    "\n",
    "class TEST_RF(unittest.TestCase):\n",
    "    \n",
    "    def test_rf_inputtrain(self):\n",
    "        train = pd.read_csv('../Arranged_Data/final_weater.csv')[[\n",
    "            'State', 'TotalMonthlyPrecip', 'TempSummer',\n",
    "            'TempWinter', 'Avgwindspeed']]\n",
    "        #test if DC exists\n",
    "        self.assertIn('DC',list(train.State))\n",
    "        #test if there is nan in input data\n",
    "        self.assertEqual(train.isnull().sum().sum(),0)\n",
    "        \n",
    "    def test_rf_inputpara(self):\n",
    "        test = pd.read_csv('../Arranged_Data/test_dataset.csv')\n",
    "        prec = test.iloc[0,1]\n",
    "        ts = test.iloc[0,2]\n",
    "        tw = test.iloc[0,3]\n",
    "        ws = test.iloc[0,4]\n",
    "        #test the type of input data\n",
    "        self.assertIsInstance(prec,(int,float))\n",
    "        self.assertIsInstance(ts,(int,float))\n",
    "        self.assertIsInstance(tw,(int,float))\n",
    "        self.assertIsInstance(ws,(int,float))\n",
    "        #test the limitation of input temperature\n",
    "        self.assertGreater(110, ts)\n",
    "        self.assertGreater(ts, tw)\n",
    "        self.assertGreater(tw,-10)\n",
    "        #test the limitation of input precipitation\n",
    "        self.assertGreater(prec, 0)\n",
    "        #test the limitation of input windspeed\n",
    "        self.assertGreater(ws, 0)\n",
    "    \n",
    "    def test_rf_output(self):\n",
    "        test = pd.read_csv('../Arranged_Data/test_dataset.csv')\n",
    "        prec = test.iloc[0,1]\n",
    "        ts = test.iloc[0,2]\n",
    "        tw = test.iloc[0,3]\n",
    "        ws = test.iloc[0,4]\n",
    "        output = ease.rf(prec, ts, tw, ws)\n",
    "        #test the type of output dataset\n",
    "        self.assertIsInstance(output,dict)\n",
    "        #test the output values\n",
    "        for i in list(output.values()):\n",
    "            self.assertTrue(i <= 1)\n",
    "            self.assertTrue(i > 0)\n",
    "                \n",
    "if __name__ == '__main__':\n",
    "    unittest.main()"
   ]
  },
  {
   "cell_type": "markdown",
   "metadata": {},
   "source": [
    "## 2.Test avg_capacity"
   ]
  },
  {
   "cell_type": "code",
   "execution_count": 1,
   "metadata": {
    "collapsed": false
   },
   "outputs": [],
   "source": [
    "import unittest\n",
    "import pandas as pd\n",
    "import numpy as np\n",
    "import ease\n",
    "\n",
    "class TEST_avg_capacity(unittest.TestCase):\n",
    "    \n",
    "    def test_avg_cap_input(self):\n",
    "        average_plant_capacity = pd.read_csv('../Arranged_Data/average_plant_capacity.csv')\n",
    "        #test if there is nan in input dataframe\n",
    "        self.assertEqual(average_plant_capacity.isnull().sum().sum(),0)\n",
    "    \n",
    "    def test_avg_cap_output(self):\n",
    "        average_plant_capacity = pd.read_csv('../Arranged_Data/average_plant_capacity.csv')\n",
    "        test = pd.read_csv('../Arranged_Data/test_dataset.csv')\n",
    "        prec = test.iloc[0,1]\n",
    "        ts = test.iloc[0,2]\n",
    "        tw = test.iloc[0,3]\n",
    "        ws = test.iloc[0,4]\n",
    "        vote = ease.rf(prec, ts, tw, ws)\n",
    "        output = ease.avg_capacity(vote)\n",
    "        #test the type of output dataset\n",
    "        self.assertIsInstance(output,list)\n",
    "        #test the length of output dataset\n",
    "        self.assertEqual(len(output),6) \n",
    "        \n",
    "if __name__ == '__main__':\n",
    "    unittest.main()"
   ]
  },
  {
   "cell_type": "markdown",
   "metadata": {},
   "source": [
    "## 3.Test possible_type(IndexError!)"
   ]
  },
  {
   "cell_type": "code",
   "execution_count": 8,
   "metadata": {
    "collapsed": false
   },
   "outputs": [],
   "source": [
    "import unittest\n",
    "import pandas as pd\n",
    "import numpy as np\n",
    "import ease\n",
    "\n",
    "class TEST_possible_type(unittest.TestCase):\n",
    "\n",
    "    def test_possible_type_input(self):\n",
    "        cap_pop = pd.read_csv('../Arranged_Data/average_plant_capacity.csv')\n",
    "        #test if there is nan in input capacity dataframe\n",
    "        self.assertEqual(cap_pop.isnull().sum().sum(),0)\n",
    "        \n",
    "    def test_possible_type_output(self):\n",
    "        average_plant_capacity = pd.read_csv('../Arranged_Data/average_plant_capacity.csv')\n",
    "        test = pd.read_csv('../Arranged_Data/test_dataset.csv')\n",
    "        prec = test.iloc[0,1]\n",
    "        ts = test.iloc[0,2]\n",
    "        tw = test.iloc[0,3]\n",
    "        ws = test.iloc[0,4]\n",
    "        vote = ease.rf(prec, ts, tw, ws)\n",
    "        avg_cap_list = ease.avg_capacity(vote)\n",
    "        output = ease.possible_type(avg_cap_list)#IndexError\n",
    "        \n",
    "        #test the type of output dataset\n",
    "        self.assertIsInstance(output,list)\n",
    "        \n",
    "        #calculate how many clean energy resource have been filtered\n",
    "        type_list = []\n",
    "        for i in range(len(ease.possible_type(avg_cap_list))):\n",
    "            type = ease.possible_type(avg_cap_list)[i][-1]\n",
    "            type_list.append(type)\n",
    "            clean_ = ['Hydro', 'Solar', 'Wind']\n",
    "        filtered = []\n",
    "        for i in clean_:\n",
    "            if i in type_list:\n",
    "                pass\n",
    "            else:\n",
    "                filtered.append(i)\n",
    "                \n",
    "        #test if all the clean resources have been filtered out\n",
    "        self.assertNotEqual(len(filtered),3)\n",
    "\n",
    "#if __name__ == '__main__':\n",
    "    #unittest.main()"
   ]
  },
  {
   "cell_type": "code",
   "execution_count": 28,
   "metadata": {
    "collapsed": false
   },
   "outputs": [
    {
     "data": {
      "text/plain": [
       "[0.0, 0.0, 169.0, 12385.0, 1500.0, 40670.0]"
      ]
     },
     "execution_count": 28,
     "metadata": {},
     "output_type": "execute_result"
    }
   ],
   "source": [
    "average_plant_capacity = pd.read_csv('../Arranged_Data/average_plant_capacity.csv')\n",
    "test = pd.read_csv('../Arranged_Data/test_dataset.csv')\n",
    "prec = test.iloc[0,1]\n",
    "ts = test.iloc[0,2]\n",
    "tw = test.iloc[0,3]\n",
    "ws = test.iloc[0,4]\n",
    "vote = ease.rf(prec, ts, tw, ws)\n",
    "avg_cap_list = ease.avg_capacity(vote)\n",
    "\n",
    "avg_cap_list"
   ]
  },
  {
   "cell_type": "code",
   "execution_count": 11,
   "metadata": {
    "collapsed": false
   },
   "outputs": [
    {
     "data": {
      "text/html": [
       "<div>\n",
       "<table border=\"1\" class=\"dataframe\">\n",
       "  <thead>\n",
       "    <tr style=\"text-align: right;\">\n",
       "      <th></th>\n",
       "      <th>State</th>\n",
       "      <th>TotalMonthlyPrecip</th>\n",
       "      <th>TempSummer</th>\n",
       "      <th>TempWinter</th>\n",
       "      <th>Avgwindspeed</th>\n",
       "    </tr>\n",
       "  </thead>\n",
       "  <tbody>\n",
       "    <tr>\n",
       "      <th>0</th>\n",
       "      <td>VT</td>\n",
       "      <td>2.399545</td>\n",
       "      <td>67.125000</td>\n",
       "      <td>30.975000</td>\n",
       "      <td>5.017391</td>\n",
       "    </tr>\n",
       "    <tr>\n",
       "      <th>1</th>\n",
       "      <td>AL</td>\n",
       "      <td>4.882240</td>\n",
       "      <td>78.858523</td>\n",
       "      <td>50.144318</td>\n",
       "      <td>5.110407</td>\n",
       "    </tr>\n",
       "    <tr>\n",
       "      <th>2</th>\n",
       "      <td>ME</td>\n",
       "      <td>3.399861</td>\n",
       "      <td>66.241667</td>\n",
       "      <td>22.166667</td>\n",
       "      <td>5.829167</td>\n",
       "    </tr>\n",
       "    <tr>\n",
       "      <th>3</th>\n",
       "      <td>LA</td>\n",
       "      <td>3.543006</td>\n",
       "      <td>85.160000</td>\n",
       "      <td>52.020000</td>\n",
       "      <td>5.571978</td>\n",
       "    </tr>\n",
       "    <tr>\n",
       "      <th>4</th>\n",
       "      <td>TN</td>\n",
       "      <td>4.316316</td>\n",
       "      <td>74.322222</td>\n",
       "      <td>39.271111</td>\n",
       "      <td>5.359259</td>\n",
       "    </tr>\n",
       "  </tbody>\n",
       "</table>\n",
       "</div>"
      ],
      "text/plain": [
       "  State  TotalMonthlyPrecip  TempSummer  TempWinter  Avgwindspeed\n",
       "0    VT            2.399545   67.125000   30.975000      5.017391\n",
       "1    AL            4.882240   78.858523   50.144318      5.110407\n",
       "2    ME            3.399861   66.241667   22.166667      5.829167\n",
       "3    LA            3.543006   85.160000   52.020000      5.571978\n",
       "4    TN            4.316316   74.322222   39.271111      5.359259"
      ]
     },
     "execution_count": 11,
     "metadata": {},
     "output_type": "execute_result"
    }
   ],
   "source": [
    "test.head()"
   ]
  },
  {
   "cell_type": "code",
   "execution_count": 10,
   "metadata": {
    "collapsed": false
   },
   "outputs": [
    {
     "data": {
      "text/plain": [
       "2.3995454550000002"
      ]
     },
     "execution_count": 10,
     "metadata": {},
     "output_type": "execute_result"
    }
   ],
   "source": [
    "test.iloc[0,1]"
   ]
  },
  {
   "cell_type": "code",
   "execution_count": 14,
   "metadata": {
    "collapsed": false
   },
   "outputs": [
    {
     "data": {
      "text/plain": [
       "{'VT': 1.0}"
      ]
     },
     "execution_count": 14,
     "metadata": {},
     "output_type": "execute_result"
    }
   ],
   "source": [
    "vote"
   ]
  },
  {
   "cell_type": "code",
   "execution_count": 15,
   "metadata": {
    "collapsed": false
   },
   "outputs": [
    {
     "data": {
      "text/plain": [
       "[0.0, 0.0, 169.0, 12385.0, 1500.0, 40670.0]"
      ]
     },
     "execution_count": 15,
     "metadata": {},
     "output_type": "execute_result"
    }
   ],
   "source": [
    "avg_cap_list"
   ]
  },
  {
   "cell_type": "code",
   "execution_count": 13,
   "metadata": {
    "collapsed": true
   },
   "outputs": [],
   "source": [
    "average_plant_capacity = pd.read_csv('../Arranged_Data/average_plant_capacity.csv')\n",
    "test = pd.read_csv('../Arranged_Data/test_dataset.csv')\n",
    "prec = test.iloc[0,1]\n",
    "ts = test.iloc[0,2]\n",
    "tw = test.iloc[0,3]\n",
    "ws = test.iloc[0,4]\n",
    "vote = ease.rf(prec, ts, tw, ws)\n",
    "avg_cap_list = ease.avg_capacity(vote)"
   ]
  },
  {
   "cell_type": "code",
   "execution_count": 45,
   "metadata": {
    "collapsed": false,
    "scrolled": true
   },
   "outputs": [
    {
     "ename": "IndexError",
     "evalue": "too many indices for array",
     "output_type": "error",
     "traceback": [
      "\u001b[0;31m---------------------------------------------------------------------------\u001b[0m",
      "\u001b[0;31mIndexError\u001b[0m                                Traceback (most recent call last)",
      "\u001b[0;32m<ipython-input-45-a58c0d98ca11>\u001b[0m in \u001b[0;36m<module>\u001b[0;34m()\u001b[0m\n\u001b[1;32m      7\u001b[0m \u001b[0mvote\u001b[0m \u001b[1;33m=\u001b[0m \u001b[0mease\u001b[0m\u001b[1;33m.\u001b[0m\u001b[0mrf\u001b[0m\u001b[1;33m(\u001b[0m\u001b[0mprec\u001b[0m\u001b[1;33m,\u001b[0m \u001b[0mts\u001b[0m\u001b[1;33m,\u001b[0m \u001b[0mtw\u001b[0m\u001b[1;33m,\u001b[0m \u001b[0mws\u001b[0m\u001b[1;33m)\u001b[0m\u001b[1;33m\u001b[0m\u001b[0m\n\u001b[1;32m      8\u001b[0m \u001b[0mavg_cap_list\u001b[0m \u001b[1;33m=\u001b[0m \u001b[0mease\u001b[0m\u001b[1;33m.\u001b[0m\u001b[0mavg_capacity\u001b[0m\u001b[1;33m(\u001b[0m\u001b[0mvote\u001b[0m\u001b[1;33m)\u001b[0m\u001b[1;33m\u001b[0m\u001b[0m\n\u001b[0;32m----> 9\u001b[0;31m \u001b[0mease\u001b[0m\u001b[1;33m.\u001b[0m\u001b[0mpossible_type\u001b[0m\u001b[1;33m(\u001b[0m\u001b[0mavg_cap_list\u001b[0m\u001b[1;33m)\u001b[0m\u001b[1;33m\u001b[0m\u001b[0m\n\u001b[0m",
      "\u001b[0;32mC:\\Users\\Jiayuan\\Desktop\\2017 Winter  Quarter\\EASE-Project\\EASE\\ease.py\u001b[0m in \u001b[0;36mpossible_type\u001b[0;34m(avg_cap_list)\u001b[0m\n\u001b[1;32m    112\u001b[0m             possible_type_list.append(\n\u001b[1;32m    113\u001b[0m                     [p_value, avg_cap_list[i], e_type[i]])\n\u001b[0;32m--> 114\u001b[0;31m     \u001b[1;32mif\u001b[0m \u001b[1;34m'Coal'\u001b[0m \u001b[1;32min\u001b[0m \u001b[0mlist\u001b[0m\u001b[1;33m(\u001b[0m\u001b[0mnp\u001b[0m\u001b[1;33m.\u001b[0m\u001b[0marray\u001b[0m\u001b[1;33m(\u001b[0m\u001b[0mpossible_type_list\u001b[0m\u001b[1;33m)\u001b[0m\u001b[1;33m[\u001b[0m\u001b[1;33m:\u001b[0m\u001b[1;33m,\u001b[0m \u001b[1;36m2\u001b[0m\u001b[1;33m]\u001b[0m\u001b[1;33m)\u001b[0m \u001b[1;32mor\u001b[0m\u001b[0;31m \u001b[0m\u001b[0;31m\\\u001b[0m\u001b[1;33m\u001b[0m\u001b[0m\n\u001b[0m\u001b[1;32m    115\u001b[0m         \u001b[1;34m'NG'\u001b[0m \u001b[1;32min\u001b[0m \u001b[0mlist\u001b[0m\u001b[1;33m(\u001b[0m\u001b[0mnp\u001b[0m\u001b[1;33m.\u001b[0m\u001b[0marray\u001b[0m\u001b[1;33m(\u001b[0m\u001b[0mpossible_type_list\u001b[0m\u001b[1;33m)\u001b[0m\u001b[1;33m[\u001b[0m\u001b[1;33m:\u001b[0m\u001b[1;33m,\u001b[0m \u001b[1;36m2\u001b[0m\u001b[1;33m]\u001b[0m\u001b[1;33m)\u001b[0m \u001b[1;32mor\u001b[0m\u001b[0;31m \u001b[0m\u001b[0;31m\\\u001b[0m\u001b[1;33m\u001b[0m\u001b[0m\n\u001b[1;32m    116\u001b[0m         \u001b[1;34m'Petro'\u001b[0m \u001b[1;32min\u001b[0m \u001b[0mlist\u001b[0m\u001b[1;33m(\u001b[0m\u001b[0mnp\u001b[0m\u001b[1;33m.\u001b[0m\u001b[0marray\u001b[0m\u001b[1;33m(\u001b[0m\u001b[0mpossible_type_list\u001b[0m\u001b[1;33m)\u001b[0m\u001b[1;33m[\u001b[0m\u001b[1;33m:\u001b[0m\u001b[1;33m,\u001b[0m \u001b[1;36m2\u001b[0m\u001b[1;33m]\u001b[0m\u001b[1;33m)\u001b[0m\u001b[1;33m:\u001b[0m\u001b[1;33m\u001b[0m\u001b[0m\n",
      "\u001b[0;31mIndexError\u001b[0m: too many indices for array"
     ]
    }
   ],
   "source": [
    "average_plant_capacity = pd.read_csv('../Arranged_Data/average_plant_capacity.csv')\n",
    "test = pd.read_csv('../Arranged_Data/test_dataset.csv')\n",
    "prec = test.iloc[0,1]\n",
    "ts = test.iloc[0,2]\n",
    "tw = test.iloc[0,3]\n",
    "ws = test.iloc[0,4]\n",
    "vote = ease.rf(prec, ts, tw, ws)\n",
    "avg_cap_list = ease.avg_capacity(vote)\n",
    "ease.possible_type(avg_cap_list)"
   ]
  },
  {
   "cell_type": "code",
   "execution_count": 9,
   "metadata": {
    "collapsed": false
   },
   "outputs": [
    {
     "data": {
      "text/html": [
       "<div>\n",
       "<table border=\"1\" class=\"dataframe\">\n",
       "  <thead>\n",
       "    <tr style=\"text-align: right;\">\n",
       "      <th></th>\n",
       "      <th>State</th>\n",
       "      <th>TotalMonthlyPrecip</th>\n",
       "      <th>TempSummer</th>\n",
       "      <th>TempWinter</th>\n",
       "      <th>Avgwindspeed</th>\n",
       "    </tr>\n",
       "  </thead>\n",
       "  <tbody>\n",
       "    <tr>\n",
       "      <th>0</th>\n",
       "      <td>VT</td>\n",
       "      <td>2.399545</td>\n",
       "      <td>67.125000</td>\n",
       "      <td>30.975000</td>\n",
       "      <td>5.017391</td>\n",
       "    </tr>\n",
       "    <tr>\n",
       "      <th>1</th>\n",
       "      <td>AL</td>\n",
       "      <td>4.882240</td>\n",
       "      <td>78.858523</td>\n",
       "      <td>50.144318</td>\n",
       "      <td>5.110407</td>\n",
       "    </tr>\n",
       "    <tr>\n",
       "      <th>2</th>\n",
       "      <td>ME</td>\n",
       "      <td>3.399861</td>\n",
       "      <td>66.241667</td>\n",
       "      <td>22.166667</td>\n",
       "      <td>5.829167</td>\n",
       "    </tr>\n",
       "    <tr>\n",
       "      <th>3</th>\n",
       "      <td>LA</td>\n",
       "      <td>3.543006</td>\n",
       "      <td>85.160000</td>\n",
       "      <td>52.020000</td>\n",
       "      <td>5.571978</td>\n",
       "    </tr>\n",
       "    <tr>\n",
       "      <th>4</th>\n",
       "      <td>TN</td>\n",
       "      <td>4.316316</td>\n",
       "      <td>74.322222</td>\n",
       "      <td>39.271111</td>\n",
       "      <td>5.359259</td>\n",
       "    </tr>\n",
       "  </tbody>\n",
       "</table>\n",
       "</div>"
      ],
      "text/plain": [
       "  State  TotalMonthlyPrecip  TempSummer  TempWinter  Avgwindspeed\n",
       "0    VT            2.399545   67.125000   30.975000      5.017391\n",
       "1    AL            4.882240   78.858523   50.144318      5.110407\n",
       "2    ME            3.399861   66.241667   22.166667      5.829167\n",
       "3    LA            3.543006   85.160000   52.020000      5.571978\n",
       "4    TN            4.316316   74.322222   39.271111      5.359259"
      ]
     },
     "execution_count": 9,
     "metadata": {},
     "output_type": "execute_result"
    }
   ],
   "source": [
    "test.head()"
   ]
  },
  {
   "cell_type": "code",
   "execution_count": 4,
   "metadata": {
    "collapsed": true
   },
   "outputs": [],
   "source": [
    "import ease"
   ]
  },
  {
   "cell_type": "code",
   "execution_count": 7,
   "metadata": {
    "collapsed": true
   },
   "outputs": [],
   "source": [
    "average_plant_capacity = pd.read_csv('../Arranged_Data/average_plant_capacity.csv')\n",
    "test = pd.read_csv('../Arranged_Data/test_dataset.csv')\n",
    "prec = test.iloc[3,1]\n",
    "ts = test.iloc[3,2]\n",
    "tw = test.iloc[3,3]\n",
    "ws = test.iloc[3,4]\n",
    "vote = ease.rf(prec, ts, tw, ws)\n",
    "avg_cap_list = ease.avg_capacity(vote)"
   ]
  },
  {
   "cell_type": "code",
   "execution_count": 8,
   "metadata": {
    "collapsed": false
   },
   "outputs": [
    {
     "data": {
      "text/plain": [
       "[[0.99889193415941924, 1895619.0, 'Coal'],\n",
       " [0.99995661863221352, 570783.0, 'NG'],\n",
       " [1.0, 303077.0, 'Petro'],\n",
       " [1.0, 499518.0, 'Hydro']]"
      ]
     },
     "execution_count": 8,
     "metadata": {},
     "output_type": "execute_result"
    }
   ],
   "source": [
    "ease.possible_type(avg_cap_list)"
   ]
  },
  {
   "cell_type": "code",
   "execution_count": null,
   "metadata": {
    "collapsed": true
   },
   "outputs": [],
   "source": [
    "def possible_type(avg_cap_list):\n",
    "    \"\"\"\n",
    "    This function is to choose possible source type base on\n",
    "    p value calculation, comparing to USA average and\n",
    "    significance level (alpha) = 0.05.\n",
    "    \"\"\"\n",
    "    import pandas as pd\n",
    "    import numpy as np\n",
    "    from scipy import stats\n",
    "\n",
    "    cap_pop = pd.read_csv('../Arranged_Data/average_plant_capacity.csv')\n",
    "    e_type = ['Coal', 'NG', 'Petro', 'Hydro', 'Solar', 'Wind']\n",
    "    possible_type_list = []\n",
    "    for i in range(len(e_type)):\n",
    "        p_value = stats.ttest_1samp(\n",
    "                cap_pop[cap_pop[e_type[i]] != 0][\n",
    "                    e_type[i]], avg_cap_list[i])[1]\n",
    "        alpha = 0.05  # confidence\n",
    "        if avg_cap_list[i] < cap_pop[cap_pop[e_type[i]] != 0][\n",
    "                e_type[i]].mean():\n",
    "            if p_value < alpha:\n",
    "                pass\n",
    "            else:\n",
    "                p_value = -(1 - p_value)\n",
    "                possible_type_list.append(\n",
    "                        [p_value, avg_cap_list[i], e_type[i]])\n",
    "        else:\n",
    "            p_value = (1 - p_value)\n",
    "            possible_type_list.append(\n",
    "                    [p_value, avg_cap_list[i], e_type[i]])\n",
    "    if 'Coal' in list(np.array(possible_type_list)[:, 2]) or \\\n",
    "        'NG' in list(np.array(possible_type_list)[:, 2]) or \\\n",
    "        'Petro' in list(np.array(possible_type_list)[:, 2]):\n",
    "        pass\n",
    "    else:\n",
    "        possible_type_list.append(\n",
    "            [-1, max(avg_cap_list[0:3]), e_type[avg_cap_list.index(max(avg_cap_list[0:3]))]])\n",
    "\n",
    "    return possible_type_list\n"
   ]
  },
  {
   "cell_type": "code",
   "execution_count": 4,
   "metadata": {
    "collapsed": false
   },
   "outputs": [
    {
     "data": {
      "text/plain": [
       "[[0.86594098170056566, 45688.0, 'Petro']]"
      ]
     },
     "execution_count": 4,
     "metadata": {},
     "output_type": "execute_result"
    }
   ],
   "source": [
    "average_plant_capacity = pd.read_csv('../Arranged_Data/average_plant_capacity.csv')\n",
    "test = pd.read_csv('../Arranged_Data/test_dataset.csv')\n",
    "prec = test.iloc[2,1]\n",
    "ts = test.iloc[2,2]\n",
    "tw = test.iloc[2,3]\n",
    "ws = test.iloc[2,4]\n",
    "vote = ease.rf(prec, ts, tw, ws)\n",
    "avg_cap_list = ease.avg_capacity(vote)\n",
    "ease.possible_type(avg_cap_list)"
   ]
  },
  {
   "cell_type": "markdown",
   "metadata": {},
   "source": [
    "## 4.Test rf_fluctuation"
   ]
  },
  {
   "cell_type": "code",
   "execution_count": 7,
   "metadata": {
    "collapsed": true
   },
   "outputs": [],
   "source": [
    "import unittest\n",
    "import pandas as pd\n",
    "import numpy as np\n",
    "import ease\n",
    "\n",
    "class TEST_rf_fluctuation(unittest.TestCase):\n",
    "    \n",
    "    def test_rf_fluctuation_output(self):\n",
    "        test = pd.read_csv('../Arranged_Data/test_dataset.csv')\n",
    "        prec = test.iloc[0,1]\n",
    "        ts = test.iloc[0,2]\n",
    "        tw = test.iloc[0,3]\n",
    "        ws = test.iloc[0,4]\n",
    "        output = ease.rf_fluctuation(prec, ts, tw, ws)\n",
    "        \n",
    "        #test the type of output\n",
    "        self.assertIsInstance(output,list)\n",
    "        #test the length of output\n",
    "        self.assertEqual(len(output),3) \n",
    "        #test fluctuation level\n",
    "        std = output[1]\n",
    "        self.assertLess(std, 0.01)\n",
    "\n",
    "if __name__ == '__main__':\n",
    "    unittest.main()"
   ]
  },
  {
   "cell_type": "markdown",
   "metadata": {},
   "source": [
    "## 5.Test rev_plot"
   ]
  },
  {
   "cell_type": "code",
   "execution_count": 46,
   "metadata": {
    "collapsed": true
   },
   "outputs": [],
   "source": [
    "import unittest\n",
    "import pandas as pd\n",
    "import numpy as np\n",
    "import ease\n",
    "\n",
    "class TEST_rev_plot(unittest.TestCase):\n",
    "    \n",
    "    def test_rev_plot_input(self):\n",
    "        esales = pd.read_csv('../Arranged_Data/Cost/Sale_CO2_tax.csv', skiprows= 1, names = ['Year', 'Sale', 'CO2_tax']) \n",
    "        test = pd.read_csv('../Arranged_Data/test_dataset.csv')\n",
    "        prec = test.iloc[0,1]\n",
    "        ts = test.iloc[0,2]\n",
    "        tw = test.iloc[0,3]\n",
    "        ws = test.iloc[0,4]\n",
    "        capacity = 100000\n",
    "        label = 'Try'\n",
    "        e_type = 'conventional'\n",
    "        # test if there exists nan in input dataframe\n",
    "        self.assertEqual(esales.isnull().sum().sum(),0)\n",
    "        # test type of input capacity \n",
    "        self.assertIsInstance(capacity,(int,float))\n",
    "        # test type of input label\n",
    "        self.assertIsInstance(label,str)\n",
    "        # test if e_type exists\n",
    "        e_type_list = ['conventional','clean','total']\n",
    "        self.assertIn(e_type,e_type_list)\n",
    "        \n",
    "if __name__ == '__main__':\n",
    "    unittest.main()"
   ]
  },
  {
   "cell_type": "markdown",
   "metadata": {},
   "source": [
    "## 6.Test avg_cost"
   ]
  },
  {
   "cell_type": "code",
   "execution_count": null,
   "metadata": {
    "collapsed": true
   },
   "outputs": [],
   "source": [
    "import unittest\n",
    "import pandas as pd\n",
    "import numpy as np\n",
    "import ease\n",
    "\n",
    "class TEST_avg_cost(unittest.TestCase):\n",
    "    \n",
    "    def test_avg_cost_input(self):\n",
    "        cost = pd.read_csv('../Arranged_Data/Cost/df_cost.csv')\n",
    "        #test if there is nan in input dataframe\n",
    "        self.assertEqual(cost.isnull().sum().sum(),0)\n",
    "        \n",
    "    def test_avg_cost_output(self):\n",
    "        cost = pd.read_csv('../Arranged_Data/Cost/df_cost.csv')\n",
    "        test = pd.read_csv('../Arranged_Data/test_dataset.csv')\n",
    "        prec = test.iloc[0,1]\n",
    "        ts = test.iloc[0,2]\n",
    "        tw = test.iloc[0,3]\n",
    "        ws = test.iloc[0,4]\n",
    "        vote = ease.rf(prec, ts, tw, ws)\n",
    "        output = ease.avg_cost(vote)\n",
    "        # test the type of output\n",
    "        self.assertIsInstance(output,dict)\n",
    "        # test the output length\n",
    "        self.assertLessEqual(len(output),6)\n",
    "        \n",
    "#if __name__ == '__main__':\n",
    "    #unittest.main()"
   ]
  },
  {
   "cell_type": "markdown",
   "metadata": {},
   "source": [
    "## 6.Test clean_or_conventional(IndexError as 3!!)"
   ]
  },
  {
   "cell_type": "code",
   "execution_count": null,
   "metadata": {
    "collapsed": true
   },
   "outputs": [],
   "source": [
    "import unittest\n",
    "import pandas as pd\n",
    "import numpy as np\n",
    "import ease\n",
    "\n",
    "class TEST_clean_or_conv(unittest.TestCase):\n",
    "    \n",
    "    def test_clean_or_conv(self):\n",
    "        test = pd.read_csv('../Arranged_Data/test_dataset.csv')\n",
    "        prec = test.iloc[0,1]\n",
    "        ts = test.iloc[0,2]\n",
    "        tw = test.iloc[0,3]\n",
    "        ws = test.iloc[0,4]\n",
    "        vote = ease.rf(prec, ts, tw, ws)\n",
    "        avg_capacity = ease.avg_capacity(vote)\n",
    "        possible_type = ease.possible_type(avg_capacity)\n",
    "        conv, clean = ease.clean_or_conv(possible_type)\n",
    "        \n",
    "        # test the type of input\n",
    "        self.assertIsInstance(possible_type,list)\n",
    "        # test the type of output\n",
    "        self.assertIsInstance(conv,list)\n",
    "        self.assertIsInstance(clean,list)\n",
    "        # test the element type inside of clean list\n",
    "        for i in range(len(clean)):\n",
    "            self.assertIsInstance(clean[i][2],str)\n",
    "        \n",
    "#if __name__ == '__main__':\n",
    "    #unittest.main()"
   ]
  },
  {
   "cell_type": "code",
   "execution_count": 5,
   "metadata": {
    "collapsed": true
   },
   "outputs": [],
   "source": [
    "import unittest\n",
    "import pandas as pd\n",
    "import numpy as np\n",
    "import ease"
   ]
  },
  {
   "cell_type": "code",
   "execution_count": 14,
   "metadata": {
    "collapsed": false
   },
   "outputs": [
    {
     "ename": "IndexError",
     "evalue": "too many indices for array",
     "output_type": "error",
     "traceback": [
      "\u001b[0;31m---------------------------------------------------------------------------\u001b[0m",
      "\u001b[0;31mIndexError\u001b[0m                                Traceback (most recent call last)",
      "\u001b[0;32m<ipython-input-14-fe95f056d66b>\u001b[0m in \u001b[0;36m<module>\u001b[0;34m()\u001b[0m\n\u001b[1;32m      6\u001b[0m \u001b[0mvote\u001b[0m \u001b[1;33m=\u001b[0m \u001b[0mease\u001b[0m\u001b[1;33m.\u001b[0m\u001b[0mrf\u001b[0m\u001b[1;33m(\u001b[0m\u001b[0mprec\u001b[0m\u001b[1;33m,\u001b[0m \u001b[0mts\u001b[0m\u001b[1;33m,\u001b[0m \u001b[0mtw\u001b[0m\u001b[1;33m,\u001b[0m \u001b[0mws\u001b[0m\u001b[1;33m)\u001b[0m\u001b[1;33m\u001b[0m\u001b[0m\n\u001b[1;32m      7\u001b[0m \u001b[0mavg_capacity\u001b[0m \u001b[1;33m=\u001b[0m \u001b[0mease\u001b[0m\u001b[1;33m.\u001b[0m\u001b[0mavg_capacity\u001b[0m\u001b[1;33m(\u001b[0m\u001b[0mvote\u001b[0m\u001b[1;33m)\u001b[0m\u001b[1;33m\u001b[0m\u001b[0m\n\u001b[0;32m----> 8\u001b[0;31m \u001b[0mpossible_type_list\u001b[0m \u001b[1;33m=\u001b[0m \u001b[0mease\u001b[0m\u001b[1;33m.\u001b[0m\u001b[0mpossible_type\u001b[0m\u001b[1;33m(\u001b[0m\u001b[0mavg_capacity\u001b[0m\u001b[1;33m)\u001b[0m\u001b[1;33m\u001b[0m\u001b[0m\n\u001b[0m",
      "\u001b[0;32mC:\\Users\\Jiayuan\\Desktop\\2017 Winter  Quarter\\EASE-Project\\EASE\\ease.py\u001b[0m in \u001b[0;36mpossible_type\u001b[0;34m(avg_cap_list)\u001b[0m\n\u001b[1;32m    112\u001b[0m             possible_type_list.append(\n\u001b[1;32m    113\u001b[0m                     [p_value, avg_cap_list[i], e_type[i]])\n\u001b[0;32m--> 114\u001b[0;31m     \u001b[1;32mif\u001b[0m \u001b[1;34m'Coal'\u001b[0m \u001b[1;32min\u001b[0m \u001b[0mlist\u001b[0m\u001b[1;33m(\u001b[0m\u001b[0mnp\u001b[0m\u001b[1;33m.\u001b[0m\u001b[0marray\u001b[0m\u001b[1;33m(\u001b[0m\u001b[0mpossible_type_list\u001b[0m\u001b[1;33m)\u001b[0m\u001b[1;33m[\u001b[0m\u001b[1;33m:\u001b[0m\u001b[1;33m,\u001b[0m \u001b[1;36m2\u001b[0m\u001b[1;33m]\u001b[0m\u001b[1;33m)\u001b[0m \u001b[1;32mor\u001b[0m\u001b[0;31m \u001b[0m\u001b[0;31m\\\u001b[0m\u001b[1;33m\u001b[0m\u001b[0m\n\u001b[0m\u001b[1;32m    115\u001b[0m         \u001b[1;34m'NG'\u001b[0m \u001b[1;32min\u001b[0m \u001b[0mlist\u001b[0m\u001b[1;33m(\u001b[0m\u001b[0mnp\u001b[0m\u001b[1;33m.\u001b[0m\u001b[0marray\u001b[0m\u001b[1;33m(\u001b[0m\u001b[0mpossible_type_list\u001b[0m\u001b[1;33m)\u001b[0m\u001b[1;33m[\u001b[0m\u001b[1;33m:\u001b[0m\u001b[1;33m,\u001b[0m \u001b[1;36m2\u001b[0m\u001b[1;33m]\u001b[0m\u001b[1;33m)\u001b[0m \u001b[1;32mor\u001b[0m\u001b[0;31m \u001b[0m\u001b[0;31m\\\u001b[0m\u001b[1;33m\u001b[0m\u001b[0m\n\u001b[1;32m    116\u001b[0m         \u001b[1;34m'Petro'\u001b[0m \u001b[1;32min\u001b[0m \u001b[0mlist\u001b[0m\u001b[1;33m(\u001b[0m\u001b[0mnp\u001b[0m\u001b[1;33m.\u001b[0m\u001b[0marray\u001b[0m\u001b[1;33m(\u001b[0m\u001b[0mpossible_type_list\u001b[0m\u001b[1;33m)\u001b[0m\u001b[1;33m[\u001b[0m\u001b[1;33m:\u001b[0m\u001b[1;33m,\u001b[0m \u001b[1;36m2\u001b[0m\u001b[1;33m]\u001b[0m\u001b[1;33m)\u001b[0m\u001b[1;33m:\u001b[0m\u001b[1;33m\u001b[0m\u001b[0m\n",
      "\u001b[0;31mIndexError\u001b[0m: too many indices for array"
     ]
    }
   ],
   "source": [
    "test = pd.read_csv('../Arranged_Data/test_dataset.csv')\n",
    "prec = test.iloc[0,1]\n",
    "ts = test.iloc[0,2]\n",
    "tw = test.iloc[0,3]\n",
    "ws = test.iloc[0,4]\n",
    "vote = ease.rf(prec, ts, tw, ws)\n",
    "avg_capacity = ease.avg_capacity(vote)\n",
    "possible_type_list = ease.possible_type(avg_capacity)"
   ]
  },
  {
   "cell_type": "code",
   "execution_count": 12,
   "metadata": {
    "collapsed": false
   },
   "outputs": [],
   "source": [
    "possible_type_list = ease.possible_type(avg_capacity)"
   ]
  },
  {
   "cell_type": "markdown",
   "metadata": {},
   "source": [
    "## 7.Test sort_and_pick"
   ]
  },
  {
   "cell_type": "code",
   "execution_count": 9,
   "metadata": {
    "collapsed": false
   },
   "outputs": [
    {
     "data": {
      "text/plain": [
       "[[-0.9042135788656452, 159063.21, 'Hydro'],\n",
       " [-0.8381135736702865, 149414.79999999996, 'Wind']]"
      ]
     },
     "execution_count": 9,
     "metadata": {},
     "output_type": "execute_result"
    }
   ],
   "source": [
    "conv, clean = ease.clean_or_conv([[0.95810457341493549, 3427272.05, 'Coal'],\n",
    " [-0.8923811497455455, 601160.0700000001, 'NG'],\n",
    " [0.99926594657247059, 132529.37000000002, 'Petro'],\n",
    " [-0.90421357886564524, 159063.21, 'Hydro'],\n",
    " [-0.83811357367028649, 149414.79999999996, 'Wind']])\n",
    "clean"
   ]
  },
  {
   "cell_type": "code",
   "execution_count": 16,
   "metadata": {
    "collapsed": false
   },
   "outputs": [
    {
     "data": {
      "text/plain": [
       "[-0.8381135736702865, 149414.79999999996, 'Wind']"
      ]
     },
     "execution_count": 16,
     "metadata": {},
     "output_type": "execute_result"
    }
   ],
   "source": [
    "ease.sort_and_pick(clean)"
   ]
  },
  {
   "cell_type": "code",
   "execution_count": 2,
   "metadata": {
    "collapsed": true
   },
   "outputs": [],
   "source": [
    "import unittest\n",
    "import pandas as pd\n",
    "import numpy as np\n",
    "import ease\n",
    "\n",
    "class TEST_sort_and_pick(unittest.TestCase):\n",
    "    \n",
    "    def test_sort_and_pick_input(self):\n",
    "        test = pd.read_csv('../Arranged_Data/test_dataset.csv')\n",
    "        prec = test.iloc[0,1]\n",
    "        ts = test.iloc[0,2]\n",
    "        tw = test.iloc[0,3]\n",
    "        ws = test.iloc[0,4]\n",
    "        vote = ease.rf(prec, ts, tw, ws)\n",
    "        avg_cap = ease.avg_capacity(vote)\n",
    "        conv, clean = ease.clean_or_conv(avg_cap) # TypeError: 'float' object is not subscriptable!!\n",
    "        output_conv = ease.sort_and_pick(conv)\n",
    "        output_clean = ease.sort_and_pick(clean)\n",
    "        # test input type\n",
    "        self.assertIsInstance(conv,list)\n",
    "        self.assertIsInstance(clean,list)\n",
    "        # test output type\n",
    "        self.assertIsInstance(ref,list)\n",
    "        # test if output clean energy is in output convetional list\n",
    "        for i in output_clean:\n",
    "            assertNotIn(i[-1],output_conv)"
   ]
  },
  {
   "cell_type": "code",
   "execution_count": 3,
   "metadata": {
    "collapsed": false
   },
   "outputs": [],
   "source": [
    "test = pd.read_csv('../Arranged_Data/test_dataset.csv')\n",
    "prec = test.iloc[22,1]\n",
    "ts = test.iloc[22,2]\n",
    "tw = test.iloc[22,3]\n",
    "ws = test.iloc[22,4]\n",
    "vote = ease.rf(prec, ts, tw, ws)\n",
    "avg_cap = ease.avg_capacity(vote)\n",
    "#conv, clean = ease.clean_or_conv(avg_cap)\n",
    "#conv"
   ]
  },
  {
   "cell_type": "code",
   "execution_count": null,
   "metadata": {
    "collapsed": true
   },
   "outputs": [],
   "source": []
  },
  {
   "cell_type": "markdown",
   "metadata": {},
   "source": [
    "## 8. Test suggest"
   ]
  },
  {
   "cell_type": "code",
   "execution_count": null,
   "metadata": {
    "collapsed": true
   },
   "outputs": [],
   "source": [
    "import unittest\n",
    "import pandas as pd\n",
    "import numpy as np\n",
    "import ease\n",
    "\n",
    "class TEST_suggest(unittest.TestCase):\n",
    "    def test_suggest_input(self):\n",
    "        test = pd.read_csv('../Arranged_Data/test_dataset.csv')\n",
    "        prec = test.iloc[0,1]\n",
    "        ts = test.iloc[0,2]\n",
    "        tw = test.iloc[0,3]\n",
    "        ws = test.iloc[0,4]\n",
    "        capacity = 5000\n",
    "        vote = ease.rf(prec, ts, tw, ws)\n",
    "\n",
    "    def test_suggest_output(self):\n",
    "        test = pd.read_csv('../Arranged_Data/test_dataset.csv')\n",
    "        prec = test.iloc[0,1]\n",
    "        ts = test.iloc[0,2]\n",
    "        tw = test.iloc[0,3]\n",
    "        ws = test.iloc[0,4]\n",
    "        capacity = 5000\n",
    "        vote = ease.rf(prec, ts, tw, ws)\n",
    "        avg_cap = ease.avg_capacity(vote)\n",
    "        possible_type_list = ease.possible_type(avg_cap)\n",
    "        conventional, clean = ease.clean_or_conv(possible_type_list)\n",
    "        conventional = ease.sort_and_pick(conventional)\n",
    "        clean = ease.sort_and_pick(clean)\n",
    "        \n",
    "        # test the type of input\n",
    "        \n",
    "        # test output\n",
    "        if len(clean) == 0:\n",
    "            self.assertEqual(revenue_clean,none)\n",
    "        if clean[1] >= capacity:\n",
    "            self.assertEqual(revenue_conv,none)\n",
    "        "
   ]
  }
 ],
 "metadata": {
  "anaconda-cloud": {},
  "kernelspec": {
   "display_name": "Python [conda root]",
   "language": "python",
   "name": "conda-root-py"
  },
  "language_info": {
   "codemirror_mode": {
    "name": "ipython",
    "version": 3
   },
   "file_extension": ".py",
   "mimetype": "text/x-python",
   "name": "python",
   "nbconvert_exporter": "python",
   "pygments_lexer": "ipython3",
   "version": "3.5.2"
  }
 },
 "nbformat": 4,
 "nbformat_minor": 2
}
