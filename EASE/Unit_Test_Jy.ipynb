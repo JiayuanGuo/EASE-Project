{
 "cells": [
  {
   "cell_type": "code",
   "execution_count": 5,
   "metadata": {
    "collapsed": false
   },
   "outputs": [],
   "source": [
    "import numpy as np\n",
    "import pandas as pd\n",
    "import matplotlib.pyplot as plt\n",
    "%matplotlib inline\n",
    "import ease\n",
    "import unittest"
   ]
  },
  {
   "cell_type": "code",
   "execution_count": 10,
   "metadata": {
    "collapsed": false
   },
   "outputs": [
    {
     "data": {
      "text/plain": [
       "100"
      ]
     },
     "execution_count": 10,
     "metadata": {},
     "output_type": "execute_result"
    }
   ],
   "source": [
    "#define test data \n",
    "df = pd.read_csv('../Arranged_Data/final_weater.csv')[[\n",
    "            'State', 'TotalMonthlyPrecip', 'TempSummer',\n",
    "            'TempWinter', 'Avgwindspeed']]\n",
    "df = df[df.State != 'DC']\n",
    "test = pd.DataFrame()\n",
    "#test sample size is 100\n",
    "sample = np.random.randint(0,1050,(1,100))\n",
    "for i in sample:\n",
    "    test = test.append(df.iloc[i])\n"
   ]
  },
  {
   "cell_type": "markdown",
   "metadata": {},
   "source": [
    "## Test rf"
   ]
  },
  {
   "cell_type": "code",
   "execution_count": 25,
   "metadata": {
    "collapsed": false
   },
   "outputs": [],
   "source": [
    "class TEST_RF(unittest.TestCase):\n",
    " \n",
    "    def test_rf_input(self):\n",
    "        prec = test.iloc[:,1]\n",
    "        ts = test.iloc[:,2]\n",
    "        tw = test.iloc[:,3]\n",
    "        ws = test.iloc[:,4]\n",
    "        #test the type of input dataset\n",
    "        self.assertIsInstance(prec,pd.Series)\n",
    "        self.assertIsInstance(ts,pd.Series)\n",
    "        self.assertIsInstance(tw,pd.Series)\n",
    "        self.assertIsInstance(ws,pd.Series)\n",
    "        #test the length of input dataset\n",
    "        self.assertEqual(len(prec), 100)\n",
    "        self.assertEqual(len(ts), 100)\n",
    "        self.assertEqual(len(tw), 100)\n",
    "        self.assertEqual(len(ws), 100)\n",
    "        #test the limitation of input dataset\n",
    "        with self.assertRaises(IOError):\n",
    "            ts > 100 or ts < tw or tw < 0\n",
    "        with self.assertRaises(IOError):\n",
    "            prec < 0 # only test lower limit\n",
    "        with self.assertRaises(IOError):\n",
    "            ws < 0 # only test lower limit\n",
    "\n",
    "    def test_rf_output(self):\n",
    "        prec = test.iloc[:,1]\n",
    "        ts = test.iloc[:,2]\n",
    "        tw = test.iloc[:,3]\n",
    "        ws = test.iloc[:,4]\n",
    "        output = ease.rf(prec, ts, tw, ws)\n",
    "        #test the type of output dataset\n",
    "        self.assertIsInstance(output,dict)\n",
    "        #test the output values\n",
    "        with self.assertRaises(ValueError):\n",
    "            for i in list(output.values()):\n",
    "                0 < i < 1\n"
   ]
  },
  {
   "cell_type": "markdown",
   "metadata": {},
   "source": [
    "## Test avg_capacity"
   ]
  },
  {
   "cell_type": "code",
   "execution_count": 29,
   "metadata": {
    "collapsed": true
   },
   "outputs": [],
   "source": [
    "def avg_capacity(vote):\n",
    "    average_plant_capacity = pd.read_csv('../Arranged_Data/average_plant_capacity.csv')\n",
    "    avg_cap_list = []\n",
    "    coal_sum = 0\n",
    "    ng_sum = 0\n",
    "    petro_sum = 0\n",
    "    hydro_sum = 0\n",
    "    solar_sum = 0\n",
    "    wind_sum =0\n",
    "    for i in vote.keys():\n",
    "        coal_sum += int(average_plant_capacity.Coal[average_plant_capacity.State == i]) * vote[i]\n",
    "        ng_sum += int(average_plant_capacity.NG[average_plant_capacity.State == i]) * vote[i]\n",
    "        petro_sum += int(average_plant_capacity.Petro[average_plant_capacity.State == i]) * vote[i]\n",
    "        hydro_sum += int(average_plant_capacity.Hydro[average_plant_capacity.State == i]) * vote[i]\n",
    "        solar_sum += int(average_plant_capacity.Solar[average_plant_capacity.State == i]) * vote[i]\n",
    "        wind_sum += int(average_plant_capacity.Wind[average_plant_capacity.State == i]) * vote[i]\n",
    "    return([coal_sum, ng_sum, petro_sum, hydro_sum, solar_sum, wind_sum])"
   ]
  },
  {
   "cell_type": "code",
   "execution_count": 18,
   "metadata": {
    "collapsed": true
   },
   "outputs": [],
   "source": [
    "vote = rf(3, 67, 30, 4)"
   ]
  },
  {
   "cell_type": "code",
   "execution_count": 34,
   "metadata": {
    "collapsed": false
   },
   "outputs": [
    {
     "data": {
      "text/plain": [
       "6"
      ]
     },
     "execution_count": 34,
     "metadata": {},
     "output_type": "execute_result"
    }
   ],
   "source": [
    "len(avg_capacity(vote))"
   ]
  },
  {
   "cell_type": "code",
   "execution_count": 35,
   "metadata": {
    "collapsed": true
   },
   "outputs": [],
   "source": [
    "class TEST_avg_capacity(unittest.TestCase):\n",
    "    average_plant_capacity = pd.read_csv('../Arranged_Data/average_plant_capacity.csv')\n",
    "    def test_avg_cap_input(self):\n",
    "        prec = test.iloc[:,1]\n",
    "        ts = test.iloc[:,2]\n",
    "        tw = test.iloc[:,3]\n",
    "        ws = test.iloc[:,4]\n",
    "        vote = rf(prec, ts, tw, ws)\n",
    "        output = avg_capacity(vote)\n",
    "        #test the type of output dataset\n",
    "        self.assertIsInstance(output,list)\n",
    "        #test the length of output dataset\n",
    "        self.assertEqual(len(output),6) #output list length is 6"
   ]
  }
 ],
 "metadata": {
  "anaconda-cloud": {},
  "kernelspec": {
   "display_name": "Python [conda root]",
   "language": "python",
   "name": "conda-root-py"
  },
  "language_info": {
   "codemirror_mode": {
    "name": "ipython",
    "version": 3
   },
   "file_extension": ".py",
   "mimetype": "text/x-python",
   "name": "python",
   "nbconvert_exporter": "python",
   "pygments_lexer": "ipython3",
   "version": "3.5.2"
  }
 },
 "nbformat": 4,
 "nbformat_minor": 2
}
