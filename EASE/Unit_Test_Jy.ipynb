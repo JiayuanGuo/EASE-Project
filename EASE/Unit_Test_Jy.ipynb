{
 "cells": [
  {
   "cell_type": "code",
   "execution_count": 24,
   "metadata": {
    "collapsed": false
   },
   "outputs": [],
   "source": [
    "import numpy as np\n",
    "import pandas as pd\n",
    "import matplotlib.pyplot as plt\n",
    "%matplotlib inline\n",
    "import ease"
   ]
  },
  {
   "cell_type": "code",
   "execution_count": 27,
   "metadata": {
    "collapsed": false
   },
   "outputs": [],
   "source": [
    "#define test data (100 rows)\n",
    "df = pd.read_csv('../Arranged_Data/final_weater.csv')[[\n",
    "            'State', 'TotalMonthlyPrecip', 'TempSummer',\n",
    "            'TempWinter', 'Avgwindspeed']]\n",
    "df = df[df.State != 'DC']\n",
    "test = pd.DataFrame()\n",
    "sample = np.random.randint(0,1050,(1,100))\n",
    "for i in sample:\n",
    "    test = sample_df.append(df.iloc[i])"
   ]
  },
  {
   "cell_type": "markdown",
   "metadata": {},
   "source": [
    "## Test rf"
   ]
  },
  {
   "cell_type": "code",
   "execution_count": 36,
   "metadata": {
    "collapsed": false
   },
   "outputs": [],
   "source": [
    "import unittest\n",
    "class TEST_RF(unittest.TestCase):\n",
    " \n",
    "    def test_rf_input(self):\n",
    "        prec = test.iloc[:,1]\n",
    "        ts = test.iloc[:,2]\n",
    "        tw = test.iloc[:,3]\n",
    "        ws = test.iloc[:,4]\n",
    "        #test the shape, size, type of input dataset\n",
    "        self.assertIsInstance(prec,pd.Series)#input type\n",
    "        with self.assertRaises(IOError):#temp input limitation\n",
    "            ts > 90 or ts < tw or tw < 0\n",
    "        with self.assertRaises(IOError):#prep input limitation\n",
    "            prec < 0 # only test lower limit\n",
    "        with self.assertRaises(IOError):#windspeed input limitation\n",
    "            ws < 0 # only test lower limit\n",
    "\n",
    "    def test_rf_output(self):\n",
    "        prec = test.iloc[:,1]\n",
    "        ts = test.iloc[:,2]\n",
    "        tw = test.iloc[:,3]\n",
    "        ws = test.iloc[:,4]\n",
    "        #test the shape, size, type of output dataset\n",
    "        output = ease.rf(prec, ts, tw, ws)\n",
    "        self.assertIsInstance(output,dict)#output type\n",
    "\n",
    "if __name__ == '__main__':\n",
    "    unittest.main()"
   ]
  },
  {
   "cell_type": "markdown",
   "metadata": {},
   "source": [
    "## Test avg_capacity"
   ]
  },
  {
   "cell_type": "code",
   "execution_count": 29,
   "metadata": {
    "collapsed": true
   },
   "outputs": [],
   "source": [
    "def avg_capacity(vote):\n",
    "    average_plant_capacity = pd.read_csv('../Arranged_Data/average_plant_capacity.csv')\n",
    "    avg_cap_list = []\n",
    "    coal_sum = 0\n",
    "    ng_sum = 0\n",
    "    petro_sum = 0\n",
    "    hydro_sum = 0\n",
    "    solar_sum = 0\n",
    "    wind_sum =0\n",
    "    for i in vote.keys():\n",
    "        coal_sum += int(average_plant_capacity.Coal[average_plant_capacity.State == i]) * vote[i]\n",
    "        ng_sum += int(average_plant_capacity.NG[average_plant_capacity.State == i]) * vote[i]\n",
    "        petro_sum += int(average_plant_capacity.Petro[average_plant_capacity.State == i]) * vote[i]\n",
    "        hydro_sum += int(average_plant_capacity.Hydro[average_plant_capacity.State == i]) * vote[i]\n",
    "        solar_sum += int(average_plant_capacity.Solar[average_plant_capacity.State == i]) * vote[i]\n",
    "        wind_sum += int(average_plant_capacity.Wind[average_plant_capacity.State == i]) * vote[i]\n",
    "    return([coal_sum, ng_sum, petro_sum, hydro_sum, solar_sum, wind_sum])"
   ]
  },
  {
   "cell_type": "code",
   "execution_count": 18,
   "metadata": {
    "collapsed": true
   },
   "outputs": [],
   "source": [
    "vote = rf(3, 67, 30, 4)"
   ]
  },
  {
   "cell_type": "code",
   "execution_count": 34,
   "metadata": {
    "collapsed": false
   },
   "outputs": [
    {
     "data": {
      "text/plain": [
       "6"
      ]
     },
     "execution_count": 34,
     "metadata": {},
     "output_type": "execute_result"
    }
   ],
   "source": [
    "len(avg_capacity(vote))"
   ]
  },
  {
   "cell_type": "code",
   "execution_count": 35,
   "metadata": {
    "collapsed": true
   },
   "outputs": [],
   "source": [
    "class TEST_avg_capacity(unittest.TestCase):\n",
    "    average_plant_capacity = pd.read_csv('../Arranged_Data/average_plant_capacity.csv')\n",
    "    def test_avg_cap_input(self):\n",
    "        prec = test.iloc[:,1]\n",
    "        ts = test.iloc[:,2]\n",
    "        tw = test.iloc[:,3]\n",
    "        ws = test.iloc[:,4]\n",
    "        vote = rf(prec, ts, tw, ws)\n",
    "        #test the shape, size, type of output dataset\n",
    "        output = avg_capacity(vote)\n",
    "        self.assertIsInstance(output,list)#output type is a list\n",
    "        self.assertEqual(len(output),6) #output list length is 6"
   ]
  }
 ],
 "metadata": {
  "anaconda-cloud": {},
  "kernelspec": {
   "display_name": "Python [conda root]",
   "language": "python",
   "name": "conda-root-py"
  },
  "language_info": {
   "codemirror_mode": {
    "name": "ipython",
    "version": 3
   },
   "file_extension": ".py",
   "mimetype": "text/x-python",
   "name": "python",
   "nbconvert_exporter": "python",
   "pygments_lexer": "ipython3",
   "version": "3.5.2"
  }
 },
 "nbformat": 4,
 "nbformat_minor": 2
}
