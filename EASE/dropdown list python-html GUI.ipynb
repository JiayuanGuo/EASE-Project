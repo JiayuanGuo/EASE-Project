{
 "cells": [
  {
   "cell_type": "code",
   "execution_count": 50,
   "metadata": {
    "collapsed": false
   },
   "outputs": [],
   "source": [
    "import ipywidgets as widgets\n",
    "from IPython.display import display"
   ]
  },
  {
   "cell_type": "code",
   "execution_count": 52,
   "metadata": {
    "collapsed": false
   },
   "outputs": [],
   "source": [
    "#Prep_choice = [level_1, level_2, level_3, level_4, level_5, level_6, level_7]\n",
    "\n",
    "items_layout = Layout(flex='1 1 auto',width='auto')\n",
    "widgets.Dropdown(\n",
    "    options={\"Almost never rain\": 1, 'A few days a year': 2, 'A few weeks a year': 3, 'A few months a year': 4, 'Half of the time': 5, 'More than half of the time': 6, 'Almost every single day': 7},\n",
    "    description='Rain?:',\n",
    "    \n",
    ")"
   ]
  },
  {
   "cell_type": "code",
   "execution_count": 5,
   "metadata": {
    "collapsed": true
   },
   "outputs": [],
   "source": [
    "#Prompting user to select the temperature data\n",
    "#def GUI()\n",
    "widgets.FloatSlider(\n",
    "    value=7.5,\n",
    "    min=0,\n",
    "    max=120,\n",
    "    step=0.1,\n",
    "    description='Local Average Summer Temperature (F):',\n",
    "    disabled=False,\n",
    "    continuous_update=False,\n",
    "    orientation='horizontal',\n",
    "    readout=True,\n",
    "    readout_format='.1f',\n",
    "    slider_color='white'\n",
    ")"
   ]
  },
  {
   "cell_type": "code",
   "execution_count": 49,
   "metadata": {
    "collapsed": false
   },
   "outputs": [
    {
     "name": "stdout",
     "output_type": "stream",
     "text": [
      "Button clicked.\n"
     ]
    }
   ],
   "source": [
    "def on_button_clicked(b):\n",
    "    print(\"Button clicked.\")\n",
    "\n",
    "button = widgets.Button(description=\"Click Me!\")\n",
    "display(button)\n",
    "\n",
    "button.on_click(on_button_clicked)"
   ]
  },
  {
   "cell_type": "code",
   "execution_count": 48,
   "metadata": {
    "collapsed": false
   },
   "outputs": [],
   "source": [
    "from ipywidgets import Layout, Button, Box\n",
    "\n",
    "# override the default width of the button to 'auto' to let the button grow\n",
    "items_layout = Layout(flex='1 1 auto',width='auto') \n",
    "\n",
    "box_layout = Layout(display='inline-flex',\n",
    "                    flex_flow='column',\n",
    "                    align_items='stretch',\n",
    "                    border='dot',\n",
    "                    width='40%')\n",
    "\n",
    "words = ['Almost never rain', 'A few days a year', 'A few weeks a year', 'A few months a year', \n",
    "         'Half of the time', 'More than half of the time', 'Almost every single day']\n",
    "\n",
    "items = [Button(description = w, layout = items_layout, button_style = 'success') for w in words]\n",
    "box = Box(children = items, layout = box_layout)\n",
    "box"
   ]
  },
  {
   "cell_type": "code",
   "execution_count": null,
   "metadata": {
    "collapsed": false
   },
   "outputs": [],
   "source": []
  },
  {
   "cell_type": "code",
   "execution_count": null,
   "metadata": {
    "collapsed": false
   },
   "outputs": [],
   "source": []
  }
 ],
 "metadata": {
  "anaconda-cloud": {},
  "kernelspec": {
   "display_name": "Python [default]",
   "language": "python",
   "name": "python3"
  },
  "language_info": {
   "codemirror_mode": {
    "name": "ipython",
    "version": 3
   },
   "file_extension": ".py",
   "mimetype": "text/x-python",
   "name": "python",
   "nbconvert_exporter": "python",
   "pygments_lexer": "ipython3",
   "version": "3.5.2"
  },
  "widgets": {
   "state": {
    "049f170c1f594f7bbb73582a764df7fe": {
     "views": [
      {
       "cell_index": 3
      }
     ]
    },
    "90da9cfbf0144fe587192a9fcd9fe5a5": {
     "views": [
      {
       "cell_index": 3
      }
     ]
    },
    "a488f2b7c56f4cd1b127bbb38927d9ea": {
     "views": [
      {
       "cell_index": 5
      }
     ]
    },
    "d08ee1e7430c4b00be17f45a9e31697d": {
     "views": [
      {
       "cell_index": 1
      }
     ]
    }
   },
   "version": "1.2.0"
  }
 },
 "nbformat": 4,
 "nbformat_minor": 2
}
